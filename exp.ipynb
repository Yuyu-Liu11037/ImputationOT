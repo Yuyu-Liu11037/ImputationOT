{
 "cells": [
  {
   "cell_type": "code",
   "execution_count": 2,
   "id": "6df0732e-ffc5-4b40-bac4-100530bac3ec",
   "metadata": {},
   "outputs": [],
   "source": [
    "import numpy as np\n",
    "import torch\n",
    "import torch.nn as nn\n",
    "import torch.optim as optim\n",
    "import pandas as pd\n",
    "import ot\n",
    "import sys\n",
    "import scanpy as sc\n",
    "import anndata as ad\n",
    "import os\n",
    "import tarfile\n",
    "import scipy.io\n",
    "from scipy import io\n",
    "from scipy.sparse import issparse\n",
    "from scipy.sparse import csr_matrix"
   ]
  },
  {
   "cell_type": "code",
   "execution_count": 3,
   "id": "d81146ba-458f-4325-9ad5-39c6b5c18bd4",
   "metadata": {},
   "outputs": [
    {
     "name": "stdout",
     "output_type": "stream",
     "text": [
      "AnnData object with n_obs × n_vars = 97499 × 22572\n",
      "    obs: 'n_genes', 'n_counts', 'Batch', 'Donor_ID', 'Sample_ID', 'SARS-CoV-2_PCR', 'Group', 'Annotation'\n",
      "    var: 'gene_ids', 'feature_types', 'n_cells'\n",
      "    obsm: 'X_umap'\n"
     ]
    }
   ],
   "source": [
    "adata = ad.read_h5ad('/workspace/ImputationOT/data/vento_pbmc_processed.h5ad')\n",
    "print(adata)"
   ]
  },
  {
   "cell_type": "code",
   "execution_count": 15,
   "id": "f895723d-3d41-4584-8c66-c71779f69f8b",
   "metadata": {},
   "outputs": [
    {
     "name": "stdout",
     "output_type": "stream",
     "text": [
      "GEX data\n",
      "Matrix Shape: (97499, 22572)\n",
      "Density: 0.07210065361484998\n",
      "Minimum Value: 0.0\n",
      "Maximum Value: 9.150005\n"
     ]
    }
   ],
   "source": [
    "X = adata.X\n",
    "print(\"GEX data\")\n",
    "print(\"Matrix Shape:\", X.shape)\n",
    "# print(\"Density:\", np.count_nonzero(X) / (X.shape[0] * X.shape[1]))\n",
    "print(\"Density:\", X.nnz / (X.shape[0] * X.shape[1]))\n",
    "print(\"Minimum Value:\", X.min())\n",
    "print(\"Maximum Value:\", X.max())"
   ]
  },
  {
   "cell_type": "code",
   "execution_count": 4,
   "id": "bb3110d1-82c1-48c8-a66a-40bfdc21ac38",
   "metadata": {},
   "outputs": [
    {
     "name": "stdout",
     "output_type": "stream",
     "text": [
      "Batch\n",
      "1    13086\n",
      "8    12745\n",
      "7    11752\n",
      "6    11170\n",
      "5    11017\n",
      "4    10553\n",
      "9    10315\n",
      "2     8618\n",
      "3     8243\n",
      "Name: count, dtype: int64\n"
     ]
    }
   ],
   "source": [
    "batch_counts = adata.obs['Batch'].value_counts()\n",
    "print(batch_counts)"
   ]
  },
  {
   "cell_type": "code",
   "execution_count": 17,
   "id": "1fd21bd5-b755-41b9-93f6-46906a13af56",
   "metadata": {},
   "outputs": [
    {
     "name": "stdout",
     "output_type": "stream",
     "text": [
      "28\n",
      "RV8919578_AAACCTGAGAAACCTA-1    NK CD56(bright)\n",
      "RV8919578_AAACCTGAGAGCAATT-1            Naïve B\n",
      "RV8919578_AAACCTGAGAGCTGGT-1                pDC\n",
      "RV8919578_AAACCTGAGCGAAGGG-1       NK CD56(dim)\n",
      "RV8919578_AAACCTGAGCGATGAC-1    NK CD56(bright)\n",
      "                                     ...       \n",
      "RV8959686_TTTGTCAGTATGAATG-1        CD4 naïve T\n",
      "RV8959686_TTTGTCAGTCGGCATC-1            Naïve B\n",
      "RV8959686_TTTGTCAGTGACAAAT-1    NK CD56(bright)\n",
      "RV8959686_TTTGTCAGTTGCCTCT-1        CD4 naïve T\n",
      "RV8959686_TTTGTCATCAGTCCCT-1          Platelets\n",
      "Name: Annotation, Length: 97499, dtype: category\n",
      "Categories (28, object): ['CD4 memory T', 'CD4 naïve T', 'CD8 memory T', 'CD8 naïve T', ..., 'cDC2', 'cDC3', 'pDC', 'γδT']\n"
     ]
    }
   ],
   "source": [
    "print(len(adata.obs['Annotation'].unique()))\n",
    "print(adata.obs['Annotation'])"
   ]
  },
  {
   "cell_type": "code",
   "execution_count": 16,
   "id": "3cc84df2-f5a4-42cf-9034-0dd12413f21e",
   "metadata": {},
   "outputs": [
    {
     "name": "stdout",
     "output_type": "stream",
     "text": [
      "9\n",
      "RV8919578_AAACCTGAGAAACCTA-1    1\n",
      "RV8919578_AAACCTGAGAGCAATT-1    1\n",
      "RV8919578_AAACCTGAGAGCTGGT-1    1\n",
      "RV8919578_AAACCTGAGCGAAGGG-1    1\n",
      "RV8919578_AAACCTGAGCGATGAC-1    1\n",
      "                               ..\n",
      "RV8959686_TTTGTCAGTATGAATG-1    9\n",
      "RV8959686_TTTGTCAGTCGGCATC-1    9\n",
      "RV8959686_TTTGTCAGTGACAAAT-1    9\n",
      "RV8959686_TTTGTCAGTTGCCTCT-1    9\n",
      "RV8959686_TTTGTCATCAGTCCCT-1    9\n",
      "Name: Batch, Length: 97499, dtype: category\n",
      "Categories (9, object): ['1', '2', '3', '4', ..., '6', '7', '8', '9']\n"
     ]
    }
   ],
   "source": [
    "print(len(adata.obs['Batch'].unique()))\n",
    "print(adata.obs['Batch'])"
   ]
  },
  {
   "cell_type": "code",
   "execution_count": null,
   "id": "33614bc8-ffdf-4626-9732-7c06feda83d2",
   "metadata": {},
   "outputs": [],
   "source": []
  }
 ],
 "metadata": {
  "kernelspec": {
   "display_name": "Python 3 (ipykernel)",
   "language": "python",
   "name": "python3"
  },
  "language_info": {
   "codemirror_mode": {
    "name": "ipython",
    "version": 3
   },
   "file_extension": ".py",
   "mimetype": "text/x-python",
   "name": "python",
   "nbconvert_exporter": "python",
   "pygments_lexer": "ipython3",
   "version": "3.10.13"
  }
 },
 "nbformat": 4,
 "nbformat_minor": 5
}
