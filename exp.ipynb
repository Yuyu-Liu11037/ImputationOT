{
 "cells": [
  {
   "cell_type": "code",
   "execution_count": 3,
   "id": "6df0732e-ffc5-4b40-bac4-100530bac3ec",
   "metadata": {},
   "outputs": [],
   "source": [
    "import numpy as np\n",
    "import torch\n",
    "import torch.nn as nn\n",
    "import torch.optim as optim\n",
    "import pandas as pd\n",
    "import ot\n",
    "import sys\n",
    "import scanpy as sc\n",
    "import anndata as ad\n",
    "import os\n",
    "import tarfile\n",
    "import scipy.io\n",
    "from scipy.sparse import issparse\n",
    "from scipy.sparse import csr_matrix"
   ]
  },
  {
   "cell_type": "code",
   "execution_count": 4,
   "id": "d600aca9-ab75-46b3-a6ea-dd9053ad471a",
   "metadata": {},
   "outputs": [],
   "source": [
    "data_path = \"/workspace/ImputationOT/data\"\n",
    "\n",
    "# 加载RNA数据\n",
    "rna_3p_barcodes = pd.read_csv(os.path.join(data_path, 'GSM5008737_RNA_3P-barcodes.tsv.gz'), header=None)\n",
    "rna_3p_features = pd.read_csv(os.path.join(data_path, 'GSM5008737_RNA_3P-features.tsv.gz'), header=None)\n",
    "rna_3p_matrix = scipy.io.mmread(os.path.join(data_path, 'GSM5008737_RNA_3P-matrix.mtx.gz')).tocsr()\n",
    "\n",
    "# 加载ADT数据\n",
    "adt_3p_barcodes = pd.read_csv(os.path.join(data_path, 'GSM5008738_ADT_3P-barcodes.tsv.gz'), header=None)\n",
    "adt_3p_features = pd.read_csv(os.path.join(data_path, 'GSM5008738_ADT_3P-features.tsv.gz'), header=None)\n",
    "adt_3p_matrix = scipy.io.mmread(os.path.join(data_path, 'GSM5008738_ADT_3P-matrix.mtx.gz')).tocsr()\n",
    "\n",
    "# 加载HTO数据\n",
    "hto_3p_barcodes = pd.read_csv(os.path.join(data_path, 'GSM5008739_HTO_3P-barcodes.tsv.gz'), header=None)\n",
    "hto_3p_features = pd.read_csv(os.path.join(data_path, 'GSM5008739_HTO_3P-features.tsv.gz'), header=None)\n",
    "hto_3p_matrix = scipy.io.mmread(os.path.join(data_path, 'GSM5008739_HTO_3P-matrix.mtx.gz')).tocsr()\n",
    "\n",
    "# 加载元数据\n",
    "meta_data_3p = pd.read_csv(os.path.join(data_path, 'GSE164378_sc.meta.data_3P.csv.gz'))"
   ]
  },
  {
   "cell_type": "code",
   "execution_count": 14,
   "id": "a9be962d-4d43-48ef-bab0-6824ebed3e79",
   "metadata": {},
   "outputs": [
    {
     "ename": "TypeError",
     "evalue": "Can't implicitly convert non-string objects to strings",
     "output_type": "error",
     "traceback": [
      "\u001b[0;31m---------------------------------------------------------------------------\u001b[0m",
      "\u001b[0;31mTypeError\u001b[0m                                 Traceback (most recent call last)",
      "Cell \u001b[0;32mIn[14], line 21\u001b[0m\n\u001b[1;32m     18\u001b[0m         rna_adata\u001b[38;5;241m.\u001b[39mobs[col] \u001b[38;5;241m=\u001b[39m rna_adata\u001b[38;5;241m.\u001b[39mobs[col]\u001b[38;5;241m.\u001b[39mastype(\u001b[38;5;28mstr\u001b[39m)\n\u001b[1;32m     20\u001b[0m rna_adata\u001b[38;5;241m.\u001b[39mobs \u001b[38;5;241m=\u001b[39m rna_adata\u001b[38;5;241m.\u001b[39mobs\u001b[38;5;241m.\u001b[39mmerge(meta_data_3p, left_index\u001b[38;5;241m=\u001b[39m\u001b[38;5;28;01mTrue\u001b[39;00m, right_index\u001b[38;5;241m=\u001b[39m\u001b[38;5;28;01mTrue\u001b[39;00m, how\u001b[38;5;241m=\u001b[39m\u001b[38;5;124m'\u001b[39m\u001b[38;5;124mleft\u001b[39m\u001b[38;5;124m'\u001b[39m)\n\u001b[0;32m---> 21\u001b[0m \u001b[43mrna_adata\u001b[49m\u001b[38;5;241;43m.\u001b[39;49m\u001b[43mwrite\u001b[49m\u001b[43m(\u001b[49m\u001b[43mos\u001b[49m\u001b[38;5;241;43m.\u001b[39;49m\u001b[43mpath\u001b[49m\u001b[38;5;241;43m.\u001b[39;49m\u001b[43mjoin\u001b[49m\u001b[43m(\u001b[49m\u001b[43mdata_path\u001b[49m\u001b[43m,\u001b[49m\u001b[43m \u001b[49m\u001b[38;5;124;43m'\u001b[39;49m\u001b[38;5;124;43m3p.h5ad\u001b[39;49m\u001b[38;5;124;43m'\u001b[39;49m\u001b[43m)\u001b[49m\u001b[43m)\u001b[49m\n",
      "File \u001b[0;32m/opt/conda/lib/python3.10/site-packages/anndata/_core/anndata.py:1929\u001b[0m, in \u001b[0;36mAnnData.write_h5ad\u001b[0;34m(self, filename, compression, compression_opts, as_dense)\u001b[0m\n\u001b[1;32m   1926\u001b[0m \u001b[38;5;28;01mif\u001b[39;00m filename \u001b[38;5;129;01mis\u001b[39;00m \u001b[38;5;28;01mNone\u001b[39;00m:\n\u001b[1;32m   1927\u001b[0m     filename \u001b[38;5;241m=\u001b[39m \u001b[38;5;28mself\u001b[39m\u001b[38;5;241m.\u001b[39mfilename\n\u001b[0;32m-> 1929\u001b[0m \u001b[43mwrite_h5ad\u001b[49m\u001b[43m(\u001b[49m\n\u001b[1;32m   1930\u001b[0m \u001b[43m    \u001b[49m\u001b[43mPath\u001b[49m\u001b[43m(\u001b[49m\u001b[43mfilename\u001b[49m\u001b[43m)\u001b[49m\u001b[43m,\u001b[49m\n\u001b[1;32m   1931\u001b[0m \u001b[43m    \u001b[49m\u001b[38;5;28;43mself\u001b[39;49m\u001b[43m,\u001b[49m\n\u001b[1;32m   1932\u001b[0m \u001b[43m    \u001b[49m\u001b[43mcompression\u001b[49m\u001b[38;5;241;43m=\u001b[39;49m\u001b[43mcompression\u001b[49m\u001b[43m,\u001b[49m\n\u001b[1;32m   1933\u001b[0m \u001b[43m    \u001b[49m\u001b[43mcompression_opts\u001b[49m\u001b[38;5;241;43m=\u001b[39;49m\u001b[43mcompression_opts\u001b[49m\u001b[43m,\u001b[49m\n\u001b[1;32m   1934\u001b[0m \u001b[43m    \u001b[49m\u001b[43mas_dense\u001b[49m\u001b[38;5;241;43m=\u001b[39;49m\u001b[43mas_dense\u001b[49m\u001b[43m,\u001b[49m\n\u001b[1;32m   1935\u001b[0m \u001b[43m\u001b[49m\u001b[43m)\u001b[49m\n\u001b[1;32m   1937\u001b[0m \u001b[38;5;28;01mif\u001b[39;00m \u001b[38;5;28mself\u001b[39m\u001b[38;5;241m.\u001b[39misbacked:\n\u001b[1;32m   1938\u001b[0m     \u001b[38;5;28mself\u001b[39m\u001b[38;5;241m.\u001b[39mfile\u001b[38;5;241m.\u001b[39mfilename \u001b[38;5;241m=\u001b[39m filename\n",
      "File \u001b[0;32m/opt/conda/lib/python3.10/site-packages/anndata/_io/h5ad.py:104\u001b[0m, in \u001b[0;36mwrite_h5ad\u001b[0;34m(filepath, adata, as_dense, dataset_kwargs, **kwargs)\u001b[0m\n\u001b[1;32m    102\u001b[0m \u001b[38;5;28;01melif\u001b[39;00m adata\u001b[38;5;241m.\u001b[39mraw \u001b[38;5;129;01mis\u001b[39;00m \u001b[38;5;129;01mnot\u001b[39;00m \u001b[38;5;28;01mNone\u001b[39;00m:\n\u001b[1;32m    103\u001b[0m     write_elem(f, \u001b[38;5;124m\"\u001b[39m\u001b[38;5;124mraw\u001b[39m\u001b[38;5;124m\"\u001b[39m, adata\u001b[38;5;241m.\u001b[39mraw, dataset_kwargs\u001b[38;5;241m=\u001b[39mdataset_kwargs)\n\u001b[0;32m--> 104\u001b[0m \u001b[43mwrite_elem\u001b[49m\u001b[43m(\u001b[49m\u001b[43mf\u001b[49m\u001b[43m,\u001b[49m\u001b[43m \u001b[49m\u001b[38;5;124;43m\"\u001b[39;49m\u001b[38;5;124;43mobs\u001b[39;49m\u001b[38;5;124;43m\"\u001b[39;49m\u001b[43m,\u001b[49m\u001b[43m \u001b[49m\u001b[43madata\u001b[49m\u001b[38;5;241;43m.\u001b[39;49m\u001b[43mobs\u001b[49m\u001b[43m,\u001b[49m\u001b[43m \u001b[49m\u001b[43mdataset_kwargs\u001b[49m\u001b[38;5;241;43m=\u001b[39;49m\u001b[43mdataset_kwargs\u001b[49m\u001b[43m)\u001b[49m\n\u001b[1;32m    105\u001b[0m write_elem(f, \u001b[38;5;124m\"\u001b[39m\u001b[38;5;124mvar\u001b[39m\u001b[38;5;124m\"\u001b[39m, adata\u001b[38;5;241m.\u001b[39mvar, dataset_kwargs\u001b[38;5;241m=\u001b[39mdataset_kwargs)\n\u001b[1;32m    106\u001b[0m write_elem(f, \u001b[38;5;124m\"\u001b[39m\u001b[38;5;124mobsm\u001b[39m\u001b[38;5;124m\"\u001b[39m, \u001b[38;5;28mdict\u001b[39m(adata\u001b[38;5;241m.\u001b[39mobsm), dataset_kwargs\u001b[38;5;241m=\u001b[39mdataset_kwargs)\n",
      "File \u001b[0;32m/opt/conda/lib/python3.10/site-packages/anndata/_io/specs/registry.py:359\u001b[0m, in \u001b[0;36mwrite_elem\u001b[0;34m(store, k, elem, dataset_kwargs)\u001b[0m\n\u001b[1;32m    335\u001b[0m \u001b[38;5;28;01mdef\u001b[39;00m \u001b[38;5;21mwrite_elem\u001b[39m(\n\u001b[1;32m    336\u001b[0m     store: GroupStorageType,\n\u001b[1;32m    337\u001b[0m     k: \u001b[38;5;28mstr\u001b[39m,\n\u001b[0;32m   (...)\u001b[0m\n\u001b[1;32m    340\u001b[0m     dataset_kwargs: Mapping[\u001b[38;5;28mstr\u001b[39m, Any] \u001b[38;5;241m=\u001b[39m MappingProxyType({}),\n\u001b[1;32m    341\u001b[0m ) \u001b[38;5;241m-\u001b[39m\u001b[38;5;241m>\u001b[39m \u001b[38;5;28;01mNone\u001b[39;00m:\n\u001b[1;32m    342\u001b[0m \u001b[38;5;250m    \u001b[39m\u001b[38;5;124;03m\"\"\"\u001b[39;00m\n\u001b[1;32m    343\u001b[0m \u001b[38;5;124;03m    Write an element to a storage group using anndata encoding.\u001b[39;00m\n\u001b[1;32m    344\u001b[0m \n\u001b[0;32m   (...)\u001b[0m\n\u001b[1;32m    357\u001b[0m \u001b[38;5;124;03m        E.g. for zarr this would be `chunks`, `compressor`.\u001b[39;00m\n\u001b[1;32m    358\u001b[0m \u001b[38;5;124;03m    \"\"\"\u001b[39;00m\n\u001b[0;32m--> 359\u001b[0m     \u001b[43mWriter\u001b[49m\u001b[43m(\u001b[49m\u001b[43m_REGISTRY\u001b[49m\u001b[43m)\u001b[49m\u001b[38;5;241;43m.\u001b[39;49m\u001b[43mwrite_elem\u001b[49m\u001b[43m(\u001b[49m\u001b[43mstore\u001b[49m\u001b[43m,\u001b[49m\u001b[43m \u001b[49m\u001b[43mk\u001b[49m\u001b[43m,\u001b[49m\u001b[43m \u001b[49m\u001b[43melem\u001b[49m\u001b[43m,\u001b[49m\u001b[43m \u001b[49m\u001b[43mdataset_kwargs\u001b[49m\u001b[38;5;241;43m=\u001b[39;49m\u001b[43mdataset_kwargs\u001b[49m\u001b[43m)\u001b[49m\n",
      "File \u001b[0;32m/opt/conda/lib/python3.10/site-packages/anndata/_io/utils.py:243\u001b[0m, in \u001b[0;36mreport_write_key_on_error.<locals>.func_wrapper\u001b[0;34m(*args, **kwargs)\u001b[0m\n\u001b[1;32m    241\u001b[0m     \u001b[38;5;28;01mraise\u001b[39;00m \u001b[38;5;167;01mValueError\u001b[39;00m(\u001b[38;5;124m\"\u001b[39m\u001b[38;5;124mNo element found in args.\u001b[39m\u001b[38;5;124m\"\u001b[39m)\n\u001b[1;32m    242\u001b[0m \u001b[38;5;28;01mtry\u001b[39;00m:\n\u001b[0;32m--> 243\u001b[0m     \u001b[38;5;28;01mreturn\u001b[39;00m \u001b[43mfunc\u001b[49m\u001b[43m(\u001b[49m\u001b[38;5;241;43m*\u001b[39;49m\u001b[43margs\u001b[49m\u001b[43m,\u001b[49m\u001b[43m \u001b[49m\u001b[38;5;241;43m*\u001b[39;49m\u001b[38;5;241;43m*\u001b[39;49m\u001b[43mkwargs\u001b[49m\u001b[43m)\u001b[49m\n\u001b[1;32m    244\u001b[0m \u001b[38;5;28;01mexcept\u001b[39;00m \u001b[38;5;167;01mException\u001b[39;00m \u001b[38;5;28;01mas\u001b[39;00m e:\n\u001b[1;32m    245\u001b[0m     path \u001b[38;5;241m=\u001b[39m _get_display_path(store)\n",
      "File \u001b[0;32m/opt/conda/lib/python3.10/site-packages/anndata/_io/specs/registry.py:309\u001b[0m, in \u001b[0;36mWriter.write_elem\u001b[0;34m(self, store, k, elem, dataset_kwargs, modifiers)\u001b[0m\n\u001b[1;32m    303\u001b[0m write_func \u001b[38;5;241m=\u001b[39m partial(\n\u001b[1;32m    304\u001b[0m     \u001b[38;5;28mself\u001b[39m\u001b[38;5;241m.\u001b[39mfind_writer(dest_type, elem, modifiers),\n\u001b[1;32m    305\u001b[0m     _writer\u001b[38;5;241m=\u001b[39m\u001b[38;5;28mself\u001b[39m,\n\u001b[1;32m    306\u001b[0m )\n\u001b[1;32m    308\u001b[0m \u001b[38;5;28;01mif\u001b[39;00m \u001b[38;5;28mself\u001b[39m\u001b[38;5;241m.\u001b[39mcallback \u001b[38;5;129;01mis\u001b[39;00m \u001b[38;5;28;01mNone\u001b[39;00m:\n\u001b[0;32m--> 309\u001b[0m     \u001b[38;5;28;01mreturn\u001b[39;00m \u001b[43mwrite_func\u001b[49m\u001b[43m(\u001b[49m\u001b[43mstore\u001b[49m\u001b[43m,\u001b[49m\u001b[43m \u001b[49m\u001b[43mk\u001b[49m\u001b[43m,\u001b[49m\u001b[43m \u001b[49m\u001b[43melem\u001b[49m\u001b[43m,\u001b[49m\u001b[43m \u001b[49m\u001b[43mdataset_kwargs\u001b[49m\u001b[38;5;241;43m=\u001b[39;49m\u001b[43mdataset_kwargs\u001b[49m\u001b[43m)\u001b[49m\n\u001b[1;32m    310\u001b[0m \u001b[38;5;28;01mreturn\u001b[39;00m \u001b[38;5;28mself\u001b[39m\u001b[38;5;241m.\u001b[39mcallback(\n\u001b[1;32m    311\u001b[0m     write_func,\n\u001b[1;32m    312\u001b[0m     store,\n\u001b[0;32m   (...)\u001b[0m\n\u001b[1;32m    316\u001b[0m     iospec\u001b[38;5;241m=\u001b[39m\u001b[38;5;28mself\u001b[39m\u001b[38;5;241m.\u001b[39mregistry\u001b[38;5;241m.\u001b[39mget_spec(elem),\n\u001b[1;32m    317\u001b[0m )\n",
      "File \u001b[0;32m/opt/conda/lib/python3.10/site-packages/anndata/_io/specs/registry.py:57\u001b[0m, in \u001b[0;36mwrite_spec.<locals>.decorator.<locals>.wrapper\u001b[0;34m(g, k, *args, **kwargs)\u001b[0m\n\u001b[1;32m     55\u001b[0m \u001b[38;5;129m@wraps\u001b[39m(func)\n\u001b[1;32m     56\u001b[0m \u001b[38;5;28;01mdef\u001b[39;00m \u001b[38;5;21mwrapper\u001b[39m(g: GroupStorageType, k: \u001b[38;5;28mstr\u001b[39m, \u001b[38;5;241m*\u001b[39margs, \u001b[38;5;241m*\u001b[39m\u001b[38;5;241m*\u001b[39mkwargs):\n\u001b[0;32m---> 57\u001b[0m     result \u001b[38;5;241m=\u001b[39m \u001b[43mfunc\u001b[49m\u001b[43m(\u001b[49m\u001b[43mg\u001b[49m\u001b[43m,\u001b[49m\u001b[43m \u001b[49m\u001b[43mk\u001b[49m\u001b[43m,\u001b[49m\u001b[43m \u001b[49m\u001b[38;5;241;43m*\u001b[39;49m\u001b[43margs\u001b[49m\u001b[43m,\u001b[49m\u001b[43m \u001b[49m\u001b[38;5;241;43m*\u001b[39;49m\u001b[38;5;241;43m*\u001b[39;49m\u001b[43mkwargs\u001b[49m\u001b[43m)\u001b[49m\n\u001b[1;32m     58\u001b[0m     g[k]\u001b[38;5;241m.\u001b[39mattrs\u001b[38;5;241m.\u001b[39msetdefault(\u001b[38;5;124m\"\u001b[39m\u001b[38;5;124mencoding-type\u001b[39m\u001b[38;5;124m\"\u001b[39m, spec\u001b[38;5;241m.\u001b[39mencoding_type)\n\u001b[1;32m     59\u001b[0m     g[k]\u001b[38;5;241m.\u001b[39mattrs\u001b[38;5;241m.\u001b[39msetdefault(\u001b[38;5;124m\"\u001b[39m\u001b[38;5;124mencoding-version\u001b[39m\u001b[38;5;124m\"\u001b[39m, spec\u001b[38;5;241m.\u001b[39mencoding_version)\n",
      "File \u001b[0;32m/opt/conda/lib/python3.10/site-packages/anndata/_io/specs/methods.py:709\u001b[0m, in \u001b[0;36mwrite_dataframe\u001b[0;34m(f, key, df, _writer, dataset_kwargs)\u001b[0m\n\u001b[1;32m    704\u001b[0m _writer\u001b[38;5;241m.\u001b[39mwrite_elem(\n\u001b[1;32m    705\u001b[0m     group, index_name, df\u001b[38;5;241m.\u001b[39mindex\u001b[38;5;241m.\u001b[39m_values, dataset_kwargs\u001b[38;5;241m=\u001b[39mdataset_kwargs\n\u001b[1;32m    706\u001b[0m )\n\u001b[1;32m    707\u001b[0m \u001b[38;5;28;01mfor\u001b[39;00m colname, series \u001b[38;5;129;01min\u001b[39;00m df\u001b[38;5;241m.\u001b[39mitems():\n\u001b[1;32m    708\u001b[0m     \u001b[38;5;66;03m# TODO: this should write the \"true\" representation of the series (i.e. the underlying array or ndarray depending)\u001b[39;00m\n\u001b[0;32m--> 709\u001b[0m     \u001b[43m_writer\u001b[49m\u001b[38;5;241;43m.\u001b[39;49m\u001b[43mwrite_elem\u001b[49m\u001b[43m(\u001b[49m\n\u001b[1;32m    710\u001b[0m \u001b[43m        \u001b[49m\u001b[43mgroup\u001b[49m\u001b[43m,\u001b[49m\u001b[43m \u001b[49m\u001b[43mcolname\u001b[49m\u001b[43m,\u001b[49m\u001b[43m \u001b[49m\u001b[43mseries\u001b[49m\u001b[38;5;241;43m.\u001b[39;49m\u001b[43m_values\u001b[49m\u001b[43m,\u001b[49m\u001b[43m \u001b[49m\u001b[43mdataset_kwargs\u001b[49m\u001b[38;5;241;43m=\u001b[39;49m\u001b[43mdataset_kwargs\u001b[49m\n\u001b[1;32m    711\u001b[0m \u001b[43m    \u001b[49m\u001b[43m)\u001b[49m\n",
      "File \u001b[0;32m/opt/conda/lib/python3.10/site-packages/anndata/_io/utils.py:243\u001b[0m, in \u001b[0;36mreport_write_key_on_error.<locals>.func_wrapper\u001b[0;34m(*args, **kwargs)\u001b[0m\n\u001b[1;32m    241\u001b[0m     \u001b[38;5;28;01mraise\u001b[39;00m \u001b[38;5;167;01mValueError\u001b[39;00m(\u001b[38;5;124m\"\u001b[39m\u001b[38;5;124mNo element found in args.\u001b[39m\u001b[38;5;124m\"\u001b[39m)\n\u001b[1;32m    242\u001b[0m \u001b[38;5;28;01mtry\u001b[39;00m:\n\u001b[0;32m--> 243\u001b[0m     \u001b[38;5;28;01mreturn\u001b[39;00m \u001b[43mfunc\u001b[49m\u001b[43m(\u001b[49m\u001b[38;5;241;43m*\u001b[39;49m\u001b[43margs\u001b[49m\u001b[43m,\u001b[49m\u001b[43m \u001b[49m\u001b[38;5;241;43m*\u001b[39;49m\u001b[38;5;241;43m*\u001b[39;49m\u001b[43mkwargs\u001b[49m\u001b[43m)\u001b[49m\n\u001b[1;32m    244\u001b[0m \u001b[38;5;28;01mexcept\u001b[39;00m \u001b[38;5;167;01mException\u001b[39;00m \u001b[38;5;28;01mas\u001b[39;00m e:\n\u001b[1;32m    245\u001b[0m     path \u001b[38;5;241m=\u001b[39m _get_display_path(store)\n",
      "File \u001b[0;32m/opt/conda/lib/python3.10/site-packages/anndata/_io/specs/registry.py:309\u001b[0m, in \u001b[0;36mWriter.write_elem\u001b[0;34m(self, store, k, elem, dataset_kwargs, modifiers)\u001b[0m\n\u001b[1;32m    303\u001b[0m write_func \u001b[38;5;241m=\u001b[39m partial(\n\u001b[1;32m    304\u001b[0m     \u001b[38;5;28mself\u001b[39m\u001b[38;5;241m.\u001b[39mfind_writer(dest_type, elem, modifiers),\n\u001b[1;32m    305\u001b[0m     _writer\u001b[38;5;241m=\u001b[39m\u001b[38;5;28mself\u001b[39m,\n\u001b[1;32m    306\u001b[0m )\n\u001b[1;32m    308\u001b[0m \u001b[38;5;28;01mif\u001b[39;00m \u001b[38;5;28mself\u001b[39m\u001b[38;5;241m.\u001b[39mcallback \u001b[38;5;129;01mis\u001b[39;00m \u001b[38;5;28;01mNone\u001b[39;00m:\n\u001b[0;32m--> 309\u001b[0m     \u001b[38;5;28;01mreturn\u001b[39;00m \u001b[43mwrite_func\u001b[49m\u001b[43m(\u001b[49m\u001b[43mstore\u001b[49m\u001b[43m,\u001b[49m\u001b[43m \u001b[49m\u001b[43mk\u001b[49m\u001b[43m,\u001b[49m\u001b[43m \u001b[49m\u001b[43melem\u001b[49m\u001b[43m,\u001b[49m\u001b[43m \u001b[49m\u001b[43mdataset_kwargs\u001b[49m\u001b[38;5;241;43m=\u001b[39;49m\u001b[43mdataset_kwargs\u001b[49m\u001b[43m)\u001b[49m\n\u001b[1;32m    310\u001b[0m \u001b[38;5;28;01mreturn\u001b[39;00m \u001b[38;5;28mself\u001b[39m\u001b[38;5;241m.\u001b[39mcallback(\n\u001b[1;32m    311\u001b[0m     write_func,\n\u001b[1;32m    312\u001b[0m     store,\n\u001b[0;32m   (...)\u001b[0m\n\u001b[1;32m    316\u001b[0m     iospec\u001b[38;5;241m=\u001b[39m\u001b[38;5;28mself\u001b[39m\u001b[38;5;241m.\u001b[39mregistry\u001b[38;5;241m.\u001b[39mget_spec(elem),\n\u001b[1;32m    317\u001b[0m )\n",
      "File \u001b[0;32m/opt/conda/lib/python3.10/site-packages/anndata/_io/specs/registry.py:57\u001b[0m, in \u001b[0;36mwrite_spec.<locals>.decorator.<locals>.wrapper\u001b[0;34m(g, k, *args, **kwargs)\u001b[0m\n\u001b[1;32m     55\u001b[0m \u001b[38;5;129m@wraps\u001b[39m(func)\n\u001b[1;32m     56\u001b[0m \u001b[38;5;28;01mdef\u001b[39;00m \u001b[38;5;21mwrapper\u001b[39m(g: GroupStorageType, k: \u001b[38;5;28mstr\u001b[39m, \u001b[38;5;241m*\u001b[39margs, \u001b[38;5;241m*\u001b[39m\u001b[38;5;241m*\u001b[39mkwargs):\n\u001b[0;32m---> 57\u001b[0m     result \u001b[38;5;241m=\u001b[39m \u001b[43mfunc\u001b[49m\u001b[43m(\u001b[49m\u001b[43mg\u001b[49m\u001b[43m,\u001b[49m\u001b[43m \u001b[49m\u001b[43mk\u001b[49m\u001b[43m,\u001b[49m\u001b[43m \u001b[49m\u001b[38;5;241;43m*\u001b[39;49m\u001b[43margs\u001b[49m\u001b[43m,\u001b[49m\u001b[43m \u001b[49m\u001b[38;5;241;43m*\u001b[39;49m\u001b[38;5;241;43m*\u001b[39;49m\u001b[43mkwargs\u001b[49m\u001b[43m)\u001b[49m\n\u001b[1;32m     58\u001b[0m     g[k]\u001b[38;5;241m.\u001b[39mattrs\u001b[38;5;241m.\u001b[39msetdefault(\u001b[38;5;124m\"\u001b[39m\u001b[38;5;124mencoding-type\u001b[39m\u001b[38;5;124m\"\u001b[39m, spec\u001b[38;5;241m.\u001b[39mencoding_type)\n\u001b[1;32m     59\u001b[0m     g[k]\u001b[38;5;241m.\u001b[39mattrs\u001b[38;5;241m.\u001b[39msetdefault(\u001b[38;5;124m\"\u001b[39m\u001b[38;5;124mencoding-version\u001b[39m\u001b[38;5;124m\"\u001b[39m, spec\u001b[38;5;241m.\u001b[39mencoding_version)\n",
      "File \u001b[0;32m/opt/conda/lib/python3.10/site-packages/anndata/_io/specs/methods.py:414\u001b[0m, in \u001b[0;36mwrite_vlen_string_array\u001b[0;34m(f, k, elem, _writer, dataset_kwargs)\u001b[0m\n\u001b[1;32m    412\u001b[0m \u001b[38;5;250m\u001b[39m\u001b[38;5;124;03m\"\"\"Write methods which underlying library handles nativley.\"\"\"\u001b[39;00m\n\u001b[1;32m    413\u001b[0m str_dtype \u001b[38;5;241m=\u001b[39m h5py\u001b[38;5;241m.\u001b[39mspecial_dtype(vlen\u001b[38;5;241m=\u001b[39m\u001b[38;5;28mstr\u001b[39m)\n\u001b[0;32m--> 414\u001b[0m \u001b[43mf\u001b[49m\u001b[38;5;241;43m.\u001b[39;49m\u001b[43mcreate_dataset\u001b[49m\u001b[43m(\u001b[49m\u001b[43mk\u001b[49m\u001b[43m,\u001b[49m\u001b[43m \u001b[49m\u001b[43mdata\u001b[49m\u001b[38;5;241;43m=\u001b[39;49m\u001b[43melem\u001b[49m\u001b[38;5;241;43m.\u001b[39;49m\u001b[43mastype\u001b[49m\u001b[43m(\u001b[49m\u001b[43mstr_dtype\u001b[49m\u001b[43m)\u001b[49m\u001b[43m,\u001b[49m\u001b[43m \u001b[49m\u001b[43mdtype\u001b[49m\u001b[38;5;241;43m=\u001b[39;49m\u001b[43mstr_dtype\u001b[49m\u001b[43m,\u001b[49m\u001b[43m \u001b[49m\u001b[38;5;241;43m*\u001b[39;49m\u001b[38;5;241;43m*\u001b[39;49m\u001b[43mdataset_kwargs\u001b[49m\u001b[43m)\u001b[49m\n",
      "File \u001b[0;32m/opt/conda/lib/python3.10/site-packages/h5py/_hl/group.py:183\u001b[0m, in \u001b[0;36mGroup.create_dataset\u001b[0;34m(self, name, shape, dtype, data, **kwds)\u001b[0m\n\u001b[1;32m    180\u001b[0m         parent_path, name \u001b[38;5;241m=\u001b[39m name\u001b[38;5;241m.\u001b[39mrsplit(\u001b[38;5;124mb\u001b[39m\u001b[38;5;124m'\u001b[39m\u001b[38;5;124m/\u001b[39m\u001b[38;5;124m'\u001b[39m, \u001b[38;5;241m1\u001b[39m)\n\u001b[1;32m    181\u001b[0m         group \u001b[38;5;241m=\u001b[39m \u001b[38;5;28mself\u001b[39m\u001b[38;5;241m.\u001b[39mrequire_group(parent_path)\n\u001b[0;32m--> 183\u001b[0m dsid \u001b[38;5;241m=\u001b[39m \u001b[43mdataset\u001b[49m\u001b[38;5;241;43m.\u001b[39;49m\u001b[43mmake_new_dset\u001b[49m\u001b[43m(\u001b[49m\u001b[43mgroup\u001b[49m\u001b[43m,\u001b[49m\u001b[43m \u001b[49m\u001b[43mshape\u001b[49m\u001b[43m,\u001b[49m\u001b[43m \u001b[49m\u001b[43mdtype\u001b[49m\u001b[43m,\u001b[49m\u001b[43m \u001b[49m\u001b[43mdata\u001b[49m\u001b[43m,\u001b[49m\u001b[43m \u001b[49m\u001b[43mname\u001b[49m\u001b[43m,\u001b[49m\u001b[43m \u001b[49m\u001b[38;5;241;43m*\u001b[39;49m\u001b[38;5;241;43m*\u001b[39;49m\u001b[43mkwds\u001b[49m\u001b[43m)\u001b[49m\n\u001b[1;32m    184\u001b[0m dset \u001b[38;5;241m=\u001b[39m dataset\u001b[38;5;241m.\u001b[39mDataset(dsid)\n\u001b[1;32m    185\u001b[0m \u001b[38;5;28;01mreturn\u001b[39;00m dset\n",
      "File \u001b[0;32m/opt/conda/lib/python3.10/site-packages/h5py/_hl/dataset.py:166\u001b[0m, in \u001b[0;36mmake_new_dset\u001b[0;34m(parent, shape, dtype, data, name, chunks, compression, shuffle, fletcher32, maxshape, compression_opts, fillvalue, scaleoffset, track_times, external, track_order, dcpl, dapl, efile_prefix, virtual_prefix, allow_unknown_filter, rdcc_nslots, rdcc_nbytes, rdcc_w0)\u001b[0m\n\u001b[1;32m    163\u001b[0m dset_id \u001b[38;5;241m=\u001b[39m h5d\u001b[38;5;241m.\u001b[39mcreate(parent\u001b[38;5;241m.\u001b[39mid, name, tid, sid, dcpl\u001b[38;5;241m=\u001b[39mdcpl, dapl\u001b[38;5;241m=\u001b[39mdapl)\n\u001b[1;32m    165\u001b[0m \u001b[38;5;28;01mif\u001b[39;00m (data \u001b[38;5;129;01mis\u001b[39;00m \u001b[38;5;129;01mnot\u001b[39;00m \u001b[38;5;28;01mNone\u001b[39;00m) \u001b[38;5;129;01mand\u001b[39;00m (\u001b[38;5;129;01mnot\u001b[39;00m \u001b[38;5;28misinstance\u001b[39m(data, Empty)):\n\u001b[0;32m--> 166\u001b[0m     \u001b[43mdset_id\u001b[49m\u001b[38;5;241;43m.\u001b[39;49m\u001b[43mwrite\u001b[49m\u001b[43m(\u001b[49m\u001b[43mh5s\u001b[49m\u001b[38;5;241;43m.\u001b[39;49m\u001b[43mALL\u001b[49m\u001b[43m,\u001b[49m\u001b[43m \u001b[49m\u001b[43mh5s\u001b[49m\u001b[38;5;241;43m.\u001b[39;49m\u001b[43mALL\u001b[49m\u001b[43m,\u001b[49m\u001b[43m \u001b[49m\u001b[43mdata\u001b[49m\u001b[43m)\u001b[49m\n\u001b[1;32m    168\u001b[0m \u001b[38;5;28;01mreturn\u001b[39;00m dset_id\n",
      "File \u001b[0;32mh5py/_objects.pyx:54\u001b[0m, in \u001b[0;36mh5py._objects.with_phil.wrapper\u001b[0;34m()\u001b[0m\n",
      "File \u001b[0;32mh5py/_objects.pyx:55\u001b[0m, in \u001b[0;36mh5py._objects.with_phil.wrapper\u001b[0;34m()\u001b[0m\n",
      "File \u001b[0;32mh5py/h5d.pyx:282\u001b[0m, in \u001b[0;36mh5py.h5d.DatasetID.write\u001b[0;34m()\u001b[0m\n",
      "File \u001b[0;32mh5py/_proxy.pyx:147\u001b[0m, in \u001b[0;36mh5py._proxy.dset_rw\u001b[0;34m()\u001b[0m\n",
      "File \u001b[0;32mh5py/_conv.pyx:442\u001b[0m, in \u001b[0;36mh5py._conv.str2vlen\u001b[0;34m()\u001b[0m\n",
      "File \u001b[0;32mh5py/_conv.pyx:96\u001b[0m, in \u001b[0;36mh5py._conv.generic_converter\u001b[0;34m()\u001b[0m\n",
      "File \u001b[0;32mh5py/_conv.pyx:247\u001b[0m, in \u001b[0;36mh5py._conv.conv_str2vlen\u001b[0;34m()\u001b[0m\n",
      "\u001b[0;31mTypeError\u001b[0m: Can't implicitly convert non-string objects to strings",
      "\u001b[0mError raised while writing key 'Unnamed: 0' of <class 'h5py._hl.group.Group'> to /obs"
     ]
    }
   ],
   "source": [
    "rna_adata = ad.AnnData(X=rna_3p_matrix.T,\n",
    "                       obs=pd.DataFrame(index=rna_3p_barcodes[0]),\n",
    "                       var=pd.DataFrame(index=rna_3p_features[0]))\n",
    "\n",
    "# adt_adata = ad.AnnData(X=adt_3p_matrix.T,\n",
    "#                        obs=pd.DataFrame(index=adt_3p_barcodes[0]),\n",
    "#                        var=pd.DataFrame(index=adt_3p_features[0]))\n",
    "\n",
    "# rna_adata.obsm['ADT'] = adt_adata.X.toarray()\n",
    "rna_adata.obs.index.name = None\n",
    "meta_data_3p.index.name = None\n",
    "\n",
    "if 'Unnamed: 0' in rna_adata.obs.columns:\n",
    "    rna_adata.obs.drop(columns=['Unnamed: 0'], inplace=True)\n",
    "\n",
    "for col in rna_adata.obs.columns:\n",
    "    if rna_adata.obs[col].dtype == object:\n",
    "        rna_adata.obs[col] = rna_adata.obs[col].astype(str)\n",
    "\n",
    "rna_adata.obs = rna_adata.obs.merge(meta_data_3p, left_index=True, right_index=True, how='left')\n",
    "rna_adata.write(os.path.join(data_path, '3p.h5ad'))"
   ]
  },
  {
   "cell_type": "code",
   "execution_count": 3,
   "id": "d81146ba-458f-4325-9ad5-39c6b5c18bd4",
   "metadata": {},
   "outputs": [
    {
     "name": "stdout",
     "output_type": "stream",
     "text": [
      "AnnData object with n_obs × n_vars = 97499 × 22572\n",
      "    obs: 'n_genes', 'n_counts', 'Batch', 'Donor_ID', 'Sample_ID', 'SARS-CoV-2_PCR', 'Group', 'Annotation'\n",
      "    var: 'gene_ids', 'feature_types', 'n_cells'\n",
      "    obsm: 'X_umap'\n"
     ]
    }
   ],
   "source": [
    "adata = ad.read_h5ad('/workspace/ImputationOT/data/vento_pbmc_processed.h5ad')\n",
    "print(adata)"
   ]
  },
  {
   "cell_type": "code",
   "execution_count": 15,
   "id": "f895723d-3d41-4584-8c66-c71779f69f8b",
   "metadata": {},
   "outputs": [
    {
     "name": "stdout",
     "output_type": "stream",
     "text": [
      "GEX data\n",
      "Matrix Shape: (97499, 22572)\n",
      "Density: 0.07210065361484998\n",
      "Minimum Value: 0.0\n",
      "Maximum Value: 9.150005\n"
     ]
    }
   ],
   "source": [
    "X = adata.X\n",
    "print(\"GEX data\")\n",
    "print(\"Matrix Shape:\", X.shape)\n",
    "# print(\"Density:\", np.count_nonzero(X) / (X.shape[0] * X.shape[1]))\n",
    "print(\"Density:\", X.nnz / (X.shape[0] * X.shape[1]))\n",
    "print(\"Minimum Value:\", X.min())\n",
    "print(\"Maximum Value:\", X.max())"
   ]
  },
  {
   "cell_type": "code",
   "execution_count": 4,
   "id": "bb3110d1-82c1-48c8-a66a-40bfdc21ac38",
   "metadata": {},
   "outputs": [
    {
     "name": "stdout",
     "output_type": "stream",
     "text": [
      "Batch\n",
      "1    13086\n",
      "8    12745\n",
      "7    11752\n",
      "6    11170\n",
      "5    11017\n",
      "4    10553\n",
      "9    10315\n",
      "2     8618\n",
      "3     8243\n",
      "Name: count, dtype: int64\n"
     ]
    }
   ],
   "source": [
    "batch_counts = adata.obs['Batch'].value_counts()\n",
    "print(batch_counts)"
   ]
  },
  {
   "cell_type": "code",
   "execution_count": 17,
   "id": "1fd21bd5-b755-41b9-93f6-46906a13af56",
   "metadata": {},
   "outputs": [
    {
     "name": "stdout",
     "output_type": "stream",
     "text": [
      "28\n",
      "RV8919578_AAACCTGAGAAACCTA-1    NK CD56(bright)\n",
      "RV8919578_AAACCTGAGAGCAATT-1            Naïve B\n",
      "RV8919578_AAACCTGAGAGCTGGT-1                pDC\n",
      "RV8919578_AAACCTGAGCGAAGGG-1       NK CD56(dim)\n",
      "RV8919578_AAACCTGAGCGATGAC-1    NK CD56(bright)\n",
      "                                     ...       \n",
      "RV8959686_TTTGTCAGTATGAATG-1        CD4 naïve T\n",
      "RV8959686_TTTGTCAGTCGGCATC-1            Naïve B\n",
      "RV8959686_TTTGTCAGTGACAAAT-1    NK CD56(bright)\n",
      "RV8959686_TTTGTCAGTTGCCTCT-1        CD4 naïve T\n",
      "RV8959686_TTTGTCATCAGTCCCT-1          Platelets\n",
      "Name: Annotation, Length: 97499, dtype: category\n",
      "Categories (28, object): ['CD4 memory T', 'CD4 naïve T', 'CD8 memory T', 'CD8 naïve T', ..., 'cDC2', 'cDC3', 'pDC', 'γδT']\n"
     ]
    }
   ],
   "source": [
    "print(len(adata.obs['Annotation'].unique()))\n",
    "print(adata.obs['Annotation'])"
   ]
  },
  {
   "cell_type": "code",
   "execution_count": 16,
   "id": "3cc84df2-f5a4-42cf-9034-0dd12413f21e",
   "metadata": {},
   "outputs": [
    {
     "name": "stdout",
     "output_type": "stream",
     "text": [
      "9\n",
      "RV8919578_AAACCTGAGAAACCTA-1    1\n",
      "RV8919578_AAACCTGAGAGCAATT-1    1\n",
      "RV8919578_AAACCTGAGAGCTGGT-1    1\n",
      "RV8919578_AAACCTGAGCGAAGGG-1    1\n",
      "RV8919578_AAACCTGAGCGATGAC-1    1\n",
      "                               ..\n",
      "RV8959686_TTTGTCAGTATGAATG-1    9\n",
      "RV8959686_TTTGTCAGTCGGCATC-1    9\n",
      "RV8959686_TTTGTCAGTGACAAAT-1    9\n",
      "RV8959686_TTTGTCAGTTGCCTCT-1    9\n",
      "RV8959686_TTTGTCATCAGTCCCT-1    9\n",
      "Name: Batch, Length: 97499, dtype: category\n",
      "Categories (9, object): ['1', '2', '3', '4', ..., '6', '7', '8', '9']\n"
     ]
    }
   ],
   "source": [
    "print(len(adata.obs['Batch'].unique()))\n",
    "print(adata.obs['Batch'])"
   ]
  },
  {
   "cell_type": "code",
   "execution_count": null,
   "id": "33614bc8-ffdf-4626-9732-7c06feda83d2",
   "metadata": {},
   "outputs": [],
   "source": []
  }
 ],
 "metadata": {
  "kernelspec": {
   "display_name": "Python 3 (ipykernel)",
   "language": "python",
   "name": "python3"
  },
  "language_info": {
   "codemirror_mode": {
    "name": "ipython",
    "version": 3
   },
   "file_extension": ".py",
   "mimetype": "text/x-python",
   "name": "python",
   "nbconvert_exporter": "python",
   "pygments_lexer": "ipython3",
   "version": "3.10.13"
  }
 },
 "nbformat": 4,
 "nbformat_minor": 5
}
