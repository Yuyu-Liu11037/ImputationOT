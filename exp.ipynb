{
 "cells": [
  {
   "cell_type": "code",
   "execution_count": 2,
   "id": "6df0732e-ffc5-4b40-bac4-100530bac3ec",
   "metadata": {},
   "outputs": [],
   "source": [
    "import numpy as np\n",
    "import pandas as pd\n",
    "import scanpy as sc\n",
    "import anndata as ad\n",
    "import torch\n",
    "import torch.nn as nn\n",
    "import torch.optim as optim\n",
    "import ot\n",
    "import sys\n",
    "import os\n",
    "import tarfile\n",
    "import scipy.io\n",
    "import h5py\n",
    "import gzip\n",
    "from scipy.sparse import issparse\n",
    "from scipy.sparse import csr_matrix"
   ]
  },
  {
   "cell_type": "code",
   "execution_count": 14,
   "id": "deb0b382-465a-4f64-a322-804916ed9a19",
   "metadata": {},
   "outputs": [
    {
     "name": "stdout",
     "output_type": "stream",
     "text": [
      "AnnData object with n_obs × n_vars = 12097 × 9979\n",
      "    obs: 'Cell', 'Batch', 'Group', 'ExpLibSize', 'sum', 'detected', 'percent_top_50', 'percent_top_100', 'percent_top_200', 'percent_top_500', 'total', 'Discard', 'size_factors'\n",
      "    var: 'Gene', 'BaseGeneMean', 'OutlierFactor', 'GeneMean', 'BatchFacBatch1', 'BatchFacBatch2', 'BatchFacBatch3', 'BatchFacBatch4', 'BatchFacBatch5', 'BatchFacBatch6', 'DEFacGroup1', 'DEFacGroup2', 'DEFacGroup3', 'DEFacGroup4', 'DEFacGroup5', 'DEFacGroup6', 'DEFacGroup7', 'mean', 'detected'\n",
      "    layers: 'counts'\n"
     ]
    }
   ],
   "source": [
    "adata = sc.read_h5ad(\"/workspace/ImputationOT/data/sim1_norm.h5ad\")\n",
    "print(adata)"
   ]
  },
  {
   "cell_type": "code",
   "execution_count": 20,
   "id": "76bde3fa-10d2-4523-8d4a-b2902a15f7ce",
   "metadata": {},
   "outputs": [
    {
     "name": "stdout",
     "output_type": "stream",
     "text": [
      "Batch\n",
      "Batch1    2908\n",
      "Batch2    2422\n",
      "Batch3    2120\n",
      "Batch4    1929\n",
      "Batch5    1761\n",
      "Batch6     957\n",
      "Name: count, dtype: int64\n"
     ]
    }
   ],
   "source": [
    "print(adata.obs['Batch'].value_counts())"
   ]
  },
  {
   "cell_type": "code",
   "execution_count": 23,
   "id": "09c83454-69ef-4b1e-9e11-79a1edd6b655",
   "metadata": {},
   "outputs": [
    {
     "name": "stdout",
     "output_type": "stream",
     "text": [
      "Group\n",
      "Group1    3688\n",
      "Group2    2885\n",
      "Group3    1929\n",
      "Group4    1546\n",
      "Group5    1089\n",
      "Group6     756\n",
      "Group7     204\n",
      "Name: count, dtype: int64\n"
     ]
    }
   ],
   "source": [
    "print(adata.obs['Group'].value_counts())"
   ]
  },
  {
   "cell_type": "code",
   "execution_count": 22,
   "id": "f895723d-3d41-4584-8c66-c71779f69f8b",
   "metadata": {},
   "outputs": [
    {
     "name": "stdout",
     "output_type": "stream",
     "text": [
      "Matrix Shape: (12097, 9979)\n",
      "Density: 0.5690072737107684\n",
      "Minimum Value: 0.0\n",
      "Maximum Value: 6.739929826089321\n"
     ]
    }
   ],
   "source": [
    "X = adata.X\n",
    "print(\"Matrix Shape:\", X.shape)\n",
    "# print(\"Density:\", np.count_nonzero(X) / (X.shape[0] * X.shape[1]))\n",
    "print(\"Density:\", X.nnz / (X.shape[0] * X.shape[1]))\n",
    "print(\"Minimum Value:\", X.min())\n",
    "print(\"Maximum Value:\", X.max())"
   ]
  },
  {
   "cell_type": "code",
   "execution_count": null,
   "id": "14dd35da-61dc-455e-ba66-7973b5faf4e3",
   "metadata": {},
   "outputs": [],
   "source": []
  }
 ],
 "metadata": {
  "kernelspec": {
   "display_name": "Python 3 (ipykernel)",
   "language": "python",
   "name": "python3"
  },
  "language_info": {
   "codemirror_mode": {
    "name": "ipython",
    "version": 3
   },
   "file_extension": ".py",
   "mimetype": "text/x-python",
   "name": "python",
   "nbconvert_exporter": "python",
   "pygments_lexer": "ipython3",
   "version": "3.10.13"
  }
 },
 "nbformat": 4,
 "nbformat_minor": 5
}
