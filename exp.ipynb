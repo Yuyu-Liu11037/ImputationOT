{
 "cells": [
  {
   "cell_type": "code",
   "execution_count": 55,
   "id": "6df0732e-ffc5-4b40-bac4-100530bac3ec",
   "metadata": {},
   "outputs": [],
   "source": [
    "import numpy as np\n",
    "import matplotlib.pyplot as plt\n",
    "import torch\n",
    "import torch.nn as nn\n",
    "import torch.optim as optim\n",
    "import pandas as pd\n",
    "import ot\n",
    "import sys\n",
    "import anndata\n",
    "import scanpy as sc"
   ]
  },
  {
   "cell_type": "code",
   "execution_count": 57,
   "id": "d3a1dfe7-f9ad-4d09-8d56-854e239d635a",
   "metadata": {},
   "outputs": [
    {
     "data": {
      "text/plain": [
       "AnnData object with n_obs × n_vars = 5081 × 229429\n",
       "    obs: 'barcodes'\n",
       "    var: 'peaks'"
      ]
     },
     "execution_count": 57,
     "metadata": {},
     "output_type": "execute_result"
    }
   ],
   "source": [
    "chromatin_barcodes = pd.read_csv('./data/chromatin_barcodes.tsv', header=None)\n",
    "chromatin_peaks = pd.read_csv('./data/chromatin_peaks.tsv', header=None)\n",
    "chromatin_counts = scipy.io.mmread('./data/chromatin_counts.mtx')\n",
    "adata = sc.AnnData(X=chromatin_counts.T)\n",
    "adata.obs['barcodes'] = chromatin_barcodes[0].values\n",
    "adata.var['peaks'] = chromatin_peaks[0].values\n",
    "adata\n",
    "\n",
    "# adata = anndata.read_h5ad(\"./data/multiome_processed.h5ad\")\n",
    "# print(adata)\n",
    "# print(adata.X)\n",
    "# print(adata.layers['counts'])\n",
    "# print(adata.var['feature_types'])"
   ]
  },
  {
   "cell_type": "code",
   "execution_count": 40,
   "id": "cc866717-5d99-4ee3-a415-ce9e43a84b18",
   "metadata": {},
   "outputs": [
    {
     "name": "stdout",
     "output_type": "stream",
     "text": [
      "False\n",
      "True\n"
     ]
    }
   ],
   "source": [
    "print((adata.var['feature_types'] == 'ATAC').iloc[13430])\n",
    "print((adata.var['feature_types'] == 'ATAC').iloc[13431])"
   ]
  },
  {
   "cell_type": "code",
   "execution_count": 58,
   "id": "3358fbb2-5cdc-48b9-bd32-ec35f32982fb",
   "metadata": {},
   "outputs": [
    {
     "name": "stdout",
     "output_type": "stream",
     "text": [
      "full data\n",
      "Matrix Shape: (5081, 229429)\n",
      "Number of Non-zero Elements: 12998948\n",
      "Density: 0.011150919981300042\n",
      "Minimum Value: 0\n",
      "Maximum Value: 21\n"
     ]
    }
   ],
   "source": [
    "X = adata.X\n",
    "print(\"full data\")\n",
    "print(\"Matrix Shape:\", X.shape)\n",
    "print(\"Number of Non-zero Elements:\", X.nnz)\n",
    "print(\"Density:\", X.nnz / (X.shape[0] * X.shape[1]))\n",
    "print(\"Minimum Value:\", X.min())\n",
    "print(\"Maximum Value:\", X.max())\n",
    "# print(\"Mean Value without zeros:\", X[X != 0].mean())"
   ]
  },
  {
   "cell_type": "code",
   "execution_count": 41,
   "id": "020495fb-8507-4963-af0b-1cfe9a28c772",
   "metadata": {},
   "outputs": [
    {
     "name": "stdout",
     "output_type": "stream",
     "text": [
      "GEX data\n",
      "Matrix Shape: (69249, 13431)\n",
      "Number of Non-zero Elements: 76997578\n",
      "Density: 0.08278567782807424\n",
      "Minimum Value: 0.0\n",
      "Maximum Value: 26882.379\n"
     ]
    }
   ],
   "source": [
    "adata_GEX = adata[:, adata.var['feature_types'] == 'GEX'].copy()\n",
    "adata_GEX\n",
    "X = adata_GEX.X\n",
    "print(\"GEX data\")\n",
    "print(\"Matrix Shape:\", X.shape)\n",
    "print(\"Number of Non-zero Elements:\", X.nnz)\n",
    "print(\"Density:\", X.nnz / (X.shape[0] * X.shape[1]))\n",
    "print(\"Minimum Value:\", X.min())\n",
    "print(\"Maximum Value:\", X.max())"
   ]
  },
  {
   "cell_type": "code",
   "execution_count": 46,
   "id": "9f4dd5ae-8dee-4dcc-9105-9584611e9a1f",
   "metadata": {},
   "outputs": [
    {
     "name": "stdout",
     "output_type": "stream",
     "text": [
      "ATAC data\n",
      "Matrix Shape: (69249, 116490)\n",
      "Number of Non-zero Elements: 248342179\n",
      "Density: 0.030785650582849974\n",
      "Minimum Value: 0.0\n",
      "Maximum Value: 1.0\n"
     ]
    }
   ],
   "source": [
    "adata_ATAC = adata[:, adata.var['feature_types'] == 'ATAC'].copy()\n",
    "X = adata_ATAC.X\n",
    "print(\"ATAC data\")\n",
    "print(\"Matrix Shape:\", X.shape)\n",
    "print(\"Number of Non-zero Elements:\", X.nnz)\n",
    "print(\"Density:\", X.nnz / (X.shape[0] * X.shape[1]))\n",
    "print(\"Minimum Value:\", X.min())\n",
    "print(\"Maximum Value:\", X.max())"
   ]
  },
  {
   "cell_type": "code",
   "execution_count": null,
   "id": "62414316-eebb-4904-9a61-2db559a240db",
   "metadata": {},
   "outputs": [],
   "source": []
  }
 ],
 "metadata": {
  "kernelspec": {
   "display_name": "Python 3 (ipykernel)",
   "language": "python",
   "name": "python3"
  },
  "language_info": {
   "codemirror_mode": {
    "name": "ipython",
    "version": 3
   },
   "file_extension": ".py",
   "mimetype": "text/x-python",
   "name": "python",
   "nbconvert_exporter": "python",
   "pygments_lexer": "ipython3",
   "version": "3.10.13"
  }
 },
 "nbformat": 4,
 "nbformat_minor": 5
}
