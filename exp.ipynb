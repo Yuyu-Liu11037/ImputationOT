{
 "cells": [
  {
   "cell_type": "code",
   "execution_count": 2,
   "id": "6df0732e-ffc5-4b40-bac4-100530bac3ec",
   "metadata": {},
   "outputs": [],
   "source": [
    "import numpy as np\n",
    "import pandas as pd\n",
    "import scanpy as sc\n",
    "import anndata as ad\n",
    "import torch\n",
    "import torch.nn as nn\n",
    "import torch.optim as optim\n",
    "import ot\n",
    "import sys\n",
    "import os\n",
    "import tarfile\n",
    "import scipy.io\n",
    "import h5py\n",
    "import gzip\n",
    "from scipy.sparse import issparse\n",
    "from scipy.sparse import csr_matrix"
   ]
  },
  {
   "cell_type": "code",
   "execution_count": 28,
   "id": "5b8e8c49-b6c5-4d4d-9403-e694981e6c88",
   "metadata": {
    "scrolled": true
   },
   "outputs": [
    {
     "name": "stderr",
     "output_type": "stream",
     "text": [
      "/opt/conda/lib/python3.10/site-packages/anndata/_core/anndata.py:1820: UserWarning: Variable names are not unique. To make them unique, call `.var_names_make_unique`.\n",
      "  utils.warn_names_duplicates(\"var\")\n"
     ]
    },
    {
     "name": "stdout",
     "output_type": "stream",
     "text": [
      "AnnData object with n_obs × n_vars = 8371 × 18082\n",
      "    var: 'gene_ids', 'feature_types', 'genome'\n"
     ]
    },
    {
     "name": "stderr",
     "output_type": "stream",
     "text": [
      "/opt/conda/lib/python3.10/site-packages/anndata/_core/anndata.py:1820: UserWarning: Variable names are not unique. To make them unique, call `.var_names_make_unique`.\n",
      "  utils.warn_names_duplicates(\"var\")\n"
     ]
    }
   ],
   "source": [
    "adata = sc.read_10x_h5(filename=\"/workspace/ImputationOT/data/matrix.h5\")\n",
    "print(adata)"
   ]
  },
  {
   "cell_type": "code",
   "execution_count": 4,
   "id": "deb0b382-465a-4f64-a322-804916ed9a19",
   "metadata": {},
   "outputs": [
    {
     "name": "stdout",
     "output_type": "stream",
     "text": [
      "AnnData object with n_obs × n_vars = 269794 × 45068\n",
      "    obs: 'orig.ident', 'tech', 'condition', 'Sex', 'id', 'Names', 'CondTech'\n",
      "    var: 'name'\n",
      "    obsm: 'X_umap'\n"
     ]
    }
   ],
   "source": [
    "adata = sc.read_h5ad(\"/workspace/ImputationOT/data/failing.h5ad\")\n",
    "print(adata)"
   ]
  },
  {
   "cell_type": "code",
   "execution_count": 12,
   "id": "76bde3fa-10d2-4523-8d4a-b2902a15f7ce",
   "metadata": {},
   "outputs": [
    {
     "name": "stdout",
     "output_type": "stream",
     "text": [
      "H_ZC-11-292_TAAGTGCAGCAGGTCA    H_ZC-11-292\n",
      "H_ZC-11-292_ACAGCCGGTCATACTG    H_ZC-11-292\n",
      "H_ZC-11-292_AACTCCCTCTTTAGTC    H_ZC-11-292\n",
      "H_ZC-11-292_CTGATCCGTTATTCTC    H_ZC-11-292\n",
      "H_ZC-11-292_GCACTCTTCTCGTATT    H_ZC-11-292\n",
      "                                   ...     \n",
      "HDCM8_TTAGGCAGTTTGTGTG-1              HDCM8\n",
      "HDCM8_TTCCCAGAGAGGTAGA-1              HDCM8\n",
      "HDCM8_TTTCCTCCAGATGGCA-1              HDCM8\n",
      "HDCM8_TTTGTCATCGCGATCG-1              HDCM8\n",
      "HDCM8_GCACTCTCATCGGACC-1              HDCM8\n",
      "Name: orig.ident, Length: 269794, dtype: category\n",
      "Categories (45, object): ['HDCM1', 'HDCM3', 'HDCM4', 'HDCM5', ..., 'TWCM-13-285', 'TWCM-14-173', 'TWCM-LVAD2', 'TWCM-LVAD3']\n"
     ]
    }
   ],
   "source": [
    "print(adata.obs['orig.ident'])"
   ]
  },
  {
   "cell_type": "code",
   "execution_count": 37,
   "id": "202c7f1b-5cf0-484a-97f9-4d11306f05d3",
   "metadata": {
    "scrolled": true
   },
   "outputs": [
    {
     "name": "stdout",
     "output_type": "stream",
     "text": [
      "AnnData object with n_obs × n_vars = 486134 × 33538\n",
      "    obs: 'celltype', 'sampleID', 'SampleType', 'Source', 'DonorID', 'Organ', 'Tissue', 'TissueDetail', 'Gender', 'Age', 'AgeBin', 'DeathType', 'protocol', 'Race'\n",
      "    var: 'gene_ids'\n",
      "    uns: 'celltype_colors'\n",
      "    obsm: 'X_umap'\n"
     ]
    }
   ],
   "source": [
    "adata = sc.read_h5ad(\"/workspace/ImputationOT/data/healthy.h5ad\")\n",
    "print(adata)"
   ]
  },
  {
   "cell_type": "code",
   "execution_count": null,
   "id": "8f10995e-f219-4853-8fc7-92cef078f26d",
   "metadata": {},
   "outputs": [],
   "source": [
    "print(adata.obs[''])"
   ]
  },
  {
   "cell_type": "code",
   "execution_count": 29,
   "id": "f895723d-3d41-4584-8c66-c71779f69f8b",
   "metadata": {},
   "outputs": [
    {
     "name": "stdout",
     "output_type": "stream",
     "text": [
      "Matrix Shape: (9409, 60970)\n",
      "Density: 0.04190173273600859\n",
      "Minimum Value: 0.0\n",
      "Maximum Value: 13.540438\n"
     ]
    }
   ],
   "source": [
    "X = adata.X\n",
    "print(\"Matrix Shape:\", X.shape)\n",
    "print(\"Density:\", np.count_nonzero(X) / (X.shape[0] * X.shape[1]))\n",
    "# print(\"Density:\", X.nnz / (X.shape[0] * X.shape[1]))\n",
    "print(\"Minimum Value:\", X.min())\n",
    "print(\"Maximum Value:\", X.max())"
   ]
  },
  {
   "cell_type": "code",
   "execution_count": 31,
   "id": "54d6627c-15c7-4b80-b56f-72034f4f66b3",
   "metadata": {},
   "outputs": [
    {
     "name": "stdout",
     "output_type": "stream",
     "text": [
      "index\n",
      "Cell9517     Batch1\n",
      "Cell5323     Batch1\n",
      "Cell6864     Batch1\n",
      "Cell9648     Batch1\n",
      "Cell1185     Batch1\n",
      "              ...  \n",
      "Cell55408    Batch6\n",
      "Cell52882    Batch6\n",
      "Cell51973    Batch6\n",
      "Cell57940    Batch6\n",
      "Cell53110    Batch6\n",
      "Name: Batch, Length: 12097, dtype: category\n",
      "Categories (6, object): ['Batch1', 'Batch2', 'Batch3', 'Batch4', 'Batch5', 'Batch6']\n"
     ]
    }
   ],
   "source": [
    "print(adata.obs['Batch'])"
   ]
  },
  {
   "cell_type": "code",
   "execution_count": null,
   "id": "d0569f9d-ccb5-453e-b67e-51baa8a04935",
   "metadata": {},
   "outputs": [],
   "source": []
  }
 ],
 "metadata": {
  "kernelspec": {
   "display_name": "Python 3 (ipykernel)",
   "language": "python",
   "name": "python3"
  },
  "language_info": {
   "codemirror_mode": {
    "name": "ipython",
    "version": 3
   },
   "file_extension": ".py",
   "mimetype": "text/x-python",
   "name": "python",
   "nbconvert_exporter": "python",
   "pygments_lexer": "ipython3",
   "version": "3.10.13"
  }
 },
 "nbformat": 4,
 "nbformat_minor": 5
}
