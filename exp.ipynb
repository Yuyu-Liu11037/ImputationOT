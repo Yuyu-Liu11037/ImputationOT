{
 "cells": [
  {
   "cell_type": "code",
   "execution_count": 50,
   "id": "6df0732e-ffc5-4b40-bac4-100530bac3ec",
   "metadata": {},
   "outputs": [],
   "source": [
    "import numpy as np\n",
    "import pandas as pd\n",
    "import scanpy as sc\n",
    "import anndata as ad\n",
    "import torch\n",
    "import torch.nn as nn\n",
    "import torch.optim as optim\n",
    "import ot\n",
    "import sys\n",
    "import os\n",
    "import tarfile\n",
    "import scipy.io\n",
    "import h5py\n",
    "import gzip\n",
    "from scipy.sparse import issparse\n",
    "from scipy.sparse import csr_matrix"
   ]
  },
  {
   "cell_type": "code",
   "execution_count": 41,
   "id": "a0e4f998-8d25-442e-b5b9-386f44167c38",
   "metadata": {},
   "outputs": [
    {
     "name": "stdout",
     "output_type": "stream",
     "text": [
      "                     sample cell_name experiment  treatment_time\n",
      "0  sci-RNA-A-001.CGCCAGGCAT      293T    coassay             NaN\n",
      "1  sci-RNA-A-001.AAGTACGTTA      A549    coassay             3.0\n",
      "2  sci-RNA-A-001.GCCATCAACT       3T3    coassay             NaN\n",
      "3  sci-RNA-A-001.TCTCTCATCC      A549    coassay             0.0\n",
      "4  sci-RNA-A-001.TCCGCCGGTC      A549    coassay             3.0\n",
      "\n",
      "             gene_id   gene_type gene_short_name\n",
      "0  ENSG00000223972.4  pseudogene         DDX11L1\n",
      "1  ENSG00000227232.4  pseudogene          WASH7P\n",
      "2  ENSG00000243485.2     lincRNA      MIR1302-11\n",
      "3  ENSG00000237613.2     lincRNA         FAM138A\n",
      "4  ENSG00000268020.2  pseudogene          OR4G4P\n",
      "(113153, 6093)\n",
      "AnnData object with n_obs × n_vars = 6093 × 113153\n",
      "    obs: 'sample', 'cell_name', 'experiment', 'treatment_time'\n",
      "    var: 'gene_id', 'gene_type', 'gene_short_name'\n"
     ]
    },
    {
     "name": "stderr",
     "output_type": "stream",
     "text": [
      "/opt/conda/lib/python3.10/site-packages/anndata/_core/aligned_df.py:67: ImplicitModificationWarning: Transforming to str index.\n",
      "  warnings.warn(\"Transforming to str index.\", ImplicitModificationWarning)\n",
      "/opt/conda/lib/python3.10/site-packages/anndata/_core/aligned_df.py:67: ImplicitModificationWarning: Transforming to str index.\n",
      "  warnings.warn(\"Transforming to str index.\", ImplicitModificationWarning)\n"
     ]
    }
   ],
   "source": [
    "# 读取细胞和基因信息\n",
    "rna_cell = pd.read_csv(\"/workspace/ImputationOT/data/GSM3271040_RNA_sciCAR_A549_cell.txt.gz\")\n",
    "rna_gene = pd.read_csv(\"/workspace/ImputationOT/data/GSM3271040_RNA_sciCAR_A549_gene.txt.gz\")\n",
    "\n",
    "print(rna_cell.head())\n",
    "print()\n",
    "print(rna_gene.head())\n",
    "\n",
    "mm_file_path = \"/workspace/ImputationOT/data/GSM3271040_RNA_sciCAR_A549_gene_count.txt.gz\"\n",
    "gene_count_matrix = scipy.io.mmread(mm_file_path)\n",
    "\n",
    "print(gene_count_matrix.shape)\n",
    "\n",
    "rna_adata = ad.AnnData(X=gene_count_matrix.T.tocsr(), obs=rna_cell, var=rna_gene)\n",
    "# rna_adata.write(\"/workspace/ImputationOT/data/rna_sciCAR_A549.h5ad\")\n",
    "print(rna_adata)"
   ]
  },
  {
   "cell_type": "code",
   "execution_count": 45,
   "id": "d81146ba-458f-4325-9ad5-39c6b5c18bd4",
   "metadata": {},
   "outputs": [
    {
     "name": "stdout",
     "output_type": "stream",
     "text": [
      "AnnData object with n_obs × n_vars = 6093 × 113153\n",
      "    obs: 'sample', 'cell_name', 'experiment', 'treatment_time'\n",
      "    var: 'gene_id', 'gene_type', 'gene_short_name'\n"
     ]
    }
   ],
   "source": [
    "adata = ad.read_h5ad('/workspace/ImputationOT/data/rna_sciCAR_A549.h5ad')\n",
    "print(adata)"
   ]
  },
  {
   "cell_type": "code",
   "execution_count": 49,
   "id": "8a75cb55-5289-4fba-bac7-fbb55c05b74f",
   "metadata": {},
   "outputs": [
    {
     "name": "stdout",
     "output_type": "stream",
     "text": [
      "0       coassay\n",
      "1       coassay\n",
      "2       coassay\n",
      "3       coassay\n",
      "4       coassay\n",
      "         ...   \n",
      "6088    coassay\n",
      "6089    coassay\n",
      "6090    coassay\n",
      "6091    coassay\n",
      "6092    coassay\n",
      "Name: experiment, Length: 6093, dtype: category\n",
      "Categories (1, object): ['coassay']\n"
     ]
    }
   ],
   "source": [
    "print(adata.obs['experiment'])"
   ]
  },
  {
   "cell_type": "code",
   "execution_count": 46,
   "id": "694cce2b-724b-4713-bbf4-eee90fdeb3f1",
   "metadata": {},
   "outputs": [
    {
     "name": "stdout",
     "output_type": "stream",
     "text": [
      "0             pseudogene\n",
      "1             pseudogene\n",
      "2                lincRNA\n",
      "3                lincRNA\n",
      "4             pseudogene\n",
      "               ...      \n",
      "113148    protein_coding\n",
      "113149           Mt_tRNA\n",
      "113150    protein_coding\n",
      "113151           Mt_tRNA\n",
      "113152           Mt_tRNA\n",
      "Name: gene_type, Length: 113153, dtype: category\n",
      "Categories (46, object): ['3prime_overlapping_ncRNA', '3prime_overlapping_ncrna', 'IG_C_gene', 'IG_C_pseudogene', ..., 'transcribed_unitary_pseudogene', 'transcribed_unprocessed_pseudogene', 'unitary_pseudogene', 'unprocessed_pseudogene']\n"
     ]
    }
   ],
   "source": [
    "print(adata.var['gene_type'])"
   ]
  },
  {
   "cell_type": "code",
   "execution_count": 29,
   "id": "f895723d-3d41-4584-8c66-c71779f69f8b",
   "metadata": {},
   "outputs": [
    {
     "name": "stdout",
     "output_type": "stream",
     "text": [
      "Matrix Shape: (9409, 60970)\n",
      "Density: 0.04190173273600859\n",
      "Minimum Value: 0.0\n",
      "Maximum Value: 13.540438\n"
     ]
    }
   ],
   "source": [
    "X = adata.X\n",
    "print(\"Matrix Shape:\", X.shape)\n",
    "print(\"Density:\", np.count_nonzero(X) / (X.shape[0] * X.shape[1]))\n",
    "# print(\"Density:\", X.nnz / (X.shape[0] * X.shape[1]))\n",
    "print(\"Minimum Value:\", X.min())\n",
    "print(\"Maximum Value:\", X.max())"
   ]
  },
  {
   "cell_type": "code",
   "execution_count": 38,
   "id": "33614bc8-ffdf-4626-9732-7c06feda83d2",
   "metadata": {},
   "outputs": [
    {
     "name": "stderr",
     "output_type": "stream",
     "text": [
      "/tmp/ipykernel_1684/1587691518.py:2: DtypeWarning: Columns (2) have mixed types. Specify dtype option on import or set low_memory=False.\n",
      "  atac_peak = pd.read_csv(\"/workspace/ImputationOT/data/GSM3271041_ATAC_sciCAR_A549_peak.txt.gz\")\n"
     ]
    },
    {
     "name": "stdout",
     "output_type": "stream",
     "text": [
      "                     sample cell_name experiment  treatment_time\n",
      "0  sci-RNA-A-001.CGCCAGGCAT      293T    coassay             NaN\n",
      "1  sci-RNA-A-001.AAGTACGTTA      A549    coassay             3.0\n",
      "2  sci-RNA-A-001.GCCATCAACT       3T3    coassay             NaN\n",
      "3  sci-RNA-A-001.TCTCTCATCC      A549    coassay             0.0\n",
      "4  sci-RNA-A-001.TCCGCCGGTC      A549    coassay             3.0\n",
      "\n",
      "   id           peak chr  start    end\n",
      "0   1   1-9963-10665   1   9963  10665\n",
      "1   2  1-11369-12010   1  11369  12010\n",
      "2   3  1-24886-25386   1  24886  25386\n",
      "3   4  1-29054-30366   1  29054  30366\n",
      "4   5  1-36073-36581   1  36073  36581\n",
      "(189603, 6085)\n",
      "AnnData object with n_obs × n_vars = 6085 × 189603\n",
      "    obs: 'sample', 'source', 'group', 'experiment'\n",
      "    var: 'id', 'peak', 'chr', 'start', 'end'\n"
     ]
    },
    {
     "name": "stderr",
     "output_type": "stream",
     "text": [
      "/opt/conda/lib/python3.10/site-packages/anndata/_core/aligned_df.py:67: ImplicitModificationWarning: Transforming to str index.\n",
      "  warnings.warn(\"Transforming to str index.\", ImplicitModificationWarning)\n",
      "/opt/conda/lib/python3.10/site-packages/anndata/_core/aligned_df.py:67: ImplicitModificationWarning: Transforming to str index.\n",
      "  warnings.warn(\"Transforming to str index.\", ImplicitModificationWarning)\n"
     ]
    }
   ],
   "source": [
    "atac_cell = pd.read_csv(\"/workspace/ImputationOT/data/GSM3271041_ATAC_sciCAR_A549_cell.txt.gz\")\n",
    "atac_peak = pd.read_csv(\"/workspace/ImputationOT/data/GSM3271041_ATAC_sciCAR_A549_peak.txt.gz\")\n",
    "\n",
    "print(rna_cell.head())\n",
    "print()\n",
    "print(atac_peak.head())\n",
    "\n",
    "mm_file_path = \"/workspace/ImputationOT/data/GSM3271041_ATAC_sciCAR_A549_peak_count.txt.gz\"\n",
    "peak_count_matrix = scipy.io.mmread(mm_file_path)\n",
    "\n",
    "print(peak_count_matrix.shape)\n",
    "\n",
    "atac_peak = atac_peak.astype(str)\n",
    "atac_adata = ad.AnnData(X=peak_count_matrix.T.tocsr(), obs=atac_cell, var=atac_peak)\n",
    "# atac_adata.write(\"/workspace/ImputationOT/data/atac_sciCAR_A549.h5ad\")\n",
    "print(atac_adata)"
   ]
  },
  {
   "cell_type": "code",
   "execution_count": 42,
   "id": "3319f4f0-45cf-4dff-8dbe-2be51dc30fcd",
   "metadata": {},
   "outputs": [
    {
     "name": "stdout",
     "output_type": "stream",
     "text": [
      "                       sample cell_name experiment  treatment_time\n",
      "0  co-RNA-only-001.ACTCGACGCC      A549   RNA_only               0\n",
      "1  co-RNA-only-001.AAGTACGTTA      A549   RNA_only               3\n",
      "2  co-RNA-only-001.TCTCTCATCC      A549   RNA_only               0\n",
      "3  co-RNA-only-001.GATCCAGCGT      A549   RNA_only               3\n",
      "4  co-RNA-only-001.CTGGTTGGTT      A549   RNA_only               0\n",
      "\n",
      "             gene_id   gene_type gene_short_name\n",
      "0  ENSG00000223972.4  pseudogene         DDX11L1\n",
      "1  ENSG00000227232.4  pseudogene          WASH7P\n",
      "2  ENSG00000243485.2     lincRNA      MIR1302-11\n",
      "3  ENSG00000237613.2     lincRNA         FAM138A\n",
      "4  ENSG00000268020.2  pseudogene          OR4G4P\n",
      "(113153, 1873)\n",
      "AnnData object with n_obs × n_vars = 1873 × 113153\n",
      "    obs: 'sample', 'cell_name', 'experiment', 'treatment_time'\n",
      "    var: 'gene_id', 'gene_type', 'gene_short_name'\n"
     ]
    },
    {
     "name": "stderr",
     "output_type": "stream",
     "text": [
      "/opt/conda/lib/python3.10/site-packages/anndata/_core/aligned_df.py:67: ImplicitModificationWarning: Transforming to str index.\n",
      "  warnings.warn(\"Transforming to str index.\", ImplicitModificationWarning)\n",
      "/opt/conda/lib/python3.10/site-packages/anndata/_core/aligned_df.py:67: ImplicitModificationWarning: Transforming to str index.\n",
      "  warnings.warn(\"Transforming to str index.\", ImplicitModificationWarning)\n"
     ]
    }
   ],
   "source": [
    "# 读取细胞和基因信息\n",
    "rna_cell = pd.read_csv(\"/workspace/ImputationOT/data/GSM3271042_RNA_only_A549_cell.txt.gz\")\n",
    "rna_gene = pd.read_csv(\"/workspace/ImputationOT/data/GSM3271042_RNA_only_A549_gene.txt.gz\")\n",
    "\n",
    "print(rna_cell.head())\n",
    "print()\n",
    "print(rna_gene.head())\n",
    "\n",
    "mm_file_path = \"/workspace/ImputationOT/data/GSM3271042_RNA_only_A549_gene_count.txt.gz\"\n",
    "gene_count_matrix = scipy.io.mmread(mm_file_path)\n",
    "\n",
    "print(gene_count_matrix.shape)\n",
    "\n",
    "rna_adata = ad.AnnData(X=gene_count_matrix.T.tocsr(), obs=rna_cell, var=rna_gene)\n",
    "# rna_adata.write(\"/workspace/ImputationOT/data/rna_sciCAR_A549.h5ad\")\n",
    "print(rna_adata)"
   ]
  },
  {
   "cell_type": "code",
   "execution_count": 40,
   "id": "b6ad6f72-ebd1-4328-849d-6d772119f094",
   "metadata": {},
   "outputs": [
    {
     "name": "stderr",
     "output_type": "stream",
     "text": [
      "/tmp/ipykernel_1684/879935698.py:2: DtypeWarning: Columns (2) have mixed types. Specify dtype option on import or set low_memory=False.\n",
      "  atac_peak = pd.read_csv(\"/workspace/ImputationOT/data/GSM3271043_ATAC_only_A549_peak.txt.gz\")\n"
     ]
    },
    {
     "name": "stdout",
     "output_type": "stream",
     "text": [
      "                     sample cell_name experiment  treatment_time\n",
      "0  sci-RNA-A-001.CGCCAGGCAT      293T    coassay             NaN\n",
      "1  sci-RNA-A-001.AAGTACGTTA      A549    coassay             3.0\n",
      "2  sci-RNA-A-001.GCCATCAACT       3T3    coassay             NaN\n",
      "3  sci-RNA-A-001.TCTCTCATCC      A549    coassay             0.0\n",
      "4  sci-RNA-A-001.TCCGCCGGTC      A549    coassay             3.0\n",
      "\n",
      "   id           peak chr  start    end\n",
      "0   1   1-9963-10665   1   9963  10665\n",
      "1   2  1-11369-12010   1  11369  12010\n",
      "2   3  1-24886-25386   1  24886  25386\n",
      "3   4  1-29054-30366   1  29054  30366\n",
      "4   5  1-36073-36581   1  36073  36581\n",
      "(189603, 2006)\n"
     ]
    },
    {
     "name": "stderr",
     "output_type": "stream",
     "text": [
      "/opt/conda/lib/python3.10/site-packages/anndata/_core/aligned_df.py:67: ImplicitModificationWarning: Transforming to str index.\n",
      "  warnings.warn(\"Transforming to str index.\", ImplicitModificationWarning)\n",
      "/opt/conda/lib/python3.10/site-packages/anndata/_core/aligned_df.py:67: ImplicitModificationWarning: Transforming to str index.\n",
      "  warnings.warn(\"Transforming to str index.\", ImplicitModificationWarning)\n"
     ]
    },
    {
     "name": "stdout",
     "output_type": "stream",
     "text": [
      "AnnData object with n_obs × n_vars = 2006 × 189603\n",
      "    obs: 'sample', 'source', 'group', 'experiment'\n",
      "    var: 'id', 'peak', 'chr', 'start', 'end'\n"
     ]
    }
   ],
   "source": [
    "atac_cell = pd.read_csv(\"/workspace/ImputationOT/data/GSM3271043_ATAC_only_A549_cell.txt.gz\")\n",
    "atac_peak = pd.read_csv(\"/workspace/ImputationOT/data/GSM3271043_ATAC_only_A549_peak.txt.gz\")\n",
    "\n",
    "print(rna_cell.head())\n",
    "print()\n",
    "print(atac_peak.head())\n",
    "\n",
    "mm_file_path = \"/workspace/ImputationOT/data/GSM3271043_ATAC_only_A549_peak_count.txt.gz\"\n",
    "peak_count_matrix = scipy.io.mmread(mm_file_path)\n",
    "\n",
    "print(peak_count_matrix.shape)\n",
    "\n",
    "atac_peak = atac_peak.astype(str)\n",
    "atac_adata = ad.AnnData(X=peak_count_matrix.T.tocsr(), obs=atac_cell, var=atac_peak)\n",
    "# atac_adata.write(\"/workspace/ImputationOT/data/atac_sciCAR_A549.h5ad\")\n",
    "print(atac_adata)"
   ]
  },
  {
   "cell_type": "code",
   "execution_count": 43,
   "id": "37746c0a-594f-4883-89e3-0e54ee7fae58",
   "metadata": {},
   "outputs": [
    {
     "name": "stdout",
     "output_type": "stream",
     "text": [
      "                            sample source    replicate experiment     tsne_1  \\\n",
      "0  coRNA-RNA-plate1-001.TCGGCGTCGT  Mouse  Replicate 1    coassay        NaN   \n",
      "1  coRNA-RNA-plate1-001.CATGACTCAA  Mouse  Replicate 1    coassay   2.808426   \n",
      "2  coRNA-RNA-plate1-001.CGCCAGGCAT  Mouse  Replicate 1    coassay  -4.660380   \n",
      "3  coRNA-RNA-plate1-001.CTGGTTGGTT  Mouse  Replicate 1    coassay        NaN   \n",
      "4  coRNA-RNA-plate1-001.CCAGGCTCTT  Mouse  Replicate 2    coassay  10.309332   \n",
      "\n",
      "      tsne_2                    cell_name  \n",
      "0        NaN                          NaN  \n",
      "1 -45.948924         Loop of Henle cells   \n",
      "2 -41.004499         Loop of Henle cells   \n",
      "3        NaN                          NaN  \n",
      "4  11.143745  Proximal tubule S1/S2 cells  \n",
      "\n",
      "                gene_id             gene_type gene_short_name\n",
      "0  ENSMUSG00000102693.1                   TEC   4933401J01Rik\n",
      "1  ENSMUSG00000064842.1                 snRNA         Gm26206\n",
      "2  ENSMUSG00000051951.5        protein_coding            Xkr4\n",
      "3  ENSMUSG00000102851.1  processed_pseudogene         Gm18956\n",
      "4  ENSMUSG00000103377.1                   TEC         Gm37180\n",
      "(49584, 13893)\n",
      "AnnData object with n_obs × n_vars = 13893 × 49584\n",
      "    obs: 'sample', 'source', 'replicate', 'experiment', 'tsne_1', 'tsne_2', 'cell_name'\n",
      "    var: 'gene_id', 'gene_type', 'gene_short_name'\n"
     ]
    },
    {
     "name": "stderr",
     "output_type": "stream",
     "text": [
      "/opt/conda/lib/python3.10/site-packages/anndata/_core/aligned_df.py:67: ImplicitModificationWarning: Transforming to str index.\n",
      "  warnings.warn(\"Transforming to str index.\", ImplicitModificationWarning)\n",
      "/opt/conda/lib/python3.10/site-packages/anndata/_core/aligned_df.py:67: ImplicitModificationWarning: Transforming to str index.\n",
      "  warnings.warn(\"Transforming to str index.\", ImplicitModificationWarning)\n"
     ]
    }
   ],
   "source": [
    "# 读取细胞和基因信息\n",
    "rna_cell = pd.read_csv(\"/workspace/ImputationOT/data/GSM3271044_RNA_mouse_kidney_cell.txt.gz\")\n",
    "rna_gene = pd.read_csv(\"/workspace/ImputationOT/data/GSM3271044_RNA_mouse_kidney_gene.txt.gz\")\n",
    "\n",
    "print(rna_cell.head())\n",
    "print()\n",
    "print(rna_gene.head())\n",
    "\n",
    "mm_file_path = \"/workspace/ImputationOT/data/GSM3271044_RNA_mouse_kidney_gene_count.txt.gz\"\n",
    "gene_count_matrix = scipy.io.mmread(mm_file_path)\n",
    "\n",
    "print(gene_count_matrix.shape)\n",
    "\n",
    "rna_adata = ad.AnnData(X=gene_count_matrix.T.tocsr(), obs=rna_cell, var=rna_gene)\n",
    "# rna_adata.write(\"/workspace/ImputationOT/data/rna_sciCAR_A549.h5ad\")\n",
    "print(rna_adata)"
   ]
  },
  {
   "cell_type": "code",
   "execution_count": 44,
   "id": "661ad684-c41a-4159-9438-f26bd7e6c015",
   "metadata": {},
   "outputs": [
    {
     "name": "stdout",
     "output_type": "stream",
     "text": [
      "                            sample source    replicate experiment     tsne_1  \\\n",
      "0  coRNA-RNA-plate1-001.TCGGCGTCGT  Mouse  Replicate 1    coassay        NaN   \n",
      "1  coRNA-RNA-plate1-001.CATGACTCAA  Mouse  Replicate 1    coassay   2.808426   \n",
      "2  coRNA-RNA-plate1-001.CGCCAGGCAT  Mouse  Replicate 1    coassay  -4.660380   \n",
      "3  coRNA-RNA-plate1-001.CTGGTTGGTT  Mouse  Replicate 1    coassay        NaN   \n",
      "4  coRNA-RNA-plate1-001.CCAGGCTCTT  Mouse  Replicate 2    coassay  10.309332   \n",
      "\n",
      "      tsne_2                    cell_name  \n",
      "0        NaN                          NaN  \n",
      "1 -45.948924         Loop of Henle cells   \n",
      "2 -41.004499         Loop of Henle cells   \n",
      "3        NaN                          NaN  \n",
      "4  11.143745  Proximal tubule S1/S2 cells  \n",
      "\n",
      "   id                      peak         chr   start     end\n",
      "0   1    GL456210.1-58882-59082  GL456210.1   58882   59082\n",
      "1   2  GL456210.1-110303-110503  GL456210.1  110303  110503\n",
      "2   3  GL456210.1-123592-123792  GL456210.1  123592  123792\n",
      "3   4  GL456210.1-136519-136719  GL456210.1  136519  136719\n",
      "4   5  GL456210.1-147592-147792  GL456210.1  147592  147792\n",
      "(252741, 13395)\n",
      "AnnData object with n_obs × n_vars = 13395 × 252741\n",
      "    obs: 'sample', 'replicate'\n",
      "    var: 'id', 'peak', 'chr', 'start', 'end'\n"
     ]
    },
    {
     "name": "stderr",
     "output_type": "stream",
     "text": [
      "/opt/conda/lib/python3.10/site-packages/anndata/_core/aligned_df.py:67: ImplicitModificationWarning: Transforming to str index.\n",
      "  warnings.warn(\"Transforming to str index.\", ImplicitModificationWarning)\n",
      "/opt/conda/lib/python3.10/site-packages/anndata/_core/aligned_df.py:67: ImplicitModificationWarning: Transforming to str index.\n",
      "  warnings.warn(\"Transforming to str index.\", ImplicitModificationWarning)\n"
     ]
    }
   ],
   "source": [
    "atac_cell = pd.read_csv(\"/workspace/ImputationOT/data/GSM3271045_ATAC_mouse_kidney_cell.txt.gz\")\n",
    "atac_peak = pd.read_csv(\"/workspace/ImputationOT/data/GSM3271045_ATAC_mouse_kidney_peak.txt.gz\")\n",
    "\n",
    "print(rna_cell.head())\n",
    "print()\n",
    "print(atac_peak.head())\n",
    "\n",
    "mm_file_path = \"/workspace/ImputationOT/data/GSM3271045_ATAC_mouse_kidney_peak_count.txt.gz\"\n",
    "peak_count_matrix = scipy.io.mmread(mm_file_path)\n",
    "\n",
    "print(peak_count_matrix.shape)\n",
    "\n",
    "atac_peak = atac_peak.astype(str)\n",
    "atac_adata = ad.AnnData(X=peak_count_matrix.T.tocsr(), obs=atac_cell, var=atac_peak)\n",
    "# atac_adata.write(\"/workspace/ImputationOT/data/atac_sciCAR_A549.h5ad\")\n",
    "print(atac_adata)"
   ]
  },
  {
   "cell_type": "code",
   "execution_count": 67,
   "id": "7015773c-bd2c-4f33-a13a-1db8400db5bf",
   "metadata": {},
   "outputs": [
    {
     "name": "stdout",
     "output_type": "stream",
     "text": [
      "matrix\n",
      "matrix/barcodes\n",
      "matrix/data\n",
      "matrix/features\n",
      "matrix/features/_all_tag_keys\n",
      "matrix/features/feature_type\n",
      "matrix/features/genome\n",
      "matrix/features/id\n",
      "matrix/features/name\n",
      "matrix/indices\n",
      "matrix/indptr\n",
      "matrix/shape\n"
     ]
    }
   ],
   "source": [
    "file_path = \"/workspace/ImputationOT/data/PBMC.h5\"\n",
    "with h5py.File(file_path, 'r') as f:\n",
    "    def print_attrs(name, obj):\n",
    "        print(name)\n",
    "    \n",
    "    f.visititems(print_attrs)"
   ]
  },
  {
   "cell_type": "code",
   "execution_count": 64,
   "id": "35f92453-55a5-48d4-9f54-3388706411b0",
   "metadata": {},
   "outputs": [
    {
     "name": "stdout",
     "output_type": "stream",
     "text": [
      "Barcodes: [b'AAACCCAGTCGGCCTA-1' b'AAACCCATCAGATGCT-1' b'AAACGAAAGATTAGCA-1'\n",
      " b'AAACGAAAGTGCTACT-1' b'AAACGAAGTCGTAATC-1']\n",
      "Features: [b'MIR1302-2HG' b'FAM138A' b'OR4F5' b'AL627309.1' b'AL627309.3']\n",
      "Data shape: [36601  5140]\n",
      "(14285737,)\n"
     ]
    }
   ],
   "source": [
    "file_path = \"/workspace/ImputationOT/data/PBMC.h5\"\n",
    "with h5py.File(file_path, 'r') as f:\n",
    "    # 读取条形码（细胞ID）\n",
    "    barcodes = f['matrix/barcodes'][:]\n",
    "    \n",
    "    # 读取特征（基因或其他特征）\n",
    "    features = f['matrix/features/name'][:]  # 或者读取其他特征相关的数据集\n",
    "    \n",
    "    # 读取稀疏矩阵的主数据（非零值）\n",
    "    data = f['matrix/data'][:]\n",
    "    \n",
    "    # 读取稀疏矩阵的行索引\n",
    "    indices = f['matrix/indices'][:]\n",
    "    \n",
    "    # 读取稀疏矩阵的列指针\n",
    "    indptr = f['matrix/indptr'][:]\n",
    "    \n",
    "    # 读取矩阵的形状（行数和列数）\n",
    "    shape = f['matrix/shape'][:]\n",
    "\n",
    "# 打印读取的数据的基本信息\n",
    "print(f\"Barcodes: {barcodes[:5]}\")  # 打印前5个条形码\n",
    "print(f\"Features: {features[:5]}\")  # 打印前5个特征\n",
    "print(f\"Data shape: {shape}\")  # 打印矩阵的形状\n",
    "print(data.shape)"
   ]
  },
  {
   "cell_type": "code",
   "execution_count": 75,
   "id": "9653f797-d480-418f-bd56-d9b4cada196b",
   "metadata": {},
   "outputs": [
    {
     "name": "stdout",
     "output_type": "stream",
     "text": [
      "AnnData object with n_obs × n_vars = 5140 × 36601\n"
     ]
    },
    {
     "name": "stderr",
     "output_type": "stream",
     "text": [
      "/opt/conda/lib/python3.10/site-packages/anndata/_core/anndata.py:1820: UserWarning: Variable names are not unique. To make them unique, call `.var_names_make_unique`.\n",
      "  utils.warn_names_duplicates(\"var\")\n"
     ]
    }
   ],
   "source": [
    "obs = pd.DataFrame(index=barcodes)\n",
    "var = pd.DataFrame(index=features)\n",
    "sparse_matrix = csr_matrix((data, indices, indptr), shape=(5140, 36601))\n",
    "\n",
    "adata = ad.AnnData(X=sparse_matrix, obs=obs, var=var)\n",
    "print(adata)\n",
    "\n",
    "# 保存为 .h5ad 文件\n",
    "# adata.write(\"/workspace/ImputationOT/data/PBMC.h5ad\")"
   ]
  },
  {
   "cell_type": "code",
   "execution_count": 76,
   "id": "c1f41a8d-10d2-463b-a982-e08efb32d088",
   "metadata": {},
   "outputs": [
    {
     "name": "stdout",
     "output_type": "stream",
     "text": [
      "barcode_idx\n",
      "barcode_info\n",
      "barcode_info/genomes\n",
      "barcode_info/pass_filter\n",
      "barcodes\n",
      "count\n",
      "feature_idx\n",
      "features\n",
      "features/_all_tag_keys\n",
      "features/feature_type\n",
      "features/genome\n",
      "features/id\n",
      "features/name\n",
      "gem_group\n",
      "library_idx\n",
      "library_info\n",
      "metrics_json\n",
      "umi\n",
      "umi_type\n"
     ]
    }
   ],
   "source": [
    "file_path = \"/workspace/ImputationOT/data/PBMC_info.h5\"\n",
    "with h5py.File(file_path, 'r') as f:\n",
    "    def print_attrs(name, obj):\n",
    "        print(name)\n",
    "    \n",
    "    f.visititems(print_attrs)"
   ]
  },
  {
   "cell_type": "code",
   "execution_count": 86,
   "id": "d285fd62-3442-4834-a4d8-78ffb66b2ca8",
   "metadata": {},
   "outputs": [
    {
     "name": "stdout",
     "output_type": "stream",
     "text": [
      "[b'GRCh38']\n",
      "[[   575      0      0]\n",
      " [   748      0      0]\n",
      " [  1031      0      0]\n",
      " ...\n",
      " [909282      0      0]\n",
      " [909554      0      0]\n",
      " [909568      0      0]]\n",
      "[b'AAACCCAAGAAACCCG' b'AAACCCAAGAAAGCGA' b'AAACCCAAGAAATTCG' ...\n",
      " b'TTTGTTGTCTTTCGAT' b'TTTGTTGTCTTTGATC' b'TTTGTTGTCTTTGCAT']\n"
     ]
    }
   ],
   "source": [
    "file_path = \"/workspace/ImputationOT/data/PBMC_info.h5\"\n",
    "with h5py.File(file_path, 'r') as f:\n",
    "    barcode_info_genomes = f['barcode_info/genomes'][:]  # 读取 barcode_info/genomes\n",
    "    barcode_info_pass_filter = f['barcode_info/pass_filter'][:]  # 读取 barcode_info/pass_filter\n",
    "    barcodes = f['barcodes'][:]  # 读取 barcodes\n",
    "    features_info = f['features/name'][:]\n",
    "    umi_type = f['umi_type'][:]\n",
    "\n",
    "# adata.obs['genomes'] = barcode_info\n",
    "print(barcode_info_genomes)\n",
    "print(barcode_info_pass_filter)\n",
    "print(barcodes)\n",
    "adata.var['feature_name'] = [feature.decode('utf-8') for feature in features_info]\n",
    "adata.uns['umi_type'] = umi_type"
   ]
  },
  {
   "cell_type": "code",
   "execution_count": 99,
   "id": "2d677c31-9ef4-4e5d-a864-73e260dc7bd7",
   "metadata": {
    "scrolled": true
   },
   "outputs": [
    {
     "name": "stdout",
     "output_type": "stream",
     "text": [
      "AnnData object with n_obs × n_vars = 161764 × 33538\n",
      "    obs: 'barcodes'\n",
      "    var: 'symbols'\n"
     ]
    }
   ],
   "source": [
    "barcodes_file = '/workspace/ImputationOT/data/GSM5008737_RNA_3P-barcodes.tsv.gz'\n",
    "features_file = '/workspace/ImputationOT/data/GSM5008737_RNA_3P-features.tsv.gz'\n",
    "matrix_file = '/workspace/ImputationOT/data/GSM5008737_RNA_3P-matrix.mtx.gz'\n",
    "\n",
    "barcodes = pd.read_csv(barcodes_file, header=None, sep='\\t')\n",
    "features = pd.read_csv(features_file, header=None, sep='\\t')\n",
    "matrix = scipy.io.mmread(matrix_file)\n",
    "\n",
    "adata = ad.AnnData(X=matrix.T)\n",
    "\n",
    "adata.obs['barcodes'] = barcodes[0].values\n",
    "adata.var['symbols'] = features[0].values\n",
    "\n",
    "print(adata)"
   ]
  },
  {
   "cell_type": "code",
   "execution_count": 103,
   "id": "a8320ffb-d6be-468f-9d34-03fa1aef1bc7",
   "metadata": {},
   "outputs": [
    {
     "name": "stdout",
     "output_type": "stream",
     "text": [
      "AnnData object with n_obs × n_vars = 161764 × 33538\n",
      "    obs: 'barcodes', 'nCount_ADT', 'nFeature_ADT', 'nCount_RNA', 'nFeature_RNA', 'orig.ident', 'lane', 'donor', 'time', 'celltype.l1', 'celltype.l2', 'celltype.l3', 'Phase', 'Batch'\n",
      "    var: 'symbols'\n"
     ]
    }
   ],
   "source": [
    "print(adata)"
   ]
  },
  {
   "cell_type": "code",
   "execution_count": 100,
   "id": "e5f5075d-b0e7-4eb3-9054-e4b59f36049a",
   "metadata": {},
   "outputs": [
    {
     "name": "stdout",
     "output_type": "stream",
     "text": [
      "            Unnamed: 0  nCount_ADT  nFeature_ADT  nCount_RNA  nFeature_RNA  \\\n",
      "0  L1_AAACCCAAGAAACTCA        7535           217       10823          2915   \n",
      "1  L1_AAACCCAAGACATACA        6013           209        5864          1617   \n",
      "2  L1_AAACCCACAACTGGTT        6620           213        5067          1381   \n",
      "3  L1_AAACCCACACGTACTA        3567           202        4786          1890   \n",
      "4  L1_AAACCCACAGCATACT        6402           215        6505          1621   \n",
      "\n",
      "      orig.ident lane donor  time celltype.l1 celltype.l2 celltype.l3 Phase  \\\n",
      "0  SeuratProject   L1    P2     7        Mono   CD14 Mono   CD14 Mono    G1   \n",
      "1  SeuratProject   L1    P1     7       CD4 T     CD4 TCM   CD4 TCM_1    G1   \n",
      "2  SeuratProject   L1    P4     2       CD8 T   CD8 Naive   CD8 Naive     S   \n",
      "3  SeuratProject   L1    P3     7          NK          NK        NK_2    G1   \n",
      "4  SeuratProject   L1    P4     7       CD8 T   CD8 Naive   CD8 Naive    G1   \n",
      "\n",
      "    Batch  \n",
      "0  Batch1  \n",
      "1  Batch1  \n",
      "2  Batch1  \n",
      "3  Batch1  \n",
      "4  Batch1  \n",
      "(161764, 14)\n"
     ]
    }
   ],
   "source": [
    "data_3P = pd.read_csv('/workspace/ImputationOT/data/data_3P.csv.gz')\n",
    "print(data_3P.head())\n",
    "print(data_3P.shape)"
   ]
  },
  {
   "cell_type": "code",
   "execution_count": 102,
   "id": "853b87e6-9dfd-44e8-9540-0630b6dee6c0",
   "metadata": {},
   "outputs": [
    {
     "name": "stdout",
     "output_type": "stream",
     "text": [
      "              barcodes  nCount_ADT  nFeature_ADT  nCount_RNA  nFeature_RNA  \\\n",
      "0  L1_AAACCCAAGAAACTCA        7535           217       10823          2915   \n",
      "1  L1_AAACCCAAGACATACA        6013           209        5864          1617   \n",
      "2  L1_AAACCCACAACTGGTT        6620           213        5067          1381   \n",
      "3  L1_AAACCCACACGTACTA        3567           202        4786          1890   \n",
      "4  L1_AAACCCACAGCATACT        6402           215        6505          1621   \n",
      "\n",
      "      orig.ident lane donor  time celltype.l1 celltype.l2 celltype.l3 Phase  \\\n",
      "0  SeuratProject   L1    P2     7        Mono   CD14 Mono   CD14 Mono    G1   \n",
      "1  SeuratProject   L1    P1     7       CD4 T     CD4 TCM   CD4 TCM_1    G1   \n",
      "2  SeuratProject   L1    P4     2       CD8 T   CD8 Naive   CD8 Naive     S   \n",
      "3  SeuratProject   L1    P3     7          NK          NK        NK_2    G1   \n",
      "4  SeuratProject   L1    P4     7       CD8 T   CD8 Naive   CD8 Naive    G1   \n",
      "\n",
      "    Batch  \n",
      "0  Batch1  \n",
      "1  Batch1  \n",
      "2  Batch1  \n",
      "3  Batch1  \n",
      "4  Batch1  \n"
     ]
    }
   ],
   "source": [
    "data_3P.set_index('Unnamed: 0', inplace=True)\n",
    "adata.obs = adata.obs.merge(data_3P, left_on='barcodes', right_index=True, how='left')\n",
    "print(adata.obs.head())"
   ]
  },
  {
   "cell_type": "code",
   "execution_count": null,
   "id": "c43cd13f-ff7d-44b8-914f-e2313810ec6b",
   "metadata": {},
   "outputs": [],
   "source": []
  }
 ],
 "metadata": {
  "kernelspec": {
   "display_name": "Python 3 (ipykernel)",
   "language": "python",
   "name": "python3"
  },
  "language_info": {
   "codemirror_mode": {
    "name": "ipython",
    "version": 3
   },
   "file_extension": ".py",
   "mimetype": "text/x-python",
   "name": "python",
   "nbconvert_exporter": "python",
   "pygments_lexer": "ipython3",
   "version": "3.10.13"
  }
 },
 "nbformat": 4,
 "nbformat_minor": 5
}
