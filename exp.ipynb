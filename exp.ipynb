{
 "cells": [
  {
   "cell_type": "code",
   "execution_count": 2,
   "id": "6df0732e-ffc5-4b40-bac4-100530bac3ec",
   "metadata": {},
   "outputs": [],
   "source": [
    "import numpy as np\n",
    "import pandas as pd\n",
    "import scanpy as sc\n",
    "import anndata as ad\n",
    "import torch\n",
    "import torch.nn as nn\n",
    "import torch.optim as optim\n",
    "import ot\n",
    "import sys\n",
    "import os\n",
    "import tarfile\n",
    "import scipy.io\n",
    "import h5py\n",
    "import gzip\n",
    "from scipy.sparse import issparse\n",
    "from scipy.sparse import csr_matrix"
   ]
  },
  {
   "cell_type": "code",
   "execution_count": 41,
   "id": "a0e4f998-8d25-442e-b5b9-386f44167c38",
   "metadata": {},
   "outputs": [
    {
     "name": "stdout",
     "output_type": "stream",
     "text": [
      "                     sample cell_name experiment  treatment_time\n",
      "0  sci-RNA-A-001.CGCCAGGCAT      293T    coassay             NaN\n",
      "1  sci-RNA-A-001.AAGTACGTTA      A549    coassay             3.0\n",
      "2  sci-RNA-A-001.GCCATCAACT       3T3    coassay             NaN\n",
      "3  sci-RNA-A-001.TCTCTCATCC      A549    coassay             0.0\n",
      "4  sci-RNA-A-001.TCCGCCGGTC      A549    coassay             3.0\n",
      "\n",
      "             gene_id   gene_type gene_short_name\n",
      "0  ENSG00000223972.4  pseudogene         DDX11L1\n",
      "1  ENSG00000227232.4  pseudogene          WASH7P\n",
      "2  ENSG00000243485.2     lincRNA      MIR1302-11\n",
      "3  ENSG00000237613.2     lincRNA         FAM138A\n",
      "4  ENSG00000268020.2  pseudogene          OR4G4P\n",
      "(113153, 6093)\n",
      "AnnData object with n_obs × n_vars = 6093 × 113153\n",
      "    obs: 'sample', 'cell_name', 'experiment', 'treatment_time'\n",
      "    var: 'gene_id', 'gene_type', 'gene_short_name'\n"
     ]
    },
    {
     "name": "stderr",
     "output_type": "stream",
     "text": [
      "/opt/conda/lib/python3.10/site-packages/anndata/_core/aligned_df.py:67: ImplicitModificationWarning: Transforming to str index.\n",
      "  warnings.warn(\"Transforming to str index.\", ImplicitModificationWarning)\n",
      "/opt/conda/lib/python3.10/site-packages/anndata/_core/aligned_df.py:67: ImplicitModificationWarning: Transforming to str index.\n",
      "  warnings.warn(\"Transforming to str index.\", ImplicitModificationWarning)\n"
     ]
    }
   ],
   "source": [
    "# 读取细胞和基因信息\n",
    "rna_cell = pd.read_csv(\"/workspace/ImputationOT/data/GSM3271040_RNA_sciCAR_A549_cell.txt.gz\")\n",
    "rna_gene = pd.read_csv(\"/workspace/ImputationOT/data/GSM3271040_RNA_sciCAR_A549_gene.txt.gz\")\n",
    "\n",
    "print(rna_cell.head())\n",
    "print()\n",
    "print(rna_gene.head())\n",
    "\n",
    "mm_file_path = \"/workspace/ImputationOT/data/GSM3271040_RNA_sciCAR_A549_gene_count.txt.gz\"\n",
    "gene_count_matrix = scipy.io.mmread(mm_file_path)\n",
    "\n",
    "print(gene_count_matrix.shape)\n",
    "\n",
    "rna_adata = ad.AnnData(X=gene_count_matrix.T.tocsr(), obs=rna_cell, var=rna_gene)\n",
    "# rna_adata.write(\"/workspace/ImputationOT/data/rna_sciCAR_A549.h5ad\")\n",
    "print(rna_adata)"
   ]
  },
  {
   "cell_type": "code",
   "execution_count": 29,
   "id": "d81146ba-458f-4325-9ad5-39c6b5c18bd4",
   "metadata": {},
   "outputs": [
    {
     "name": "stdout",
     "output_type": "stream",
     "text": [
      "AnnData object with n_obs × n_vars = 9409 × 60970\n",
      "    obs: 'nGene', 'nReads', 'orig.ident', 'plate.barcode', 'cell.id', 'organism', 'tissue', 'region', 'label', 'sorter', 'sort.location', 'sample', 'location', 'patient', 'percent.ercc', 'percent.ribo', 'gating', 'free_annotation', 'Number of input reads', 'Uniquely mapped reads number', 'Number of splices: Total', 'Number of splices: Annotated (sjdb)', 'Number of splices: GT/AG', 'Number of splices: GC/AG', 'Number of splices: AT/AC', 'Number of splices: Non-canonical', 'Number of reads mapped to multiple loci', 'Number of reads mapped to too many loci', 'Number of chimeric reads', 'Mapping speed, Million of reads per hour', 'Average input read length', 'Uniquely mapped reads %', 'Average mapped length', 'Mismatch rate per base, %', 'Deletion rate per base', 'Deletion average length', 'Insertion rate per base', 'Insertion average length', '% of reads mapped to multiple loci', '% of reads mapped to too many loci', '% of reads unmapped: too many mismatches', '% of reads unmapped: too short', '% of reads unmapped: other', '% of chimeric reads', 'ERCC-00002', 'ERCC-00003', 'ERCC-00004', 'ERCC-00009', 'ERCC-00012', 'ERCC-00013', 'ERCC-00014', 'ERCC-00016', 'ERCC-00017', 'ERCC-00019', 'ERCC-00022', 'ERCC-00024', 'ERCC-00025', 'ERCC-00028', 'ERCC-00031', 'ERCC-00033', 'ERCC-00034', 'ERCC-00035', 'ERCC-00039', 'ERCC-00040', 'ERCC-00041', 'ERCC-00042', 'ERCC-00043', 'ERCC-00044', 'ERCC-00046', 'ERCC-00048', 'ERCC-00051', 'ERCC-00053', 'ERCC-00054', 'ERCC-00057', 'ERCC-00058', 'ERCC-00059', 'ERCC-00060', 'ERCC-00061', 'ERCC-00062', 'ERCC-00067', 'ERCC-00069', 'ERCC-00071', 'ERCC-00073', 'ERCC-00074', 'ERCC-00075', 'ERCC-00076', 'ERCC-00077', 'ERCC-00078', 'ERCC-00079', 'ERCC-00081', 'ERCC-00083', 'ERCC-00084', 'ERCC-00085', 'ERCC-00086', 'ERCC-00092', 'ERCC-00095', 'ERCC-00096', 'ERCC-00097', 'ERCC-00098', 'ERCC-00099', 'ERCC-00104', 'ERCC-00108', 'ERCC-00109', 'ERCC-00111', 'ERCC-00112', 'ERCC-00113', 'ERCC-00116', 'ERCC-00117', 'ERCC-00120', 'ERCC-00123', 'ERCC-00126', 'ERCC-00130', 'ERCC-00131', 'ERCC-00134', 'ERCC-00136', 'ERCC-00137', 'ERCC-00138', 'ERCC-00142', 'ERCC-00143', 'ERCC-00144', 'ERCC-00145', 'ERCC-00147', 'ERCC-00148', 'ERCC-00150', 'ERCC-00154', 'ERCC-00156', 'ERCC-00157', 'ERCC-00158', 'ERCC-00160', 'ERCC-00162', 'ERCC-00163', 'ERCC-00164', 'ERCC-00165', 'ERCC-00168', 'ERCC-00170', 'ERCC-00171', 'compartment'\n",
      "    obsm: 'X_Compartment_tSNE', 'X_tSNE'\n"
     ]
    }
   ],
   "source": [
    "adata = ad.read_h5ad('/workspace/ImputationOT/data/facs_normal_lung_blood_scanpy.20200205.RC4.h5ad')\n",
    "print(adata)"
   ]
  },
  {
   "cell_type": "code",
   "execution_count": 33,
   "id": "8a75cb55-5289-4fba-bac7-fbb55c05b74f",
   "metadata": {},
   "outputs": [
    {
     "name": "stdout",
     "output_type": "stream",
     "text": [
      "index\n",
      "A1_B002014.gencode.vH29     2\n",
      "A1_B003138.gencode.vH29     2\n",
      "A1_B003140.gencode.vH29     2\n",
      "A10_B003138.gencode.vH29    2\n",
      "A12_B003141.gencode.vH29    2\n",
      "                           ..\n",
      "M5_B001771.gencode.vH29     3\n",
      "N2_B001769.gencode.vH29     3\n",
      "N2_B002460.gencode.vH29     3\n",
      "O2_B001774.gencode.vH29     3\n",
      "O7_B001774.gencode.vH29     3\n",
      "Name: patient, Length: 9409, dtype: int64\n"
     ]
    }
   ],
   "source": [
    "print(adata.obs['patient'])"
   ]
  },
  {
   "cell_type": "code",
   "execution_count": 46,
   "id": "694cce2b-724b-4713-bbf4-eee90fdeb3f1",
   "metadata": {},
   "outputs": [
    {
     "name": "stdout",
     "output_type": "stream",
     "text": [
      "0             pseudogene\n",
      "1             pseudogene\n",
      "2                lincRNA\n",
      "3                lincRNA\n",
      "4             pseudogene\n",
      "               ...      \n",
      "113148    protein_coding\n",
      "113149           Mt_tRNA\n",
      "113150    protein_coding\n",
      "113151           Mt_tRNA\n",
      "113152           Mt_tRNA\n",
      "Name: gene_type, Length: 113153, dtype: category\n",
      "Categories (46, object): ['3prime_overlapping_ncRNA', '3prime_overlapping_ncrna', 'IG_C_gene', 'IG_C_pseudogene', ..., 'transcribed_unitary_pseudogene', 'transcribed_unprocessed_pseudogene', 'unitary_pseudogene', 'unprocessed_pseudogene']\n"
     ]
    }
   ],
   "source": [
    "print(adata.var['gene_type'])"
   ]
  },
  {
   "cell_type": "code",
   "execution_count": 29,
   "id": "f895723d-3d41-4584-8c66-c71779f69f8b",
   "metadata": {},
   "outputs": [
    {
     "name": "stdout",
     "output_type": "stream",
     "text": [
      "Matrix Shape: (9409, 60970)\n",
      "Density: 0.04190173273600859\n",
      "Minimum Value: 0.0\n",
      "Maximum Value: 13.540438\n"
     ]
    }
   ],
   "source": [
    "X = adata.X\n",
    "print(\"Matrix Shape:\", X.shape)\n",
    "print(\"Density:\", np.count_nonzero(X) / (X.shape[0] * X.shape[1]))\n",
    "# print(\"Density:\", X.nnz / (X.shape[0] * X.shape[1]))\n",
    "print(\"Minimum Value:\", X.min())\n",
    "print(\"Maximum Value:\", X.max())"
   ]
  },
  {
   "cell_type": "code",
   "execution_count": 38,
   "id": "33614bc8-ffdf-4626-9732-7c06feda83d2",
   "metadata": {},
   "outputs": [
    {
     "name": "stderr",
     "output_type": "stream",
     "text": [
      "/tmp/ipykernel_1684/1587691518.py:2: DtypeWarning: Columns (2) have mixed types. Specify dtype option on import or set low_memory=False.\n",
      "  atac_peak = pd.read_csv(\"/workspace/ImputationOT/data/GSM3271041_ATAC_sciCAR_A549_peak.txt.gz\")\n"
     ]
    },
    {
     "name": "stdout",
     "output_type": "stream",
     "text": [
      "                     sample cell_name experiment  treatment_time\n",
      "0  sci-RNA-A-001.CGCCAGGCAT      293T    coassay             NaN\n",
      "1  sci-RNA-A-001.AAGTACGTTA      A549    coassay             3.0\n",
      "2  sci-RNA-A-001.GCCATCAACT       3T3    coassay             NaN\n",
      "3  sci-RNA-A-001.TCTCTCATCC      A549    coassay             0.0\n",
      "4  sci-RNA-A-001.TCCGCCGGTC      A549    coassay             3.0\n",
      "\n",
      "   id           peak chr  start    end\n",
      "0   1   1-9963-10665   1   9963  10665\n",
      "1   2  1-11369-12010   1  11369  12010\n",
      "2   3  1-24886-25386   1  24886  25386\n",
      "3   4  1-29054-30366   1  29054  30366\n",
      "4   5  1-36073-36581   1  36073  36581\n",
      "(189603, 6085)\n",
      "AnnData object with n_obs × n_vars = 6085 × 189603\n",
      "    obs: 'sample', 'source', 'group', 'experiment'\n",
      "    var: 'id', 'peak', 'chr', 'start', 'end'\n"
     ]
    },
    {
     "name": "stderr",
     "output_type": "stream",
     "text": [
      "/opt/conda/lib/python3.10/site-packages/anndata/_core/aligned_df.py:67: ImplicitModificationWarning: Transforming to str index.\n",
      "  warnings.warn(\"Transforming to str index.\", ImplicitModificationWarning)\n",
      "/opt/conda/lib/python3.10/site-packages/anndata/_core/aligned_df.py:67: ImplicitModificationWarning: Transforming to str index.\n",
      "  warnings.warn(\"Transforming to str index.\", ImplicitModificationWarning)\n"
     ]
    }
   ],
   "source": [
    "atac_cell = pd.read_csv(\"/workspace/ImputationOT/data/GSM3271041_ATAC_sciCAR_A549_cell.txt.gz\")\n",
    "atac_peak = pd.read_csv(\"/workspace/ImputationOT/data/GSM3271041_ATAC_sciCAR_A549_peak.txt.gz\")\n",
    "\n",
    "print(rna_cell.head())\n",
    "print()\n",
    "print(atac_peak.head())\n",
    "\n",
    "mm_file_path = \"/workspace/ImputationOT/data/GSM3271041_ATAC_sciCAR_A549_peak_count.txt.gz\"\n",
    "peak_count_matrix = scipy.io.mmread(mm_file_path)\n",
    "\n",
    "print(peak_count_matrix.shape)\n",
    "\n",
    "atac_peak = atac_peak.astype(str)\n",
    "atac_adata = ad.AnnData(X=peak_count_matrix.T.tocsr(), obs=atac_cell, var=atac_peak)\n",
    "# atac_adata.write(\"/workspace/ImputationOT/data/atac_sciCAR_A549.h5ad\")\n",
    "print(atac_adata)"
   ]
  },
  {
   "cell_type": "code",
   "execution_count": 42,
   "id": "3319f4f0-45cf-4dff-8dbe-2be51dc30fcd",
   "metadata": {},
   "outputs": [
    {
     "name": "stdout",
     "output_type": "stream",
     "text": [
      "                       sample cell_name experiment  treatment_time\n",
      "0  co-RNA-only-001.ACTCGACGCC      A549   RNA_only               0\n",
      "1  co-RNA-only-001.AAGTACGTTA      A549   RNA_only               3\n",
      "2  co-RNA-only-001.TCTCTCATCC      A549   RNA_only               0\n",
      "3  co-RNA-only-001.GATCCAGCGT      A549   RNA_only               3\n",
      "4  co-RNA-only-001.CTGGTTGGTT      A549   RNA_only               0\n",
      "\n",
      "             gene_id   gene_type gene_short_name\n",
      "0  ENSG00000223972.4  pseudogene         DDX11L1\n",
      "1  ENSG00000227232.4  pseudogene          WASH7P\n",
      "2  ENSG00000243485.2     lincRNA      MIR1302-11\n",
      "3  ENSG00000237613.2     lincRNA         FAM138A\n",
      "4  ENSG00000268020.2  pseudogene          OR4G4P\n",
      "(113153, 1873)\n",
      "AnnData object with n_obs × n_vars = 1873 × 113153\n",
      "    obs: 'sample', 'cell_name', 'experiment', 'treatment_time'\n",
      "    var: 'gene_id', 'gene_type', 'gene_short_name'\n"
     ]
    },
    {
     "name": "stderr",
     "output_type": "stream",
     "text": [
      "/opt/conda/lib/python3.10/site-packages/anndata/_core/aligned_df.py:67: ImplicitModificationWarning: Transforming to str index.\n",
      "  warnings.warn(\"Transforming to str index.\", ImplicitModificationWarning)\n",
      "/opt/conda/lib/python3.10/site-packages/anndata/_core/aligned_df.py:67: ImplicitModificationWarning: Transforming to str index.\n",
      "  warnings.warn(\"Transforming to str index.\", ImplicitModificationWarning)\n"
     ]
    }
   ],
   "source": [
    "# 读取细胞和基因信息\n",
    "rna_cell = pd.read_csv(\"/workspace/ImputationOT/data/GSM3271042_RNA_only_A549_cell.txt.gz\")\n",
    "rna_gene = pd.read_csv(\"/workspace/ImputationOT/data/GSM3271042_RNA_only_A549_gene.txt.gz\")\n",
    "\n",
    "print(rna_cell.head())\n",
    "print()\n",
    "print(rna_gene.head())\n",
    "\n",
    "mm_file_path = \"/workspace/ImputationOT/data/GSM3271042_RNA_only_A549_gene_count.txt.gz\"\n",
    "gene_count_matrix = scipy.io.mmread(mm_file_path)\n",
    "\n",
    "print(gene_count_matrix.shape)\n",
    "\n",
    "rna_adata = ad.AnnData(X=gene_count_matrix.T.tocsr(), obs=rna_cell, var=rna_gene)\n",
    "# rna_adata.write(\"/workspace/ImputationOT/data/rna_sciCAR_A549.h5ad\")\n",
    "print(rna_adata)"
   ]
  },
  {
   "cell_type": "code",
   "execution_count": 40,
   "id": "b6ad6f72-ebd1-4328-849d-6d772119f094",
   "metadata": {},
   "outputs": [
    {
     "name": "stderr",
     "output_type": "stream",
     "text": [
      "/tmp/ipykernel_1684/879935698.py:2: DtypeWarning: Columns (2) have mixed types. Specify dtype option on import or set low_memory=False.\n",
      "  atac_peak = pd.read_csv(\"/workspace/ImputationOT/data/GSM3271043_ATAC_only_A549_peak.txt.gz\")\n"
     ]
    },
    {
     "name": "stdout",
     "output_type": "stream",
     "text": [
      "                     sample cell_name experiment  treatment_time\n",
      "0  sci-RNA-A-001.CGCCAGGCAT      293T    coassay             NaN\n",
      "1  sci-RNA-A-001.AAGTACGTTA      A549    coassay             3.0\n",
      "2  sci-RNA-A-001.GCCATCAACT       3T3    coassay             NaN\n",
      "3  sci-RNA-A-001.TCTCTCATCC      A549    coassay             0.0\n",
      "4  sci-RNA-A-001.TCCGCCGGTC      A549    coassay             3.0\n",
      "\n",
      "   id           peak chr  start    end\n",
      "0   1   1-9963-10665   1   9963  10665\n",
      "1   2  1-11369-12010   1  11369  12010\n",
      "2   3  1-24886-25386   1  24886  25386\n",
      "3   4  1-29054-30366   1  29054  30366\n",
      "4   5  1-36073-36581   1  36073  36581\n",
      "(189603, 2006)\n"
     ]
    },
    {
     "name": "stderr",
     "output_type": "stream",
     "text": [
      "/opt/conda/lib/python3.10/site-packages/anndata/_core/aligned_df.py:67: ImplicitModificationWarning: Transforming to str index.\n",
      "  warnings.warn(\"Transforming to str index.\", ImplicitModificationWarning)\n",
      "/opt/conda/lib/python3.10/site-packages/anndata/_core/aligned_df.py:67: ImplicitModificationWarning: Transforming to str index.\n",
      "  warnings.warn(\"Transforming to str index.\", ImplicitModificationWarning)\n"
     ]
    },
    {
     "name": "stdout",
     "output_type": "stream",
     "text": [
      "AnnData object with n_obs × n_vars = 2006 × 189603\n",
      "    obs: 'sample', 'source', 'group', 'experiment'\n",
      "    var: 'id', 'peak', 'chr', 'start', 'end'\n"
     ]
    }
   ],
   "source": [
    "atac_cell = pd.read_csv(\"/workspace/ImputationOT/data/GSM3271043_ATAC_only_A549_cell.txt.gz\")\n",
    "atac_peak = pd.read_csv(\"/workspace/ImputationOT/data/GSM3271043_ATAC_only_A549_peak.txt.gz\")\n",
    "\n",
    "print(rna_cell.head())\n",
    "print()\n",
    "print(atac_peak.head())\n",
    "\n",
    "mm_file_path = \"/workspace/ImputationOT/data/GSM3271043_ATAC_only_A549_peak_count.txt.gz\"\n",
    "peak_count_matrix = scipy.io.mmread(mm_file_path)\n",
    "\n",
    "print(peak_count_matrix.shape)\n",
    "\n",
    "atac_peak = atac_peak.astype(str)\n",
    "atac_adata = ad.AnnData(X=peak_count_matrix.T.tocsr(), obs=atac_cell, var=atac_peak)\n",
    "# atac_adata.write(\"/workspace/ImputationOT/data/atac_sciCAR_A549.h5ad\")\n",
    "print(atac_adata)"
   ]
  },
  {
   "cell_type": "code",
   "execution_count": 43,
   "id": "37746c0a-594f-4883-89e3-0e54ee7fae58",
   "metadata": {},
   "outputs": [
    {
     "name": "stdout",
     "output_type": "stream",
     "text": [
      "                            sample source    replicate experiment     tsne_1  \\\n",
      "0  coRNA-RNA-plate1-001.TCGGCGTCGT  Mouse  Replicate 1    coassay        NaN   \n",
      "1  coRNA-RNA-plate1-001.CATGACTCAA  Mouse  Replicate 1    coassay   2.808426   \n",
      "2  coRNA-RNA-plate1-001.CGCCAGGCAT  Mouse  Replicate 1    coassay  -4.660380   \n",
      "3  coRNA-RNA-plate1-001.CTGGTTGGTT  Mouse  Replicate 1    coassay        NaN   \n",
      "4  coRNA-RNA-plate1-001.CCAGGCTCTT  Mouse  Replicate 2    coassay  10.309332   \n",
      "\n",
      "      tsne_2                    cell_name  \n",
      "0        NaN                          NaN  \n",
      "1 -45.948924         Loop of Henle cells   \n",
      "2 -41.004499         Loop of Henle cells   \n",
      "3        NaN                          NaN  \n",
      "4  11.143745  Proximal tubule S1/S2 cells  \n",
      "\n",
      "                gene_id             gene_type gene_short_name\n",
      "0  ENSMUSG00000102693.1                   TEC   4933401J01Rik\n",
      "1  ENSMUSG00000064842.1                 snRNA         Gm26206\n",
      "2  ENSMUSG00000051951.5        protein_coding            Xkr4\n",
      "3  ENSMUSG00000102851.1  processed_pseudogene         Gm18956\n",
      "4  ENSMUSG00000103377.1                   TEC         Gm37180\n",
      "(49584, 13893)\n",
      "AnnData object with n_obs × n_vars = 13893 × 49584\n",
      "    obs: 'sample', 'source', 'replicate', 'experiment', 'tsne_1', 'tsne_2', 'cell_name'\n",
      "    var: 'gene_id', 'gene_type', 'gene_short_name'\n"
     ]
    },
    {
     "name": "stderr",
     "output_type": "stream",
     "text": [
      "/opt/conda/lib/python3.10/site-packages/anndata/_core/aligned_df.py:67: ImplicitModificationWarning: Transforming to str index.\n",
      "  warnings.warn(\"Transforming to str index.\", ImplicitModificationWarning)\n",
      "/opt/conda/lib/python3.10/site-packages/anndata/_core/aligned_df.py:67: ImplicitModificationWarning: Transforming to str index.\n",
      "  warnings.warn(\"Transforming to str index.\", ImplicitModificationWarning)\n"
     ]
    }
   ],
   "source": [
    "# 读取细胞和基因信息\n",
    "rna_cell = pd.read_csv(\"/workspace/ImputationOT/data/GSM3271044_RNA_mouse_kidney_cell.txt.gz\")\n",
    "rna_gene = pd.read_csv(\"/workspace/ImputationOT/data/GSM3271044_RNA_mouse_kidney_gene.txt.gz\")\n",
    "\n",
    "print(rna_cell.head())\n",
    "print()\n",
    "print(rna_gene.head())\n",
    "\n",
    "mm_file_path = \"/workspace/ImputationOT/data/GSM3271044_RNA_mouse_kidney_gene_count.txt.gz\"\n",
    "gene_count_matrix = scipy.io.mmread(mm_file_path)\n",
    "\n",
    "print(gene_count_matrix.shape)\n",
    "\n",
    "rna_adata = ad.AnnData(X=gene_count_matrix.T.tocsr(), obs=rna_cell, var=rna_gene)\n",
    "# rna_adata.write(\"/workspace/ImputationOT/data/rna_sciCAR_A549.h5ad\")\n",
    "print(rna_adata)"
   ]
  },
  {
   "cell_type": "code",
   "execution_count": 44,
   "id": "661ad684-c41a-4159-9438-f26bd7e6c015",
   "metadata": {},
   "outputs": [
    {
     "name": "stdout",
     "output_type": "stream",
     "text": [
      "                            sample source    replicate experiment     tsne_1  \\\n",
      "0  coRNA-RNA-plate1-001.TCGGCGTCGT  Mouse  Replicate 1    coassay        NaN   \n",
      "1  coRNA-RNA-plate1-001.CATGACTCAA  Mouse  Replicate 1    coassay   2.808426   \n",
      "2  coRNA-RNA-plate1-001.CGCCAGGCAT  Mouse  Replicate 1    coassay  -4.660380   \n",
      "3  coRNA-RNA-plate1-001.CTGGTTGGTT  Mouse  Replicate 1    coassay        NaN   \n",
      "4  coRNA-RNA-plate1-001.CCAGGCTCTT  Mouse  Replicate 2    coassay  10.309332   \n",
      "\n",
      "      tsne_2                    cell_name  \n",
      "0        NaN                          NaN  \n",
      "1 -45.948924         Loop of Henle cells   \n",
      "2 -41.004499         Loop of Henle cells   \n",
      "3        NaN                          NaN  \n",
      "4  11.143745  Proximal tubule S1/S2 cells  \n",
      "\n",
      "   id                      peak         chr   start     end\n",
      "0   1    GL456210.1-58882-59082  GL456210.1   58882   59082\n",
      "1   2  GL456210.1-110303-110503  GL456210.1  110303  110503\n",
      "2   3  GL456210.1-123592-123792  GL456210.1  123592  123792\n",
      "3   4  GL456210.1-136519-136719  GL456210.1  136519  136719\n",
      "4   5  GL456210.1-147592-147792  GL456210.1  147592  147792\n",
      "(252741, 13395)\n",
      "AnnData object with n_obs × n_vars = 13395 × 252741\n",
      "    obs: 'sample', 'replicate'\n",
      "    var: 'id', 'peak', 'chr', 'start', 'end'\n"
     ]
    },
    {
     "name": "stderr",
     "output_type": "stream",
     "text": [
      "/opt/conda/lib/python3.10/site-packages/anndata/_core/aligned_df.py:67: ImplicitModificationWarning: Transforming to str index.\n",
      "  warnings.warn(\"Transforming to str index.\", ImplicitModificationWarning)\n",
      "/opt/conda/lib/python3.10/site-packages/anndata/_core/aligned_df.py:67: ImplicitModificationWarning: Transforming to str index.\n",
      "  warnings.warn(\"Transforming to str index.\", ImplicitModificationWarning)\n"
     ]
    }
   ],
   "source": [
    "atac_cell = pd.read_csv(\"/workspace/ImputationOT/data/GSM3271045_ATAC_mouse_kidney_cell.txt.gz\")\n",
    "atac_peak = pd.read_csv(\"/workspace/ImputationOT/data/GSM3271045_ATAC_mouse_kidney_peak.txt.gz\")\n",
    "\n",
    "print(rna_cell.head())\n",
    "print()\n",
    "print(atac_peak.head())\n",
    "\n",
    "mm_file_path = \"/workspace/ImputationOT/data/GSM3271045_ATAC_mouse_kidney_peak_count.txt.gz\"\n",
    "peak_count_matrix = scipy.io.mmread(mm_file_path)\n",
    "\n",
    "print(peak_count_matrix.shape)\n",
    "\n",
    "atac_peak = atac_peak.astype(str)\n",
    "atac_adata = ad.AnnData(X=peak_count_matrix.T.tocsr(), obs=atac_cell, var=atac_peak)\n",
    "# atac_adata.write(\"/workspace/ImputationOT/data/atac_sciCAR_A549.h5ad\")\n",
    "print(atac_adata)"
   ]
  },
  {
   "cell_type": "code",
   "execution_count": 67,
   "id": "7015773c-bd2c-4f33-a13a-1db8400db5bf",
   "metadata": {},
   "outputs": [
    {
     "name": "stdout",
     "output_type": "stream",
     "text": [
      "matrix\n",
      "matrix/barcodes\n",
      "matrix/data\n",
      "matrix/features\n",
      "matrix/features/_all_tag_keys\n",
      "matrix/features/feature_type\n",
      "matrix/features/genome\n",
      "matrix/features/id\n",
      "matrix/features/name\n",
      "matrix/indices\n",
      "matrix/indptr\n",
      "matrix/shape\n"
     ]
    }
   ],
   "source": [
    "file_path = \"/workspace/ImputationOT/data/PBMC.h5\"\n",
    "with h5py.File(file_path, 'r') as f:\n",
    "    def print_attrs(name, obj):\n",
    "        print(name)\n",
    "    \n",
    "    f.visititems(print_attrs)"
   ]
  },
  {
   "cell_type": "code",
   "execution_count": 64,
   "id": "35f92453-55a5-48d4-9f54-3388706411b0",
   "metadata": {},
   "outputs": [
    {
     "name": "stdout",
     "output_type": "stream",
     "text": [
      "Barcodes: [b'AAACCCAGTCGGCCTA-1' b'AAACCCATCAGATGCT-1' b'AAACGAAAGATTAGCA-1'\n",
      " b'AAACGAAAGTGCTACT-1' b'AAACGAAGTCGTAATC-1']\n",
      "Features: [b'MIR1302-2HG' b'FAM138A' b'OR4F5' b'AL627309.1' b'AL627309.3']\n",
      "Data shape: [36601  5140]\n",
      "(14285737,)\n"
     ]
    }
   ],
   "source": [
    "file_path = \"/workspace/ImputationOT/data/PBMC.h5\"\n",
    "with h5py.File(file_path, 'r') as f:\n",
    "    # 读取条形码（细胞ID）\n",
    "    barcodes = f['matrix/barcodes'][:]\n",
    "    \n",
    "    # 读取特征（基因或其他特征）\n",
    "    features = f['matrix/features/name'][:]  # 或者读取其他特征相关的数据集\n",
    "    \n",
    "    # 读取稀疏矩阵的主数据（非零值）\n",
    "    data = f['matrix/data'][:]\n",
    "    \n",
    "    # 读取稀疏矩阵的行索引\n",
    "    indices = f['matrix/indices'][:]\n",
    "    \n",
    "    # 读取稀疏矩阵的列指针\n",
    "    indptr = f['matrix/indptr'][:]\n",
    "    \n",
    "    # 读取矩阵的形状（行数和列数）\n",
    "    shape = f['matrix/shape'][:]\n",
    "\n",
    "# 打印读取的数据的基本信息\n",
    "print(f\"Barcodes: {barcodes[:5]}\")  # 打印前5个条形码\n",
    "print(f\"Features: {features[:5]}\")  # 打印前5个特征\n",
    "print(f\"Data shape: {shape}\")  # 打印矩阵的形状\n",
    "print(data.shape)"
   ]
  },
  {
   "cell_type": "code",
   "execution_count": 75,
   "id": "9653f797-d480-418f-bd56-d9b4cada196b",
   "metadata": {},
   "outputs": [
    {
     "name": "stdout",
     "output_type": "stream",
     "text": [
      "AnnData object with n_obs × n_vars = 5140 × 36601\n"
     ]
    },
    {
     "name": "stderr",
     "output_type": "stream",
     "text": [
      "/opt/conda/lib/python3.10/site-packages/anndata/_core/anndata.py:1820: UserWarning: Variable names are not unique. To make them unique, call `.var_names_make_unique`.\n",
      "  utils.warn_names_duplicates(\"var\")\n"
     ]
    }
   ],
   "source": [
    "obs = pd.DataFrame(index=barcodes)\n",
    "var = pd.DataFrame(index=features)\n",
    "sparse_matrix = csr_matrix((data, indices, indptr), shape=(5140, 36601))\n",
    "\n",
    "adata = ad.AnnData(X=sparse_matrix, obs=obs, var=var)\n",
    "print(adata)\n",
    "\n",
    "# 保存为 .h5ad 文件\n",
    "# adata.write(\"/workspace/ImputationOT/data/PBMC.h5ad\")"
   ]
  },
  {
   "cell_type": "code",
   "execution_count": 76,
   "id": "c1f41a8d-10d2-463b-a982-e08efb32d088",
   "metadata": {},
   "outputs": [
    {
     "name": "stdout",
     "output_type": "stream",
     "text": [
      "barcode_idx\n",
      "barcode_info\n",
      "barcode_info/genomes\n",
      "barcode_info/pass_filter\n",
      "barcodes\n",
      "count\n",
      "feature_idx\n",
      "features\n",
      "features/_all_tag_keys\n",
      "features/feature_type\n",
      "features/genome\n",
      "features/id\n",
      "features/name\n",
      "gem_group\n",
      "library_idx\n",
      "library_info\n",
      "metrics_json\n",
      "umi\n",
      "umi_type\n"
     ]
    }
   ],
   "source": [
    "file_path = \"/workspace/ImputationOT/data/PBMC_info.h5\"\n",
    "with h5py.File(file_path, 'r') as f:\n",
    "    def print_attrs(name, obj):\n",
    "        print(name)\n",
    "    \n",
    "    f.visititems(print_attrs)"
   ]
  },
  {
   "cell_type": "code",
   "execution_count": 86,
   "id": "d285fd62-3442-4834-a4d8-78ffb66b2ca8",
   "metadata": {},
   "outputs": [
    {
     "name": "stdout",
     "output_type": "stream",
     "text": [
      "[b'GRCh38']\n",
      "[[   575      0      0]\n",
      " [   748      0      0]\n",
      " [  1031      0      0]\n",
      " ...\n",
      " [909282      0      0]\n",
      " [909554      0      0]\n",
      " [909568      0      0]]\n",
      "[b'AAACCCAAGAAACCCG' b'AAACCCAAGAAAGCGA' b'AAACCCAAGAAATTCG' ...\n",
      " b'TTTGTTGTCTTTCGAT' b'TTTGTTGTCTTTGATC' b'TTTGTTGTCTTTGCAT']\n"
     ]
    }
   ],
   "source": [
    "file_path = \"/workspace/ImputationOT/data/PBMC_info.h5\"\n",
    "with h5py.File(file_path, 'r') as f:\n",
    "    barcode_info_genomes = f['barcode_info/genomes'][:]  # 读取 barcode_info/genomes\n",
    "    barcode_info_pass_filter = f['barcode_info/pass_filter'][:]  # 读取 barcode_info/pass_filter\n",
    "    barcodes = f['barcodes'][:]  # 读取 barcodes\n",
    "    features_info = f['features/name'][:]\n",
    "    umi_type = f['umi_type'][:]\n",
    "\n",
    "# adata.obs['genomes'] = barcode_info\n",
    "print(barcode_info_genomes)\n",
    "print(barcode_info_pass_filter)\n",
    "print(barcodes)\n",
    "adata.var['feature_name'] = [feature.decode('utf-8') for feature in features_info]\n",
    "adata.uns['umi_type'] = umi_type"
   ]
  },
  {
   "cell_type": "code",
   "execution_count": 15,
   "id": "2d677c31-9ef4-4e5d-a864-73e260dc7bd7",
   "metadata": {
    "scrolled": true
   },
   "outputs": [
    {
     "name": "stdout",
     "output_type": "stream",
     "text": [
      "AnnData object with n_obs × n_vars = 49147 × 33538\n",
      "    obs: 'barcodes', 'nCount_ADT', 'nFeature_ADT', 'nCount_RNA', 'nFeature_RNA', 'orig.ident', 'lane', 'donor', 'time', 'celltype.l1', 'celltype.l2', 'celltype.l3', 'Batch'\n",
      "    var: 'symbols', 'feature_type'\n"
     ]
    }
   ],
   "source": [
    "barcodes_file = '/workspace/ImputationOT/data/GSM5008740_RNA_5P-barcodes.tsv.gz'\n",
    "features_file = '/workspace/ImputationOT/data/GSM5008740_RNA_5P-features.tsv.gz'\n",
    "matrix_file = '/workspace/ImputationOT/data/GSM5008740_RNA_5P-matrix.mtx.gz'\n",
    "\n",
    "barcodes = pd.read_csv(barcodes_file, header=None, sep='\\t')\n",
    "features = pd.read_csv(features_file, header=None, sep='\\t')\n",
    "matrix = scipy.io.mmread(matrix_file)\n",
    "\n",
    "adata_rna = ad.AnnData(X=matrix.T)\n",
    "\n",
    "adata_rna.obs['barcodes'] = barcodes[0].values\n",
    "adata_rna.var['symbols'] = features[0].values\n",
    "\n",
    "data_5P = pd.read_csv('/workspace/ImputationOT/data/meta_data_5P.csv.gz')\n",
    "data_5P.set_index('Unnamed: 0', inplace=True)\n",
    "adata_rna.obs = adata_rna.obs.merge(data_5P, left_on='barcodes', right_index=True, how='left')\n",
    "adata_rna.var['feature_type'] = 'RNA'\n",
    "\n",
    "print(adata_rna)"
   ]
  },
  {
   "cell_type": "code",
   "execution_count": 16,
   "id": "a9ed1b5d-0e7c-4448-a540-a0708f1b6f2e",
   "metadata": {},
   "outputs": [
    {
     "name": "stdout",
     "output_type": "stream",
     "text": [
      "AnnData object with n_obs × n_vars = 49147 × 54\n",
      "    obs: 'barcodes', 'nCount_ADT', 'nFeature_ADT', 'nCount_RNA', 'nFeature_RNA', 'orig.ident', 'lane', 'donor', 'time', 'celltype.l1', 'celltype.l2', 'celltype.l3', 'Batch'\n",
      "    var: 'symbols', 'feature_type'\n"
     ]
    }
   ],
   "source": [
    "barcodes_file = '/workspace/ImputationOT/data/GSM5008741_ADT_5P-barcodes.tsv.gz'\n",
    "features_file = '/workspace/ImputationOT/data/GSM5008741_ADT_5P-features.tsv.gz'\n",
    "matrix_file = '/workspace/ImputationOT/data/GSM5008741_ADT_5P-matrix.mtx.gz'\n",
    "\n",
    "barcodes = pd.read_csv(barcodes_file, header=None, sep='\\t')\n",
    "features = pd.read_csv(features_file, header=None, sep='\\t')\n",
    "matrix = scipy.io.mmread(matrix_file)\n",
    "\n",
    "adata_adt = ad.AnnData(X=matrix.T)\n",
    "\n",
    "adata_adt.obs['barcodes'] = barcodes[0].values\n",
    "adata_adt.var['symbols'] = features[0].values\n",
    "\n",
    "data_5P = pd.read_csv('/workspace/ImputationOT/data/meta_data_5P.csv.gz')\n",
    "data_5P.set_index('Unnamed: 0', inplace=True)\n",
    "adata_adt.obs = adata_adt.obs.merge(data_5P, left_on='barcodes', right_index=True, how='left')\n",
    "adata_adt.var['feature_type'] = 'ADT'\n",
    "print(adata_adt)"
   ]
  },
  {
   "cell_type": "code",
   "execution_count": 17,
   "id": "7e1c07ae-a2db-46e7-a3b2-c04bd3f27f82",
   "metadata": {},
   "outputs": [
    {
     "name": "stderr",
     "output_type": "stream",
     "text": [
      "/opt/conda/lib/python3.10/site-packages/anndata/_core/anndata.py:1820: UserWarning: Variable names are not unique. To make them unique, call `.var_names_make_unique`.\n",
      "  utils.warn_names_duplicates(\"var\")\n"
     ]
    },
    {
     "name": "stdout",
     "output_type": "stream",
     "text": [
      "AnnData object with n_obs × n_vars = 49147 × 33592\n",
      "    obs: 'barcodes', 'nCount_ADT', 'nFeature_ADT', 'nCount_RNA', 'nFeature_RNA', 'orig.ident', 'lane', 'donor', 'time', 'celltype.l1', 'celltype.l2', 'celltype.l3', 'Batch'\n",
      "    var: 'symbols', 'feature_type'\n"
     ]
    }
   ],
   "source": [
    "adata_combined = ad.concat([adata_rna, adata_adt], axis=1, merge='same')\n",
    "adata_combined.write(\"/workspace/ImputationOT/data/pbmc2.h5ad\")\n",
    "print(adata_combined)"
   ]
  },
  {
   "cell_type": "code",
   "execution_count": 27,
   "id": "7da0a187-ec3e-4149-85cc-d18cfbd27d79",
   "metadata": {},
   "outputs": [
    {
     "name": "stdout",
     "output_type": "stream",
     "text": [
      "donor\n",
      "P4    9006\n",
      "P1    7160\n",
      "P8    6764\n",
      "P7    6169\n",
      "P3    5407\n",
      "P5    5228\n",
      "P6    4746\n",
      "P2    4667\n",
      "Name: count, dtype: int64\n"
     ]
    }
   ],
   "source": [
    "print(adata_combined.obs[\"donor\"].value_counts())"
   ]
  },
  {
   "cell_type": "code",
   "execution_count": 28,
   "id": "da8851d0-cfc7-46d4-b080-ba20b67e2ec9",
   "metadata": {},
   "outputs": [
    {
     "name": "stdout",
     "output_type": "stream",
     "text": [
      "0        CD8 T\n",
      "1         Mono\n",
      "2        CD8 T\n",
      "3         Mono\n",
      "4        CD8 T\n",
      "         ...  \n",
      "49142     Mono\n",
      "49143     Mono\n",
      "49144     Mono\n",
      "49145     Mono\n",
      "49146        B\n",
      "Name: celltype.l1, Length: 49147, dtype: category\n",
      "Categories (8, object): ['B', 'CD4 T', 'CD8 T', 'DC', 'Mono', 'NK', 'other', 'other T']\n"
     ]
    }
   ],
   "source": [
    "print(adata_combined.obs[\"celltype.l1\"])"
   ]
  },
  {
   "cell_type": "code",
   "execution_count": 121,
   "id": "7c0c3e09-bd3a-49ab-8c15-7dbd318201a6",
   "metadata": {
    "scrolled": true
   },
   "outputs": [
    {
     "name": "stdout",
     "output_type": "stream",
     "text": [
      "                    Unnamed: 0              barcode assigned_cluster  A1BG  \\\n",
      "0  human1_lib1.final_cell_0001  GATGACGGAC-GGTGGGAT           acinar     0   \n",
      "1  human1_lib1.final_cell_0002  GAGCGTTGCT-ACCTTCTT           acinar     0   \n",
      "2  human1_lib1.final_cell_0003    CTTACGGG-CCATTACT           acinar     0   \n",
      "3  human1_lib1.final_cell_0004  GATGTACACG-TTAAACTG           acinar     0   \n",
      "4  human1_lib1.final_cell_0005  GAGATTGCGA-GTCGTCGT           acinar     0   \n",
      "\n",
      "   A1CF  A2M  A2ML1  A4GALT  A4GNT  AA06  ...  ZWILCH  ZWINT  ZXDA  ZXDB  \\\n",
      "0     4    0      0       0      0     0  ...       0      0     0     0   \n",
      "1     0    0      0       0      0     0  ...       0      0     0     0   \n",
      "2     0    0      0       0      0     0  ...       0      0     0     0   \n",
      "3     0    0      0       0      0     0  ...       1      0     0     0   \n",
      "4     0    0      0       0      0     0  ...       0      0     0     0   \n",
      "\n",
      "   ZXDC  ZYG11B  ZYX  ZZEF1  ZZZ3  pk  \n",
      "0     0       0    2      0     0   1  \n",
      "1     0       1    4      0     1   0  \n",
      "2     0       0    0      0     0   0  \n",
      "3     0       1    3      1     0   0  \n",
      "4     0       0    1      0     0   1  \n",
      "\n",
      "[5 rows x 20128 columns]\n",
      "(1937, 20128)\n"
     ]
    }
   ],
   "source": [
    "file_path = '/workspace/ImputationOT/data/GSM2230757_human1_umifm_counts.csv.gz'\n",
    "\n",
    "data_df = pd.read_csv(file_path)\n",
    "\n",
    "print(data_df.head())\n",
    "print(data_df.shape)"
   ]
  },
  {
   "cell_type": "code",
   "execution_count": 58,
   "id": "a847d99f-1777-4ecc-a67d-500ef69715a9",
   "metadata": {},
   "outputs": [
    {
     "name": "stdout",
     "output_type": "stream",
     "text": [
      "AnnData object with n_obs × n_vars = 1937 × 20125\n",
      "    obs: 'barcode', 'assigned_cluster', 'Batch'\n",
      "    var: 'gene_names'\n"
     ]
    },
    {
     "name": "stderr",
     "output_type": "stream",
     "text": [
      "/tmp/ipykernel_245/2653934977.py:9: SettingWithCopyWarning: \n",
      "A value is trying to be set on a copy of a slice from a DataFrame.\n",
      "Try using .loc[row_indexer,col_indexer] = value instead\n",
      "\n",
      "See the caveats in the documentation: https://pandas.pydata.org/pandas-docs/stable/user_guide/indexing.html#returning-a-view-versus-a-copy\n",
      "  adata1.obs['Batch'] = '1'\n"
     ]
    }
   ],
   "source": [
    "file_path = '/workspace/ImputationOT/data/GSM2230757_human1_umifm_counts.csv.gz'\n",
    "data_df = pd.read_csv(file_path)\n",
    "data_df = data_df.drop(columns=['Unnamed: 0'])\n",
    "obs_data = data_df[['barcode', 'assigned_cluster']]\n",
    "gene_expression_data = data_df.drop(columns=['barcode', 'assigned_cluster'])\n",
    "adata1 = ad.AnnData(X=gene_expression_data.values)\n",
    "adata1.obs = obs_data\n",
    "adata1.var['gene_names'] = gene_expression_data.columns\n",
    "adata1.obs['Batch'] = '1'\n",
    "print(adata1)"
   ]
  },
  {
   "cell_type": "code",
   "execution_count": 59,
   "id": "886243b1-80e6-45d1-9822-1f67768c80f0",
   "metadata": {},
   "outputs": [
    {
     "name": "stdout",
     "output_type": "stream",
     "text": [
      "AnnData object with n_obs × n_vars = 1724 × 20125\n",
      "    obs: 'barcode', 'assigned_cluster', 'Batch'\n",
      "    var: 'gene_names'\n"
     ]
    },
    {
     "name": "stderr",
     "output_type": "stream",
     "text": [
      "/tmp/ipykernel_245/230432578.py:9: SettingWithCopyWarning: \n",
      "A value is trying to be set on a copy of a slice from a DataFrame.\n",
      "Try using .loc[row_indexer,col_indexer] = value instead\n",
      "\n",
      "See the caveats in the documentation: https://pandas.pydata.org/pandas-docs/stable/user_guide/indexing.html#returning-a-view-versus-a-copy\n",
      "  adata2.obs['Batch'] = '2'\n"
     ]
    }
   ],
   "source": [
    "file_path = '/workspace/ImputationOT/data/GSM2230758_human2_umifm_counts.csv.gz'\n",
    "data_df = pd.read_csv(file_path)\n",
    "data_df = data_df.drop(columns=['Unnamed: 0'])\n",
    "obs_data = data_df[['barcode', 'assigned_cluster']]\n",
    "gene_expression_data = data_df.drop(columns=['barcode', 'assigned_cluster'])\n",
    "adata2 = ad.AnnData(X=gene_expression_data.values)\n",
    "adata2.obs = obs_data\n",
    "adata2.var['gene_names'] = gene_expression_data.columns\n",
    "adata2.obs['Batch'] = '2'\n",
    "print(adata2)"
   ]
  },
  {
   "cell_type": "code",
   "execution_count": 60,
   "id": "3c121137-b618-4e1f-b4d6-5efb61841641",
   "metadata": {},
   "outputs": [
    {
     "name": "stdout",
     "output_type": "stream",
     "text": [
      "AnnData object with n_obs × n_vars = 3605 × 20125\n",
      "    obs: 'barcode', 'assigned_cluster', 'Batch'\n",
      "    var: 'gene_names'\n"
     ]
    },
    {
     "name": "stderr",
     "output_type": "stream",
     "text": [
      "/tmp/ipykernel_245/1466350428.py:9: SettingWithCopyWarning: \n",
      "A value is trying to be set on a copy of a slice from a DataFrame.\n",
      "Try using .loc[row_indexer,col_indexer] = value instead\n",
      "\n",
      "See the caveats in the documentation: https://pandas.pydata.org/pandas-docs/stable/user_guide/indexing.html#returning-a-view-versus-a-copy\n",
      "  adata3.obs['Batch'] = '3'\n"
     ]
    }
   ],
   "source": [
    "file_path = '/workspace/ImputationOT/data/GSM2230759_human3_umifm_counts.csv.gz'\n",
    "data_df = pd.read_csv(file_path)\n",
    "data_df = data_df.drop(columns=['Unnamed: 0'])\n",
    "obs_data = data_df[['barcode', 'assigned_cluster']]\n",
    "gene_expression_data = data_df.drop(columns=['barcode', 'assigned_cluster'])\n",
    "adata3 = ad.AnnData(X=gene_expression_data.values)\n",
    "adata3.obs = obs_data\n",
    "adata3.var['gene_names'] = gene_expression_data.columns\n",
    "adata3.obs['Batch'] = '3'\n",
    "print(adata3)"
   ]
  },
  {
   "cell_type": "code",
   "execution_count": 61,
   "id": "b987fb07-83bf-4ae3-a7b2-f8f5370b40ca",
   "metadata": {},
   "outputs": [
    {
     "name": "stdout",
     "output_type": "stream",
     "text": [
      "AnnData object with n_obs × n_vars = 1303 × 20125\n",
      "    obs: 'barcode', 'assigned_cluster', 'Batch'\n",
      "    var: 'gene_names'\n"
     ]
    },
    {
     "name": "stderr",
     "output_type": "stream",
     "text": [
      "/tmp/ipykernel_245/1110842055.py:9: SettingWithCopyWarning: \n",
      "A value is trying to be set on a copy of a slice from a DataFrame.\n",
      "Try using .loc[row_indexer,col_indexer] = value instead\n",
      "\n",
      "See the caveats in the documentation: https://pandas.pydata.org/pandas-docs/stable/user_guide/indexing.html#returning-a-view-versus-a-copy\n",
      "  adata4.obs['Batch'] = '4'\n"
     ]
    }
   ],
   "source": [
    "file_path = '/workspace/ImputationOT/data/GSM2230760_human4_umifm_counts.csv.gz'\n",
    "data_df = pd.read_csv(file_path)\n",
    "data_df = data_df.drop(columns=['Unnamed: 0'])\n",
    "obs_data = data_df[['barcode', 'assigned_cluster']]\n",
    "gene_expression_data = data_df.drop(columns=['barcode', 'assigned_cluster'])\n",
    "adata4 = ad.AnnData(X=gene_expression_data.values)\n",
    "adata4.obs = obs_data\n",
    "adata4.var['gene_names'] = gene_expression_data.columns\n",
    "adata4.obs['Batch'] = '4'\n",
    "print(adata4)"
   ]
  },
  {
   "cell_type": "code",
   "execution_count": 62,
   "id": "af33c71d-f4da-4786-afb0-a55fbe3bddb9",
   "metadata": {},
   "outputs": [
    {
     "name": "stderr",
     "output_type": "stream",
     "text": [
      "/opt/conda/lib/python3.10/site-packages/anndata/_core/aligned_df.py:67: ImplicitModificationWarning: Transforming to str index.\n",
      "  warnings.warn(\"Transforming to str index.\", ImplicitModificationWarning)\n",
      "/opt/conda/lib/python3.10/site-packages/anndata/_core/anndata.py:1818: UserWarning: Observation names are not unique. To make them unique, call `.obs_names_make_unique`.\n",
      "  utils.warn_names_duplicates(\"obs\")\n"
     ]
    },
    {
     "name": "stdout",
     "output_type": "stream",
     "text": [
      "AnnData object with n_obs × n_vars = 8569 × 20125\n",
      "    obs: 'barcode', 'assigned_cluster', 'Batch'\n",
      "    var: 'gene_names'\n"
     ]
    },
    {
     "ename": "OSError",
     "evalue": "[Errno 28] Can't synchronously write data (file write failed: time = Sun Aug 25 07:21:26 2024\n, filename = '/workspace/ImputationOT/data/hmp.h5ad', file descriptor = 70, errno = 28, error message = 'No space left on device', buf = 0x7d67621a7810, total write size = 150749608, bytes this sub-write = 150749608, bytes actually written = 18446744073709551615, offset = 0)",
     "output_type": "error",
     "traceback": [
      "\u001b[0;31m---------------------------------------------------------------------------\u001b[0m",
      "\u001b[0;31mOSError\u001b[0m                                   Traceback (most recent call last)",
      "Cell \u001b[0;32mIn[62], line 3\u001b[0m\n\u001b[1;32m      1\u001b[0m adata_combined \u001b[38;5;241m=\u001b[39m ad\u001b[38;5;241m.\u001b[39mconcat([adata1, adata2, adata3, adata4], merge\u001b[38;5;241m=\u001b[39m\u001b[38;5;124m'\u001b[39m\u001b[38;5;124msame\u001b[39m\u001b[38;5;124m'\u001b[39m)\n\u001b[1;32m      2\u001b[0m \u001b[38;5;28mprint\u001b[39m(adata_combined)\n\u001b[0;32m----> 3\u001b[0m \u001b[43madata_combined\u001b[49m\u001b[38;5;241;43m.\u001b[39;49m\u001b[43mwrite\u001b[49m\u001b[43m(\u001b[49m\u001b[38;5;124;43m\"\u001b[39;49m\u001b[38;5;124;43m/workspace/ImputationOT/data/hmp.h5ad\u001b[39;49m\u001b[38;5;124;43m\"\u001b[39;49m\u001b[43m)\u001b[49m\n",
      "File \u001b[0;32m/opt/conda/lib/python3.10/site-packages/anndata/_core/anndata.py:1929\u001b[0m, in \u001b[0;36mAnnData.write_h5ad\u001b[0;34m(self, filename, compression, compression_opts, as_dense)\u001b[0m\n\u001b[1;32m   1926\u001b[0m \u001b[38;5;28;01mif\u001b[39;00m filename \u001b[38;5;129;01mis\u001b[39;00m \u001b[38;5;28;01mNone\u001b[39;00m:\n\u001b[1;32m   1927\u001b[0m     filename \u001b[38;5;241m=\u001b[39m \u001b[38;5;28mself\u001b[39m\u001b[38;5;241m.\u001b[39mfilename\n\u001b[0;32m-> 1929\u001b[0m \u001b[43mwrite_h5ad\u001b[49m\u001b[43m(\u001b[49m\n\u001b[1;32m   1930\u001b[0m \u001b[43m    \u001b[49m\u001b[43mPath\u001b[49m\u001b[43m(\u001b[49m\u001b[43mfilename\u001b[49m\u001b[43m)\u001b[49m\u001b[43m,\u001b[49m\n\u001b[1;32m   1931\u001b[0m \u001b[43m    \u001b[49m\u001b[38;5;28;43mself\u001b[39;49m\u001b[43m,\u001b[49m\n\u001b[1;32m   1932\u001b[0m \u001b[43m    \u001b[49m\u001b[43mcompression\u001b[49m\u001b[38;5;241;43m=\u001b[39;49m\u001b[43mcompression\u001b[49m\u001b[43m,\u001b[49m\n\u001b[1;32m   1933\u001b[0m \u001b[43m    \u001b[49m\u001b[43mcompression_opts\u001b[49m\u001b[38;5;241;43m=\u001b[39;49m\u001b[43mcompression_opts\u001b[49m\u001b[43m,\u001b[49m\n\u001b[1;32m   1934\u001b[0m \u001b[43m    \u001b[49m\u001b[43mas_dense\u001b[49m\u001b[38;5;241;43m=\u001b[39;49m\u001b[43mas_dense\u001b[49m\u001b[43m,\u001b[49m\n\u001b[1;32m   1935\u001b[0m \u001b[43m\u001b[49m\u001b[43m)\u001b[49m\n\u001b[1;32m   1937\u001b[0m \u001b[38;5;28;01mif\u001b[39;00m \u001b[38;5;28mself\u001b[39m\u001b[38;5;241m.\u001b[39misbacked:\n\u001b[1;32m   1938\u001b[0m     \u001b[38;5;28mself\u001b[39m\u001b[38;5;241m.\u001b[39mfile\u001b[38;5;241m.\u001b[39mfilename \u001b[38;5;241m=\u001b[39m filename\n",
      "File \u001b[0;32m/opt/conda/lib/python3.10/site-packages/anndata/_io/h5ad.py:91\u001b[0m, in \u001b[0;36mwrite_h5ad\u001b[0;34m(filepath, adata, as_dense, dataset_kwargs, **kwargs)\u001b[0m\n\u001b[1;32m     88\u001b[0m     write_sparse_as_dense(f, \u001b[38;5;124m\"\u001b[39m\u001b[38;5;124mX\u001b[39m\u001b[38;5;124m\"\u001b[39m, adata\u001b[38;5;241m.\u001b[39mX, dataset_kwargs\u001b[38;5;241m=\u001b[39mdataset_kwargs)\n\u001b[1;32m     89\u001b[0m \u001b[38;5;28;01melif\u001b[39;00m \u001b[38;5;129;01mnot\u001b[39;00m (adata\u001b[38;5;241m.\u001b[39misbacked \u001b[38;5;129;01mand\u001b[39;00m Path(adata\u001b[38;5;241m.\u001b[39mfilename) \u001b[38;5;241m==\u001b[39m Path(filepath)):\n\u001b[1;32m     90\u001b[0m     \u001b[38;5;66;03m# If adata.isbacked, X should already be up to date\u001b[39;00m\n\u001b[0;32m---> 91\u001b[0m     \u001b[43mwrite_elem\u001b[49m\u001b[43m(\u001b[49m\u001b[43mf\u001b[49m\u001b[43m,\u001b[49m\u001b[43m \u001b[49m\u001b[38;5;124;43m\"\u001b[39;49m\u001b[38;5;124;43mX\u001b[39;49m\u001b[38;5;124;43m\"\u001b[39;49m\u001b[43m,\u001b[49m\u001b[43m \u001b[49m\u001b[43madata\u001b[49m\u001b[38;5;241;43m.\u001b[39;49m\u001b[43mX\u001b[49m\u001b[43m,\u001b[49m\u001b[43m \u001b[49m\u001b[43mdataset_kwargs\u001b[49m\u001b[38;5;241;43m=\u001b[39;49m\u001b[43mdataset_kwargs\u001b[49m\u001b[43m)\u001b[49m\n\u001b[1;32m     92\u001b[0m \u001b[38;5;28;01mif\u001b[39;00m \u001b[38;5;124m\"\u001b[39m\u001b[38;5;124mraw/X\u001b[39m\u001b[38;5;124m\"\u001b[39m \u001b[38;5;129;01min\u001b[39;00m as_dense \u001b[38;5;129;01mand\u001b[39;00m \u001b[38;5;28misinstance\u001b[39m(\n\u001b[1;32m     93\u001b[0m     adata\u001b[38;5;241m.\u001b[39mraw\u001b[38;5;241m.\u001b[39mX, (sparse\u001b[38;5;241m.\u001b[39mspmatrix, BaseCompressedSparseDataset)\n\u001b[1;32m     94\u001b[0m ):\n\u001b[1;32m     95\u001b[0m     write_sparse_as_dense(\n\u001b[1;32m     96\u001b[0m         f, \u001b[38;5;124m\"\u001b[39m\u001b[38;5;124mraw/X\u001b[39m\u001b[38;5;124m\"\u001b[39m, adata\u001b[38;5;241m.\u001b[39mraw\u001b[38;5;241m.\u001b[39mX, dataset_kwargs\u001b[38;5;241m=\u001b[39mdataset_kwargs\n\u001b[1;32m     97\u001b[0m     )\n",
      "File \u001b[0;32m/opt/conda/lib/python3.10/site-packages/anndata/_io/specs/registry.py:359\u001b[0m, in \u001b[0;36mwrite_elem\u001b[0;34m(store, k, elem, dataset_kwargs)\u001b[0m\n\u001b[1;32m    335\u001b[0m \u001b[38;5;28;01mdef\u001b[39;00m \u001b[38;5;21mwrite_elem\u001b[39m(\n\u001b[1;32m    336\u001b[0m     store: GroupStorageType,\n\u001b[1;32m    337\u001b[0m     k: \u001b[38;5;28mstr\u001b[39m,\n\u001b[0;32m   (...)\u001b[0m\n\u001b[1;32m    340\u001b[0m     dataset_kwargs: Mapping[\u001b[38;5;28mstr\u001b[39m, Any] \u001b[38;5;241m=\u001b[39m MappingProxyType({}),\n\u001b[1;32m    341\u001b[0m ) \u001b[38;5;241m-\u001b[39m\u001b[38;5;241m>\u001b[39m \u001b[38;5;28;01mNone\u001b[39;00m:\n\u001b[1;32m    342\u001b[0m \u001b[38;5;250m    \u001b[39m\u001b[38;5;124;03m\"\"\"\u001b[39;00m\n\u001b[1;32m    343\u001b[0m \u001b[38;5;124;03m    Write an element to a storage group using anndata encoding.\u001b[39;00m\n\u001b[1;32m    344\u001b[0m \n\u001b[0;32m   (...)\u001b[0m\n\u001b[1;32m    357\u001b[0m \u001b[38;5;124;03m        E.g. for zarr this would be `chunks`, `compressor`.\u001b[39;00m\n\u001b[1;32m    358\u001b[0m \u001b[38;5;124;03m    \"\"\"\u001b[39;00m\n\u001b[0;32m--> 359\u001b[0m     \u001b[43mWriter\u001b[49m\u001b[43m(\u001b[49m\u001b[43m_REGISTRY\u001b[49m\u001b[43m)\u001b[49m\u001b[38;5;241;43m.\u001b[39;49m\u001b[43mwrite_elem\u001b[49m\u001b[43m(\u001b[49m\u001b[43mstore\u001b[49m\u001b[43m,\u001b[49m\u001b[43m \u001b[49m\u001b[43mk\u001b[49m\u001b[43m,\u001b[49m\u001b[43m \u001b[49m\u001b[43melem\u001b[49m\u001b[43m,\u001b[49m\u001b[43m \u001b[49m\u001b[43mdataset_kwargs\u001b[49m\u001b[38;5;241;43m=\u001b[39;49m\u001b[43mdataset_kwargs\u001b[49m\u001b[43m)\u001b[49m\n",
      "File \u001b[0;32m/opt/conda/lib/python3.10/site-packages/anndata/_io/utils.py:243\u001b[0m, in \u001b[0;36mreport_write_key_on_error.<locals>.func_wrapper\u001b[0;34m(*args, **kwargs)\u001b[0m\n\u001b[1;32m    241\u001b[0m     \u001b[38;5;28;01mraise\u001b[39;00m \u001b[38;5;167;01mValueError\u001b[39;00m(\u001b[38;5;124m\"\u001b[39m\u001b[38;5;124mNo element found in args.\u001b[39m\u001b[38;5;124m\"\u001b[39m)\n\u001b[1;32m    242\u001b[0m \u001b[38;5;28;01mtry\u001b[39;00m:\n\u001b[0;32m--> 243\u001b[0m     \u001b[38;5;28;01mreturn\u001b[39;00m \u001b[43mfunc\u001b[49m\u001b[43m(\u001b[49m\u001b[38;5;241;43m*\u001b[39;49m\u001b[43margs\u001b[49m\u001b[43m,\u001b[49m\u001b[43m \u001b[49m\u001b[38;5;241;43m*\u001b[39;49m\u001b[38;5;241;43m*\u001b[39;49m\u001b[43mkwargs\u001b[49m\u001b[43m)\u001b[49m\n\u001b[1;32m    244\u001b[0m \u001b[38;5;28;01mexcept\u001b[39;00m \u001b[38;5;167;01mException\u001b[39;00m \u001b[38;5;28;01mas\u001b[39;00m e:\n\u001b[1;32m    245\u001b[0m     path \u001b[38;5;241m=\u001b[39m _get_display_path(store)\n",
      "File \u001b[0;32m/opt/conda/lib/python3.10/site-packages/anndata/_io/specs/registry.py:309\u001b[0m, in \u001b[0;36mWriter.write_elem\u001b[0;34m(self, store, k, elem, dataset_kwargs, modifiers)\u001b[0m\n\u001b[1;32m    303\u001b[0m write_func \u001b[38;5;241m=\u001b[39m partial(\n\u001b[1;32m    304\u001b[0m     \u001b[38;5;28mself\u001b[39m\u001b[38;5;241m.\u001b[39mfind_writer(dest_type, elem, modifiers),\n\u001b[1;32m    305\u001b[0m     _writer\u001b[38;5;241m=\u001b[39m\u001b[38;5;28mself\u001b[39m,\n\u001b[1;32m    306\u001b[0m )\n\u001b[1;32m    308\u001b[0m \u001b[38;5;28;01mif\u001b[39;00m \u001b[38;5;28mself\u001b[39m\u001b[38;5;241m.\u001b[39mcallback \u001b[38;5;129;01mis\u001b[39;00m \u001b[38;5;28;01mNone\u001b[39;00m:\n\u001b[0;32m--> 309\u001b[0m     \u001b[38;5;28;01mreturn\u001b[39;00m \u001b[43mwrite_func\u001b[49m\u001b[43m(\u001b[49m\u001b[43mstore\u001b[49m\u001b[43m,\u001b[49m\u001b[43m \u001b[49m\u001b[43mk\u001b[49m\u001b[43m,\u001b[49m\u001b[43m \u001b[49m\u001b[43melem\u001b[49m\u001b[43m,\u001b[49m\u001b[43m \u001b[49m\u001b[43mdataset_kwargs\u001b[49m\u001b[38;5;241;43m=\u001b[39;49m\u001b[43mdataset_kwargs\u001b[49m\u001b[43m)\u001b[49m\n\u001b[1;32m    310\u001b[0m \u001b[38;5;28;01mreturn\u001b[39;00m \u001b[38;5;28mself\u001b[39m\u001b[38;5;241m.\u001b[39mcallback(\n\u001b[1;32m    311\u001b[0m     write_func,\n\u001b[1;32m    312\u001b[0m     store,\n\u001b[0;32m   (...)\u001b[0m\n\u001b[1;32m    316\u001b[0m     iospec\u001b[38;5;241m=\u001b[39m\u001b[38;5;28mself\u001b[39m\u001b[38;5;241m.\u001b[39mregistry\u001b[38;5;241m.\u001b[39mget_spec(elem),\n\u001b[1;32m    317\u001b[0m )\n",
      "File \u001b[0;32m/opt/conda/lib/python3.10/site-packages/anndata/_io/specs/registry.py:57\u001b[0m, in \u001b[0;36mwrite_spec.<locals>.decorator.<locals>.wrapper\u001b[0;34m(g, k, *args, **kwargs)\u001b[0m\n\u001b[1;32m     55\u001b[0m \u001b[38;5;129m@wraps\u001b[39m(func)\n\u001b[1;32m     56\u001b[0m \u001b[38;5;28;01mdef\u001b[39;00m \u001b[38;5;21mwrapper\u001b[39m(g: GroupStorageType, k: \u001b[38;5;28mstr\u001b[39m, \u001b[38;5;241m*\u001b[39margs, \u001b[38;5;241m*\u001b[39m\u001b[38;5;241m*\u001b[39mkwargs):\n\u001b[0;32m---> 57\u001b[0m     result \u001b[38;5;241m=\u001b[39m \u001b[43mfunc\u001b[49m\u001b[43m(\u001b[49m\u001b[43mg\u001b[49m\u001b[43m,\u001b[49m\u001b[43m \u001b[49m\u001b[43mk\u001b[49m\u001b[43m,\u001b[49m\u001b[43m \u001b[49m\u001b[38;5;241;43m*\u001b[39;49m\u001b[43margs\u001b[49m\u001b[43m,\u001b[49m\u001b[43m \u001b[49m\u001b[38;5;241;43m*\u001b[39;49m\u001b[38;5;241;43m*\u001b[39;49m\u001b[43mkwargs\u001b[49m\u001b[43m)\u001b[49m\n\u001b[1;32m     58\u001b[0m     g[k]\u001b[38;5;241m.\u001b[39mattrs\u001b[38;5;241m.\u001b[39msetdefault(\u001b[38;5;124m\"\u001b[39m\u001b[38;5;124mencoding-type\u001b[39m\u001b[38;5;124m\"\u001b[39m, spec\u001b[38;5;241m.\u001b[39mencoding_type)\n\u001b[1;32m     59\u001b[0m     g[k]\u001b[38;5;241m.\u001b[39mattrs\u001b[38;5;241m.\u001b[39msetdefault(\u001b[38;5;124m\"\u001b[39m\u001b[38;5;124mencoding-version\u001b[39m\u001b[38;5;124m\"\u001b[39m, spec\u001b[38;5;241m.\u001b[39mencoding_version)\n",
      "File \u001b[0;32m/opt/conda/lib/python3.10/site-packages/anndata/_io/specs/methods.py:339\u001b[0m, in \u001b[0;36mwrite_basic\u001b[0;34m(f, k, elem, _writer, dataset_kwargs)\u001b[0m\n\u001b[1;32m    328\u001b[0m \u001b[38;5;129m@_REGISTRY\u001b[39m\u001b[38;5;241m.\u001b[39mregister_write(H5Group, views\u001b[38;5;241m.\u001b[39mArrayView, IOSpec(\u001b[38;5;124m\"\u001b[39m\u001b[38;5;124marray\u001b[39m\u001b[38;5;124m\"\u001b[39m, \u001b[38;5;124m\"\u001b[39m\u001b[38;5;124m0.2.0\u001b[39m\u001b[38;5;124m\"\u001b[39m))\n\u001b[1;32m    329\u001b[0m \u001b[38;5;129m@_REGISTRY\u001b[39m\u001b[38;5;241m.\u001b[39mregister_write(H5Group, np\u001b[38;5;241m.\u001b[39mndarray, IOSpec(\u001b[38;5;124m\"\u001b[39m\u001b[38;5;124marray\u001b[39m\u001b[38;5;124m\"\u001b[39m, \u001b[38;5;124m\"\u001b[39m\u001b[38;5;124m0.2.0\u001b[39m\u001b[38;5;124m\"\u001b[39m))\n\u001b[1;32m    330\u001b[0m \u001b[38;5;129m@_REGISTRY\u001b[39m\u001b[38;5;241m.\u001b[39mregister_write(H5Group, h5py\u001b[38;5;241m.\u001b[39mDataset, IOSpec(\u001b[38;5;124m\"\u001b[39m\u001b[38;5;124marray\u001b[39m\u001b[38;5;124m\"\u001b[39m, \u001b[38;5;124m\"\u001b[39m\u001b[38;5;124m0.2.0\u001b[39m\u001b[38;5;124m\"\u001b[39m))\n\u001b[0;32m   (...)\u001b[0m\n\u001b[1;32m    336\u001b[0m \u001b[38;5;129m@_REGISTRY\u001b[39m\u001b[38;5;241m.\u001b[39mregister_write(ZarrGroup, ZarrArray, IOSpec(\u001b[38;5;124m\"\u001b[39m\u001b[38;5;124marray\u001b[39m\u001b[38;5;124m\"\u001b[39m, \u001b[38;5;124m\"\u001b[39m\u001b[38;5;124m0.2.0\u001b[39m\u001b[38;5;124m\"\u001b[39m))\n\u001b[1;32m    337\u001b[0m \u001b[38;5;28;01mdef\u001b[39;00m \u001b[38;5;21mwrite_basic\u001b[39m(f, k, elem, _writer, dataset_kwargs\u001b[38;5;241m=\u001b[39mMappingProxyType({})):\n\u001b[1;32m    338\u001b[0m \u001b[38;5;250m    \u001b[39m\u001b[38;5;124;03m\"\"\"Write methods which underlying library handles natively.\"\"\"\u001b[39;00m\n\u001b[0;32m--> 339\u001b[0m     \u001b[43mf\u001b[49m\u001b[38;5;241;43m.\u001b[39;49m\u001b[43mcreate_dataset\u001b[49m\u001b[43m(\u001b[49m\u001b[43mk\u001b[49m\u001b[43m,\u001b[49m\u001b[43m \u001b[49m\u001b[43mdata\u001b[49m\u001b[38;5;241;43m=\u001b[39;49m\u001b[43melem\u001b[49m\u001b[43m,\u001b[49m\u001b[43m \u001b[49m\u001b[38;5;241;43m*\u001b[39;49m\u001b[38;5;241;43m*\u001b[39;49m\u001b[43mdataset_kwargs\u001b[49m\u001b[43m)\u001b[49m\n",
      "File \u001b[0;32m/opt/conda/lib/python3.10/site-packages/h5py/_hl/group.py:183\u001b[0m, in \u001b[0;36mGroup.create_dataset\u001b[0;34m(self, name, shape, dtype, data, **kwds)\u001b[0m\n\u001b[1;32m    180\u001b[0m         parent_path, name \u001b[38;5;241m=\u001b[39m name\u001b[38;5;241m.\u001b[39mrsplit(\u001b[38;5;124mb\u001b[39m\u001b[38;5;124m'\u001b[39m\u001b[38;5;124m/\u001b[39m\u001b[38;5;124m'\u001b[39m, \u001b[38;5;241m1\u001b[39m)\n\u001b[1;32m    181\u001b[0m         group \u001b[38;5;241m=\u001b[39m \u001b[38;5;28mself\u001b[39m\u001b[38;5;241m.\u001b[39mrequire_group(parent_path)\n\u001b[0;32m--> 183\u001b[0m dsid \u001b[38;5;241m=\u001b[39m \u001b[43mdataset\u001b[49m\u001b[38;5;241;43m.\u001b[39;49m\u001b[43mmake_new_dset\u001b[49m\u001b[43m(\u001b[49m\u001b[43mgroup\u001b[49m\u001b[43m,\u001b[49m\u001b[43m \u001b[49m\u001b[43mshape\u001b[49m\u001b[43m,\u001b[49m\u001b[43m \u001b[49m\u001b[43mdtype\u001b[49m\u001b[43m,\u001b[49m\u001b[43m \u001b[49m\u001b[43mdata\u001b[49m\u001b[43m,\u001b[49m\u001b[43m \u001b[49m\u001b[43mname\u001b[49m\u001b[43m,\u001b[49m\u001b[43m \u001b[49m\u001b[38;5;241;43m*\u001b[39;49m\u001b[38;5;241;43m*\u001b[39;49m\u001b[43mkwds\u001b[49m\u001b[43m)\u001b[49m\n\u001b[1;32m    184\u001b[0m dset \u001b[38;5;241m=\u001b[39m dataset\u001b[38;5;241m.\u001b[39mDataset(dsid)\n\u001b[1;32m    185\u001b[0m \u001b[38;5;28;01mreturn\u001b[39;00m dset\n",
      "File \u001b[0;32m/opt/conda/lib/python3.10/site-packages/h5py/_hl/dataset.py:166\u001b[0m, in \u001b[0;36mmake_new_dset\u001b[0;34m(parent, shape, dtype, data, name, chunks, compression, shuffle, fletcher32, maxshape, compression_opts, fillvalue, scaleoffset, track_times, external, track_order, dcpl, dapl, efile_prefix, virtual_prefix, allow_unknown_filter, rdcc_nslots, rdcc_nbytes, rdcc_w0)\u001b[0m\n\u001b[1;32m    163\u001b[0m dset_id \u001b[38;5;241m=\u001b[39m h5d\u001b[38;5;241m.\u001b[39mcreate(parent\u001b[38;5;241m.\u001b[39mid, name, tid, sid, dcpl\u001b[38;5;241m=\u001b[39mdcpl, dapl\u001b[38;5;241m=\u001b[39mdapl)\n\u001b[1;32m    165\u001b[0m \u001b[38;5;28;01mif\u001b[39;00m (data \u001b[38;5;129;01mis\u001b[39;00m \u001b[38;5;129;01mnot\u001b[39;00m \u001b[38;5;28;01mNone\u001b[39;00m) \u001b[38;5;129;01mand\u001b[39;00m (\u001b[38;5;129;01mnot\u001b[39;00m \u001b[38;5;28misinstance\u001b[39m(data, Empty)):\n\u001b[0;32m--> 166\u001b[0m     \u001b[43mdset_id\u001b[49m\u001b[38;5;241;43m.\u001b[39;49m\u001b[43mwrite\u001b[49m\u001b[43m(\u001b[49m\u001b[43mh5s\u001b[49m\u001b[38;5;241;43m.\u001b[39;49m\u001b[43mALL\u001b[49m\u001b[43m,\u001b[49m\u001b[43m \u001b[49m\u001b[43mh5s\u001b[49m\u001b[38;5;241;43m.\u001b[39;49m\u001b[43mALL\u001b[49m\u001b[43m,\u001b[49m\u001b[43m \u001b[49m\u001b[43mdata\u001b[49m\u001b[43m)\u001b[49m\n\u001b[1;32m    168\u001b[0m \u001b[38;5;28;01mreturn\u001b[39;00m dset_id\n",
      "File \u001b[0;32mh5py/_objects.pyx:54\u001b[0m, in \u001b[0;36mh5py._objects.with_phil.wrapper\u001b[0;34m()\u001b[0m\n",
      "File \u001b[0;32mh5py/_objects.pyx:55\u001b[0m, in \u001b[0;36mh5py._objects.with_phil.wrapper\u001b[0;34m()\u001b[0m\n",
      "File \u001b[0;32mh5py/h5d.pyx:282\u001b[0m, in \u001b[0;36mh5py.h5d.DatasetID.write\u001b[0;34m()\u001b[0m\n",
      "File \u001b[0;32mh5py/_proxy.pyx:115\u001b[0m, in \u001b[0;36mh5py._proxy.dset_rw\u001b[0;34m()\u001b[0m\n",
      "\u001b[0;31mOSError\u001b[0m: [Errno 28] Can't synchronously write data (file write failed: time = Sun Aug 25 07:21:26 2024\n, filename = '/workspace/ImputationOT/data/hmp.h5ad', file descriptor = 70, errno = 28, error message = 'No space left on device', buf = 0x7d67621a7810, total write size = 150749608, bytes this sub-write = 150749608, bytes actually written = 18446744073709551615, offset = 0)",
      "\u001b[0mError raised while writing key 'X' of <class 'h5py._hl.group.Group'> to /"
     ]
    }
   ],
   "source": [
    "adata_combined = ad.concat([adata1, adata2, adata3, adata4], merge='same')\n",
    "print(adata_combined)"
   ]
  },
  {
   "cell_type": "code",
   "execution_count": 63,
   "id": "9ff94487-311d-4b26-98d1-22c5797395fc",
   "metadata": {},
   "outputs": [
    {
     "ename": "OSError",
     "evalue": "[Errno 28] Can't synchronously write data (file write failed: time = Sun Aug 25 07:24:47 2024\n, filename = '/workspace/ImputationOT/data/hmp.h5ad', file descriptor = 71, errno = 28, error message = 'No space left on device', buf = 0x7d666f3a3810, total write size = 150421928, bytes this sub-write = 150421928, bytes actually written = 18446744073709551615, offset = 0)",
     "output_type": "error",
     "traceback": [
      "\u001b[0;31m---------------------------------------------------------------------------\u001b[0m",
      "\u001b[0;31mOSError\u001b[0m                                   Traceback (most recent call last)",
      "Cell \u001b[0;32mIn[63], line 1\u001b[0m\n\u001b[0;32m----> 1\u001b[0m \u001b[43madata_combined\u001b[49m\u001b[38;5;241;43m.\u001b[39;49m\u001b[43mwrite\u001b[49m\u001b[43m(\u001b[49m\u001b[38;5;124;43m\"\u001b[39;49m\u001b[38;5;124;43m/workspace/ImputationOT/data/hmp.h5ad\u001b[39;49m\u001b[38;5;124;43m\"\u001b[39;49m\u001b[43m)\u001b[49m\n",
      "File \u001b[0;32m/opt/conda/lib/python3.10/site-packages/anndata/_core/anndata.py:1929\u001b[0m, in \u001b[0;36mAnnData.write_h5ad\u001b[0;34m(self, filename, compression, compression_opts, as_dense)\u001b[0m\n\u001b[1;32m   1926\u001b[0m \u001b[38;5;28;01mif\u001b[39;00m filename \u001b[38;5;129;01mis\u001b[39;00m \u001b[38;5;28;01mNone\u001b[39;00m:\n\u001b[1;32m   1927\u001b[0m     filename \u001b[38;5;241m=\u001b[39m \u001b[38;5;28mself\u001b[39m\u001b[38;5;241m.\u001b[39mfilename\n\u001b[0;32m-> 1929\u001b[0m \u001b[43mwrite_h5ad\u001b[49m\u001b[43m(\u001b[49m\n\u001b[1;32m   1930\u001b[0m \u001b[43m    \u001b[49m\u001b[43mPath\u001b[49m\u001b[43m(\u001b[49m\u001b[43mfilename\u001b[49m\u001b[43m)\u001b[49m\u001b[43m,\u001b[49m\n\u001b[1;32m   1931\u001b[0m \u001b[43m    \u001b[49m\u001b[38;5;28;43mself\u001b[39;49m\u001b[43m,\u001b[49m\n\u001b[1;32m   1932\u001b[0m \u001b[43m    \u001b[49m\u001b[43mcompression\u001b[49m\u001b[38;5;241;43m=\u001b[39;49m\u001b[43mcompression\u001b[49m\u001b[43m,\u001b[49m\n\u001b[1;32m   1933\u001b[0m \u001b[43m    \u001b[49m\u001b[43mcompression_opts\u001b[49m\u001b[38;5;241;43m=\u001b[39;49m\u001b[43mcompression_opts\u001b[49m\u001b[43m,\u001b[49m\n\u001b[1;32m   1934\u001b[0m \u001b[43m    \u001b[49m\u001b[43mas_dense\u001b[49m\u001b[38;5;241;43m=\u001b[39;49m\u001b[43mas_dense\u001b[49m\u001b[43m,\u001b[49m\n\u001b[1;32m   1935\u001b[0m \u001b[43m\u001b[49m\u001b[43m)\u001b[49m\n\u001b[1;32m   1937\u001b[0m \u001b[38;5;28;01mif\u001b[39;00m \u001b[38;5;28mself\u001b[39m\u001b[38;5;241m.\u001b[39misbacked:\n\u001b[1;32m   1938\u001b[0m     \u001b[38;5;28mself\u001b[39m\u001b[38;5;241m.\u001b[39mfile\u001b[38;5;241m.\u001b[39mfilename \u001b[38;5;241m=\u001b[39m filename\n",
      "File \u001b[0;32m/opt/conda/lib/python3.10/site-packages/anndata/_io/h5ad.py:91\u001b[0m, in \u001b[0;36mwrite_h5ad\u001b[0;34m(filepath, adata, as_dense, dataset_kwargs, **kwargs)\u001b[0m\n\u001b[1;32m     88\u001b[0m     write_sparse_as_dense(f, \u001b[38;5;124m\"\u001b[39m\u001b[38;5;124mX\u001b[39m\u001b[38;5;124m\"\u001b[39m, adata\u001b[38;5;241m.\u001b[39mX, dataset_kwargs\u001b[38;5;241m=\u001b[39mdataset_kwargs)\n\u001b[1;32m     89\u001b[0m \u001b[38;5;28;01melif\u001b[39;00m \u001b[38;5;129;01mnot\u001b[39;00m (adata\u001b[38;5;241m.\u001b[39misbacked \u001b[38;5;129;01mand\u001b[39;00m Path(adata\u001b[38;5;241m.\u001b[39mfilename) \u001b[38;5;241m==\u001b[39m Path(filepath)):\n\u001b[1;32m     90\u001b[0m     \u001b[38;5;66;03m# If adata.isbacked, X should already be up to date\u001b[39;00m\n\u001b[0;32m---> 91\u001b[0m     \u001b[43mwrite_elem\u001b[49m\u001b[43m(\u001b[49m\u001b[43mf\u001b[49m\u001b[43m,\u001b[49m\u001b[43m \u001b[49m\u001b[38;5;124;43m\"\u001b[39;49m\u001b[38;5;124;43mX\u001b[39;49m\u001b[38;5;124;43m\"\u001b[39;49m\u001b[43m,\u001b[49m\u001b[43m \u001b[49m\u001b[43madata\u001b[49m\u001b[38;5;241;43m.\u001b[39;49m\u001b[43mX\u001b[49m\u001b[43m,\u001b[49m\u001b[43m \u001b[49m\u001b[43mdataset_kwargs\u001b[49m\u001b[38;5;241;43m=\u001b[39;49m\u001b[43mdataset_kwargs\u001b[49m\u001b[43m)\u001b[49m\n\u001b[1;32m     92\u001b[0m \u001b[38;5;28;01mif\u001b[39;00m \u001b[38;5;124m\"\u001b[39m\u001b[38;5;124mraw/X\u001b[39m\u001b[38;5;124m\"\u001b[39m \u001b[38;5;129;01min\u001b[39;00m as_dense \u001b[38;5;129;01mand\u001b[39;00m \u001b[38;5;28misinstance\u001b[39m(\n\u001b[1;32m     93\u001b[0m     adata\u001b[38;5;241m.\u001b[39mraw\u001b[38;5;241m.\u001b[39mX, (sparse\u001b[38;5;241m.\u001b[39mspmatrix, BaseCompressedSparseDataset)\n\u001b[1;32m     94\u001b[0m ):\n\u001b[1;32m     95\u001b[0m     write_sparse_as_dense(\n\u001b[1;32m     96\u001b[0m         f, \u001b[38;5;124m\"\u001b[39m\u001b[38;5;124mraw/X\u001b[39m\u001b[38;5;124m\"\u001b[39m, adata\u001b[38;5;241m.\u001b[39mraw\u001b[38;5;241m.\u001b[39mX, dataset_kwargs\u001b[38;5;241m=\u001b[39mdataset_kwargs\n\u001b[1;32m     97\u001b[0m     )\n",
      "File \u001b[0;32m/opt/conda/lib/python3.10/site-packages/anndata/_io/specs/registry.py:359\u001b[0m, in \u001b[0;36mwrite_elem\u001b[0;34m(store, k, elem, dataset_kwargs)\u001b[0m\n\u001b[1;32m    335\u001b[0m \u001b[38;5;28;01mdef\u001b[39;00m \u001b[38;5;21mwrite_elem\u001b[39m(\n\u001b[1;32m    336\u001b[0m     store: GroupStorageType,\n\u001b[1;32m    337\u001b[0m     k: \u001b[38;5;28mstr\u001b[39m,\n\u001b[0;32m   (...)\u001b[0m\n\u001b[1;32m    340\u001b[0m     dataset_kwargs: Mapping[\u001b[38;5;28mstr\u001b[39m, Any] \u001b[38;5;241m=\u001b[39m MappingProxyType({}),\n\u001b[1;32m    341\u001b[0m ) \u001b[38;5;241m-\u001b[39m\u001b[38;5;241m>\u001b[39m \u001b[38;5;28;01mNone\u001b[39;00m:\n\u001b[1;32m    342\u001b[0m \u001b[38;5;250m    \u001b[39m\u001b[38;5;124;03m\"\"\"\u001b[39;00m\n\u001b[1;32m    343\u001b[0m \u001b[38;5;124;03m    Write an element to a storage group using anndata encoding.\u001b[39;00m\n\u001b[1;32m    344\u001b[0m \n\u001b[0;32m   (...)\u001b[0m\n\u001b[1;32m    357\u001b[0m \u001b[38;5;124;03m        E.g. for zarr this would be `chunks`, `compressor`.\u001b[39;00m\n\u001b[1;32m    358\u001b[0m \u001b[38;5;124;03m    \"\"\"\u001b[39;00m\n\u001b[0;32m--> 359\u001b[0m     \u001b[43mWriter\u001b[49m\u001b[43m(\u001b[49m\u001b[43m_REGISTRY\u001b[49m\u001b[43m)\u001b[49m\u001b[38;5;241;43m.\u001b[39;49m\u001b[43mwrite_elem\u001b[49m\u001b[43m(\u001b[49m\u001b[43mstore\u001b[49m\u001b[43m,\u001b[49m\u001b[43m \u001b[49m\u001b[43mk\u001b[49m\u001b[43m,\u001b[49m\u001b[43m \u001b[49m\u001b[43melem\u001b[49m\u001b[43m,\u001b[49m\u001b[43m \u001b[49m\u001b[43mdataset_kwargs\u001b[49m\u001b[38;5;241;43m=\u001b[39;49m\u001b[43mdataset_kwargs\u001b[49m\u001b[43m)\u001b[49m\n",
      "File \u001b[0;32m/opt/conda/lib/python3.10/site-packages/anndata/_io/utils.py:243\u001b[0m, in \u001b[0;36mreport_write_key_on_error.<locals>.func_wrapper\u001b[0;34m(*args, **kwargs)\u001b[0m\n\u001b[1;32m    241\u001b[0m     \u001b[38;5;28;01mraise\u001b[39;00m \u001b[38;5;167;01mValueError\u001b[39;00m(\u001b[38;5;124m\"\u001b[39m\u001b[38;5;124mNo element found in args.\u001b[39m\u001b[38;5;124m\"\u001b[39m)\n\u001b[1;32m    242\u001b[0m \u001b[38;5;28;01mtry\u001b[39;00m:\n\u001b[0;32m--> 243\u001b[0m     \u001b[38;5;28;01mreturn\u001b[39;00m \u001b[43mfunc\u001b[49m\u001b[43m(\u001b[49m\u001b[38;5;241;43m*\u001b[39;49m\u001b[43margs\u001b[49m\u001b[43m,\u001b[49m\u001b[43m \u001b[49m\u001b[38;5;241;43m*\u001b[39;49m\u001b[38;5;241;43m*\u001b[39;49m\u001b[43mkwargs\u001b[49m\u001b[43m)\u001b[49m\n\u001b[1;32m    244\u001b[0m \u001b[38;5;28;01mexcept\u001b[39;00m \u001b[38;5;167;01mException\u001b[39;00m \u001b[38;5;28;01mas\u001b[39;00m e:\n\u001b[1;32m    245\u001b[0m     path \u001b[38;5;241m=\u001b[39m _get_display_path(store)\n",
      "File \u001b[0;32m/opt/conda/lib/python3.10/site-packages/anndata/_io/specs/registry.py:309\u001b[0m, in \u001b[0;36mWriter.write_elem\u001b[0;34m(self, store, k, elem, dataset_kwargs, modifiers)\u001b[0m\n\u001b[1;32m    303\u001b[0m write_func \u001b[38;5;241m=\u001b[39m partial(\n\u001b[1;32m    304\u001b[0m     \u001b[38;5;28mself\u001b[39m\u001b[38;5;241m.\u001b[39mfind_writer(dest_type, elem, modifiers),\n\u001b[1;32m    305\u001b[0m     _writer\u001b[38;5;241m=\u001b[39m\u001b[38;5;28mself\u001b[39m,\n\u001b[1;32m    306\u001b[0m )\n\u001b[1;32m    308\u001b[0m \u001b[38;5;28;01mif\u001b[39;00m \u001b[38;5;28mself\u001b[39m\u001b[38;5;241m.\u001b[39mcallback \u001b[38;5;129;01mis\u001b[39;00m \u001b[38;5;28;01mNone\u001b[39;00m:\n\u001b[0;32m--> 309\u001b[0m     \u001b[38;5;28;01mreturn\u001b[39;00m \u001b[43mwrite_func\u001b[49m\u001b[43m(\u001b[49m\u001b[43mstore\u001b[49m\u001b[43m,\u001b[49m\u001b[43m \u001b[49m\u001b[43mk\u001b[49m\u001b[43m,\u001b[49m\u001b[43m \u001b[49m\u001b[43melem\u001b[49m\u001b[43m,\u001b[49m\u001b[43m \u001b[49m\u001b[43mdataset_kwargs\u001b[49m\u001b[38;5;241;43m=\u001b[39;49m\u001b[43mdataset_kwargs\u001b[49m\u001b[43m)\u001b[49m\n\u001b[1;32m    310\u001b[0m \u001b[38;5;28;01mreturn\u001b[39;00m \u001b[38;5;28mself\u001b[39m\u001b[38;5;241m.\u001b[39mcallback(\n\u001b[1;32m    311\u001b[0m     write_func,\n\u001b[1;32m    312\u001b[0m     store,\n\u001b[0;32m   (...)\u001b[0m\n\u001b[1;32m    316\u001b[0m     iospec\u001b[38;5;241m=\u001b[39m\u001b[38;5;28mself\u001b[39m\u001b[38;5;241m.\u001b[39mregistry\u001b[38;5;241m.\u001b[39mget_spec(elem),\n\u001b[1;32m    317\u001b[0m )\n",
      "File \u001b[0;32m/opt/conda/lib/python3.10/site-packages/anndata/_io/specs/registry.py:57\u001b[0m, in \u001b[0;36mwrite_spec.<locals>.decorator.<locals>.wrapper\u001b[0;34m(g, k, *args, **kwargs)\u001b[0m\n\u001b[1;32m     55\u001b[0m \u001b[38;5;129m@wraps\u001b[39m(func)\n\u001b[1;32m     56\u001b[0m \u001b[38;5;28;01mdef\u001b[39;00m \u001b[38;5;21mwrapper\u001b[39m(g: GroupStorageType, k: \u001b[38;5;28mstr\u001b[39m, \u001b[38;5;241m*\u001b[39margs, \u001b[38;5;241m*\u001b[39m\u001b[38;5;241m*\u001b[39mkwargs):\n\u001b[0;32m---> 57\u001b[0m     result \u001b[38;5;241m=\u001b[39m \u001b[43mfunc\u001b[49m\u001b[43m(\u001b[49m\u001b[43mg\u001b[49m\u001b[43m,\u001b[49m\u001b[43m \u001b[49m\u001b[43mk\u001b[49m\u001b[43m,\u001b[49m\u001b[43m \u001b[49m\u001b[38;5;241;43m*\u001b[39;49m\u001b[43margs\u001b[49m\u001b[43m,\u001b[49m\u001b[43m \u001b[49m\u001b[38;5;241;43m*\u001b[39;49m\u001b[38;5;241;43m*\u001b[39;49m\u001b[43mkwargs\u001b[49m\u001b[43m)\u001b[49m\n\u001b[1;32m     58\u001b[0m     g[k]\u001b[38;5;241m.\u001b[39mattrs\u001b[38;5;241m.\u001b[39msetdefault(\u001b[38;5;124m\"\u001b[39m\u001b[38;5;124mencoding-type\u001b[39m\u001b[38;5;124m\"\u001b[39m, spec\u001b[38;5;241m.\u001b[39mencoding_type)\n\u001b[1;32m     59\u001b[0m     g[k]\u001b[38;5;241m.\u001b[39mattrs\u001b[38;5;241m.\u001b[39msetdefault(\u001b[38;5;124m\"\u001b[39m\u001b[38;5;124mencoding-version\u001b[39m\u001b[38;5;124m\"\u001b[39m, spec\u001b[38;5;241m.\u001b[39mencoding_version)\n",
      "File \u001b[0;32m/opt/conda/lib/python3.10/site-packages/anndata/_io/specs/methods.py:339\u001b[0m, in \u001b[0;36mwrite_basic\u001b[0;34m(f, k, elem, _writer, dataset_kwargs)\u001b[0m\n\u001b[1;32m    328\u001b[0m \u001b[38;5;129m@_REGISTRY\u001b[39m\u001b[38;5;241m.\u001b[39mregister_write(H5Group, views\u001b[38;5;241m.\u001b[39mArrayView, IOSpec(\u001b[38;5;124m\"\u001b[39m\u001b[38;5;124marray\u001b[39m\u001b[38;5;124m\"\u001b[39m, \u001b[38;5;124m\"\u001b[39m\u001b[38;5;124m0.2.0\u001b[39m\u001b[38;5;124m\"\u001b[39m))\n\u001b[1;32m    329\u001b[0m \u001b[38;5;129m@_REGISTRY\u001b[39m\u001b[38;5;241m.\u001b[39mregister_write(H5Group, np\u001b[38;5;241m.\u001b[39mndarray, IOSpec(\u001b[38;5;124m\"\u001b[39m\u001b[38;5;124marray\u001b[39m\u001b[38;5;124m\"\u001b[39m, \u001b[38;5;124m\"\u001b[39m\u001b[38;5;124m0.2.0\u001b[39m\u001b[38;5;124m\"\u001b[39m))\n\u001b[1;32m    330\u001b[0m \u001b[38;5;129m@_REGISTRY\u001b[39m\u001b[38;5;241m.\u001b[39mregister_write(H5Group, h5py\u001b[38;5;241m.\u001b[39mDataset, IOSpec(\u001b[38;5;124m\"\u001b[39m\u001b[38;5;124marray\u001b[39m\u001b[38;5;124m\"\u001b[39m, \u001b[38;5;124m\"\u001b[39m\u001b[38;5;124m0.2.0\u001b[39m\u001b[38;5;124m\"\u001b[39m))\n\u001b[0;32m   (...)\u001b[0m\n\u001b[1;32m    336\u001b[0m \u001b[38;5;129m@_REGISTRY\u001b[39m\u001b[38;5;241m.\u001b[39mregister_write(ZarrGroup, ZarrArray, IOSpec(\u001b[38;5;124m\"\u001b[39m\u001b[38;5;124marray\u001b[39m\u001b[38;5;124m\"\u001b[39m, \u001b[38;5;124m\"\u001b[39m\u001b[38;5;124m0.2.0\u001b[39m\u001b[38;5;124m\"\u001b[39m))\n\u001b[1;32m    337\u001b[0m \u001b[38;5;28;01mdef\u001b[39;00m \u001b[38;5;21mwrite_basic\u001b[39m(f, k, elem, _writer, dataset_kwargs\u001b[38;5;241m=\u001b[39mMappingProxyType({})):\n\u001b[1;32m    338\u001b[0m \u001b[38;5;250m    \u001b[39m\u001b[38;5;124;03m\"\"\"Write methods which underlying library handles natively.\"\"\"\u001b[39;00m\n\u001b[0;32m--> 339\u001b[0m     \u001b[43mf\u001b[49m\u001b[38;5;241;43m.\u001b[39;49m\u001b[43mcreate_dataset\u001b[49m\u001b[43m(\u001b[49m\u001b[43mk\u001b[49m\u001b[43m,\u001b[49m\u001b[43m \u001b[49m\u001b[43mdata\u001b[49m\u001b[38;5;241;43m=\u001b[39;49m\u001b[43melem\u001b[49m\u001b[43m,\u001b[49m\u001b[43m \u001b[49m\u001b[38;5;241;43m*\u001b[39;49m\u001b[38;5;241;43m*\u001b[39;49m\u001b[43mdataset_kwargs\u001b[49m\u001b[43m)\u001b[49m\n",
      "File \u001b[0;32m/opt/conda/lib/python3.10/site-packages/h5py/_hl/group.py:183\u001b[0m, in \u001b[0;36mGroup.create_dataset\u001b[0;34m(self, name, shape, dtype, data, **kwds)\u001b[0m\n\u001b[1;32m    180\u001b[0m         parent_path, name \u001b[38;5;241m=\u001b[39m name\u001b[38;5;241m.\u001b[39mrsplit(\u001b[38;5;124mb\u001b[39m\u001b[38;5;124m'\u001b[39m\u001b[38;5;124m/\u001b[39m\u001b[38;5;124m'\u001b[39m, \u001b[38;5;241m1\u001b[39m)\n\u001b[1;32m    181\u001b[0m         group \u001b[38;5;241m=\u001b[39m \u001b[38;5;28mself\u001b[39m\u001b[38;5;241m.\u001b[39mrequire_group(parent_path)\n\u001b[0;32m--> 183\u001b[0m dsid \u001b[38;5;241m=\u001b[39m \u001b[43mdataset\u001b[49m\u001b[38;5;241;43m.\u001b[39;49m\u001b[43mmake_new_dset\u001b[49m\u001b[43m(\u001b[49m\u001b[43mgroup\u001b[49m\u001b[43m,\u001b[49m\u001b[43m \u001b[49m\u001b[43mshape\u001b[49m\u001b[43m,\u001b[49m\u001b[43m \u001b[49m\u001b[43mdtype\u001b[49m\u001b[43m,\u001b[49m\u001b[43m \u001b[49m\u001b[43mdata\u001b[49m\u001b[43m,\u001b[49m\u001b[43m \u001b[49m\u001b[43mname\u001b[49m\u001b[43m,\u001b[49m\u001b[43m \u001b[49m\u001b[38;5;241;43m*\u001b[39;49m\u001b[38;5;241;43m*\u001b[39;49m\u001b[43mkwds\u001b[49m\u001b[43m)\u001b[49m\n\u001b[1;32m    184\u001b[0m dset \u001b[38;5;241m=\u001b[39m dataset\u001b[38;5;241m.\u001b[39mDataset(dsid)\n\u001b[1;32m    185\u001b[0m \u001b[38;5;28;01mreturn\u001b[39;00m dset\n",
      "File \u001b[0;32m/opt/conda/lib/python3.10/site-packages/h5py/_hl/dataset.py:166\u001b[0m, in \u001b[0;36mmake_new_dset\u001b[0;34m(parent, shape, dtype, data, name, chunks, compression, shuffle, fletcher32, maxshape, compression_opts, fillvalue, scaleoffset, track_times, external, track_order, dcpl, dapl, efile_prefix, virtual_prefix, allow_unknown_filter, rdcc_nslots, rdcc_nbytes, rdcc_w0)\u001b[0m\n\u001b[1;32m    163\u001b[0m dset_id \u001b[38;5;241m=\u001b[39m h5d\u001b[38;5;241m.\u001b[39mcreate(parent\u001b[38;5;241m.\u001b[39mid, name, tid, sid, dcpl\u001b[38;5;241m=\u001b[39mdcpl, dapl\u001b[38;5;241m=\u001b[39mdapl)\n\u001b[1;32m    165\u001b[0m \u001b[38;5;28;01mif\u001b[39;00m (data \u001b[38;5;129;01mis\u001b[39;00m \u001b[38;5;129;01mnot\u001b[39;00m \u001b[38;5;28;01mNone\u001b[39;00m) \u001b[38;5;129;01mand\u001b[39;00m (\u001b[38;5;129;01mnot\u001b[39;00m \u001b[38;5;28misinstance\u001b[39m(data, Empty)):\n\u001b[0;32m--> 166\u001b[0m     \u001b[43mdset_id\u001b[49m\u001b[38;5;241;43m.\u001b[39;49m\u001b[43mwrite\u001b[49m\u001b[43m(\u001b[49m\u001b[43mh5s\u001b[49m\u001b[38;5;241;43m.\u001b[39;49m\u001b[43mALL\u001b[49m\u001b[43m,\u001b[49m\u001b[43m \u001b[49m\u001b[43mh5s\u001b[49m\u001b[38;5;241;43m.\u001b[39;49m\u001b[43mALL\u001b[49m\u001b[43m,\u001b[49m\u001b[43m \u001b[49m\u001b[43mdata\u001b[49m\u001b[43m)\u001b[49m\n\u001b[1;32m    168\u001b[0m \u001b[38;5;28;01mreturn\u001b[39;00m dset_id\n",
      "File \u001b[0;32mh5py/_objects.pyx:54\u001b[0m, in \u001b[0;36mh5py._objects.with_phil.wrapper\u001b[0;34m()\u001b[0m\n",
      "File \u001b[0;32mh5py/_objects.pyx:55\u001b[0m, in \u001b[0;36mh5py._objects.with_phil.wrapper\u001b[0;34m()\u001b[0m\n",
      "File \u001b[0;32mh5py/h5d.pyx:282\u001b[0m, in \u001b[0;36mh5py.h5d.DatasetID.write\u001b[0;34m()\u001b[0m\n",
      "File \u001b[0;32mh5py/_proxy.pyx:115\u001b[0m, in \u001b[0;36mh5py._proxy.dset_rw\u001b[0;34m()\u001b[0m\n",
      "\u001b[0;31mOSError\u001b[0m: [Errno 28] Can't synchronously write data (file write failed: time = Sun Aug 25 07:24:47 2024\n, filename = '/workspace/ImputationOT/data/hmp.h5ad', file descriptor = 71, errno = 28, error message = 'No space left on device', buf = 0x7d666f3a3810, total write size = 150421928, bytes this sub-write = 150421928, bytes actually written = 18446744073709551615, offset = 0)",
      "\u001b[0mError raised while writing key 'X' of <class 'h5py._hl.group.Group'> to /"
     ]
    }
   ],
   "source": [
    "adata_combined.write(\"/workspace/ImputationOT/data/hmp.h5ad\")"
   ]
  },
  {
   "cell_type": "code",
   "execution_count": null,
   "id": "54d6627c-15c7-4b80-b56f-72034f4f66b3",
   "metadata": {},
   "outputs": [],
   "source": []
  }
 ],
 "metadata": {
  "kernelspec": {
   "display_name": "Python 3 (ipykernel)",
   "language": "python",
   "name": "python3"
  },
  "language_info": {
   "codemirror_mode": {
    "name": "ipython",
    "version": 3
   },
   "file_extension": ".py",
   "mimetype": "text/x-python",
   "name": "python",
   "nbconvert_exporter": "python",
   "pygments_lexer": "ipython3",
   "version": "3.10.13"
  }
 },
 "nbformat": 4,
 "nbformat_minor": 5
}
