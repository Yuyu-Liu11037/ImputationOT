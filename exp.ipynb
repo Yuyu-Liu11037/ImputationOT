{
 "cells": [
  {
   "cell_type": "markdown",
   "id": "37532621-d3c5-4f61-88b6-b5f9397f20ad",
   "metadata": {},
   "source": [
    "环境激活过程:\n",
    "\n",
    "先创建好 conda 环境 (假设名字为 ot), 并安装 conda install ipykernel, 然后 conda deactivate 退出，再运行 python -m ipykernel install --user --name ot --display-name \"ot\"."
   ]
  },
  {
   "cell_type": "code",
   "execution_count": 1,
   "id": "6df0732e-ffc5-4b40-bac4-100530bac3ec",
   "metadata": {},
   "outputs": [],
   "source": [
    "import numpy as np\n",
    "import matplotlib.pyplot as plt\n",
    "import torch\n",
    "import torch.nn as nn\n",
    "import torch.optim as optim\n",
    "import ot\n",
    "import sys\n",
    "import anndata"
   ]
  },
  {
   "cell_type": "code",
   "execution_count": 6,
   "id": "d3a1dfe7-f9ad-4d09-8d56-854e239d635a",
   "metadata": {},
   "outputs": [
    {
     "name": "stderr",
     "output_type": "stream",
     "text": [
      "/opt/conda/lib/python3.10/site-packages/anndata/_core/anndata.py:1820: UserWarning: Variable names are not unique. To make them unique, call `.var_names_make_unique`.\n",
      "  utils.warn_names_duplicates(\"var\")\n"
     ]
    }
   ],
   "source": [
    "citeseq = anndata.read_h5ad(\"./data/citeseq_processed-001.h5ad\")"
   ]
  },
  {
   "cell_type": "code",
   "execution_count": 17,
   "id": "601f9d57-7179-40d8-b1fe-32b2a931cffe",
   "metadata": {},
   "outputs": [
    {
     "name": "stdout",
     "output_type": "stream",
     "text": [
      "['GEX', 'ADT']\n",
      "Categories (2, object): ['ADT', 'GEX']\n"
     ]
    }
   ],
   "source": [
    "print(citeseq.var['feature_types'].unique())"
   ]
  },
  {
   "cell_type": "code",
   "execution_count": null,
   "id": "3358fbb2-5cdc-48b9-bd32-ec35f32982fb",
   "metadata": {},
   "outputs": [],
   "source": [
    "X = citeseq.X\n",
    "print(\"full data\")\n",
    "print(\"Matrix Shape:\", X.shape)\n",
    "print(\"Number of Non-zero Elements:\", X.nnz)\n",
    "print(\"Density:\", X.nnz / (X.shape[0] * X.shape[1]))\n",
    "print(\"Minimum Value:\", X.min())\n",
    "print(\"Maximum Value:\", X.max())\n",
    "print(\"Mean Value without zeros:\", X[X != 0].mean())"
   ]
  },
  {
   "cell_type": "code",
   "execution_count": 15,
   "id": "abb1c15d-69f9-44ab-8d57-b9c7cca90c1a",
   "metadata": {},
   "outputs": [
    {
     "name": "stdout",
     "output_type": "stream",
     "text": [
      "GEX data\n",
      "Matrix Shape: (90261, 13953)\n",
      "Number of Non-zero Elements: 131353640\n",
      "Density: 0.10429761495639489\n",
      "Minimum Value: 0.0\n",
      "Maximum Value: 21078940.0\n",
      "Mean Value without zeros: 14.417383\n"
     ]
    }
   ],
   "source": [
    "X = citeseq.X\n",
    "X = X[:, :13953]\n",
    "print(\"GEX data\")\n",
    "print(\"Matrix Shape:\", X.shape)\n",
    "print(\"Number of Non-zero Elements:\", X.nnz)\n",
    "print(\"Density:\", X.nnz / (X.shape[0] * X.shape[1]))\n",
    "print(\"Minimum Value:\", X.min())\n",
    "print(\"Maximum Value:\", X.max())\n",
    "print(\"Mean Value without zeros:\", X[X != 0].mean())"
   ]
  },
  {
   "cell_type": "code",
   "execution_count": 16,
   "id": "94466dba-9167-4209-a614-5e8afeb74f6e",
   "metadata": {},
   "outputs": [
    {
     "name": "stdout",
     "output_type": "stream",
     "text": [
      "ADT data\n",
      "Matrix Shape: (90261, 134)\n",
      "Number of Non-zero Elements: 10141612\n",
      "Density: 0.8384980405910752\n",
      "Minimum Value: 0.0\n",
      "Maximum Value: 7.910906\n",
      "Mean Value without zeros: 0.8842398\n"
     ]
    }
   ],
   "source": [
    "X = citeseq.X\n",
    "X = X[:, -134:]\n",
    "print(\"ADT data\")\n",
    "print(\"Matrix Shape:\", X.shape)\n",
    "print(\"Number of Non-zero Elements:\", X.nnz)\n",
    "print(\"Density:\", X.nnz / (X.shape[0] * X.shape[1]))\n",
    "print(\"Minimum Value:\", X.min())\n",
    "print(\"Maximum Value:\", X.max())\n",
    "print(\"Mean Value without zeros:\", X[X != 0].mean())"
   ]
  },
  {
   "cell_type": "code",
   "execution_count": 23,
   "id": "3ba35c18-f281-4688-a237-d8434cfc9157",
   "metadata": {},
   "outputs": [
    {
     "name": "stdout",
     "output_type": "stream",
     "text": [
      "0.0\n",
      "Matrix Shape: (90261, 14087)\n",
      "Minimum Value: 0.0\n",
      "Maximum Value: 16.863785\n",
      "Mean Value without zeros: 1.0193596\n"
     ]
    }
   ],
   "source": [
    "X = citeseq.X.toarray()\n",
    "X = np.log1p(X)\n",
    "print(np.sum(X > 200) / np.sum(X > 0))\n",
    "print(\"Matrix Shape:\", X.shape)\n",
    "print(\"Minimum Value:\", X.min())\n",
    "print(\"Maximum Value:\", X.max())\n",
    "print(\"Mean Value without zeros:\", X[X != 0].mean())"
   ]
  },
  {
   "cell_type": "code",
   "execution_count": null,
   "id": "25bb0c5b-a153-4d94-a73b-4b1e7ba4605b",
   "metadata": {},
   "outputs": [],
   "source": [
    "cmap = plt.get_cmap('coolwarm')\n",
    "\n",
    "plt.imshow(X[:90261 // 2, :14087 // 2], cmap=cmap, aspect='auto')\n",
    "plt.colorbar()\n",
    "plt.show()\n",
    "\n",
    "plt.imshow(X[90261 // 2:, :14087 // 2], cmap=cmap, aspect='auto')\n",
    "plt.colorbar()\n",
    "plt.show()\n",
    "\n",
    "plt.imshow(X[:90261 // 2, 14087 // 2:], cmap=cmap, aspect='auto')\n",
    "plt.colorbar()\n",
    "plt.show()\n",
    "\n",
    "plt.imshow(X[90261 // 2:, 14087 // 2:], cmap=cmap, aspect='auto')\n",
    "plt.colorbar()\n",
    "plt.show()"
   ]
  },
  {
   "cell_type": "code",
   "execution_count": null,
   "id": "447dc625-a889-4e7f-83b7-f2ce487be754",
   "metadata": {},
   "outputs": [],
   "source": [
    "from matplotlib.colors import ListedColormap\n",
    "cmap = ListedColormap(['blue', 'red'])  # 等于0的数据用蓝色，大于0的数据用红色\n",
    "\n",
    "plt.imshow(X[:90261 // 2, :14087 // 2], cmap=cmap, aspect='auto')\n",
    "plt.colorbar()\n",
    "plt.show()\n",
    "\n",
    "plt.imshow(X[90261 // 2:, :14087 // 2], cmap=cmap, aspect='auto')\n",
    "plt.colorbar()\n",
    "plt.show()\n",
    "\n",
    "plt.imshow(X[:90261 // 2, 14087 // 2:], cmap=cmap, aspect='auto')\n",
    "plt.colorbar()\n",
    "plt.show()\n",
    "\n",
    "plt.imshow(X[90261 // 2:, 14087 // 2:], cmap=cmap, aspect='auto')\n",
    "plt.colorbar()\n",
    "plt.show()"
   ]
  },
  {
   "cell_type": "code",
   "execution_count": null,
   "id": "dc45813f-9afc-48c3-b145-808a97d1db4f",
   "metadata": {},
   "outputs": [],
   "source": []
  }
 ],
 "metadata": {
  "kernelspec": {
   "display_name": "2ot",
   "language": "python",
   "name": "2ot"
  },
  "language_info": {
   "codemirror_mode": {
    "name": "ipython",
    "version": 3
   },
   "file_extension": ".py",
   "mimetype": "text/x-python",
   "name": "python",
   "nbconvert_exporter": "python",
   "pygments_lexer": "ipython3",
   "version": "3.10.13"
  }
 },
 "nbformat": 4,
 "nbformat_minor": 5
}
