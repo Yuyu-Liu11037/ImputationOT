{
 "cells": [
  {
   "cell_type": "code",
   "execution_count": 1,
   "id": "242787c7-dfa9-4d80-b47e-13ecd1be9768",
   "metadata": {},
   "outputs": [
    {
     "name": "stdout",
     "output_type": "stream",
     "text": [
      "Requirement already satisfied: numpy in /opt/conda/lib/python3.10/site-packages (1.26.3)\n",
      "\u001b[33mWARNING: Running pip as the 'root' user can result in broken permissions and conflicting behaviour with the system package manager. It is recommended to use a virtual environment instead: https://pip.pypa.io/warnings/venv\u001b[0m\u001b[33m\n",
      "\u001b[0mRequirement already satisfied: pandas in /opt/conda/lib/python3.10/site-packages (2.2.2)\n",
      "Requirement already satisfied: numpy>=1.22.4 in /opt/conda/lib/python3.10/site-packages (from pandas) (1.26.3)\n",
      "Requirement already satisfied: python-dateutil>=2.8.2 in /opt/conda/lib/python3.10/site-packages (from pandas) (2.9.0.post0)\n",
      "Requirement already satisfied: pytz>=2020.1 in /opt/conda/lib/python3.10/site-packages (from pandas) (2023.3.post1)\n",
      "Requirement already satisfied: tzdata>=2022.7 in /opt/conda/lib/python3.10/site-packages (from pandas) (2024.1)\n",
      "Requirement already satisfied: six>=1.5 in /opt/conda/lib/python3.10/site-packages (from python-dateutil>=2.8.2->pandas) (1.16.0)\n",
      "\u001b[33mWARNING: Running pip as the 'root' user can result in broken permissions and conflicting behaviour with the system package manager. It is recommended to use a virtual environment instead: https://pip.pypa.io/warnings/venv\u001b[0m\u001b[33m\n",
      "\u001b[0mRequirement already satisfied: pot in /opt/conda/lib/python3.10/site-packages (0.9.4)\n",
      "Requirement already satisfied: numpy>=1.16 in /opt/conda/lib/python3.10/site-packages (from pot) (1.26.3)\n",
      "Requirement already satisfied: scipy>=1.6 in /opt/conda/lib/python3.10/site-packages (from pot) (1.14.0)\n",
      "\u001b[33mWARNING: Running pip as the 'root' user can result in broken permissions and conflicting behaviour with the system package manager. It is recommended to use a virtual environment instead: https://pip.pypa.io/warnings/venv\u001b[0m\u001b[33m\n",
      "\u001b[0mRequirement already satisfied: anndata in /opt/conda/lib/python3.10/site-packages (0.10.8)\n",
      "Requirement already satisfied: array-api-compat!=1.5,>1.4 in /opt/conda/lib/python3.10/site-packages (from anndata) (1.8)\n",
      "Requirement already satisfied: exceptiongroup in /opt/conda/lib/python3.10/site-packages (from anndata) (1.2.0)\n",
      "Requirement already satisfied: h5py>=3.1 in /opt/conda/lib/python3.10/site-packages (from anndata) (3.11.0)\n",
      "Requirement already satisfied: natsort in /opt/conda/lib/python3.10/site-packages (from anndata) (8.4.0)\n",
      "Requirement already satisfied: numpy>=1.23 in /opt/conda/lib/python3.10/site-packages (from anndata) (1.26.3)\n",
      "Requirement already satisfied: packaging>=20.0 in /opt/conda/lib/python3.10/site-packages (from anndata) (23.1)\n",
      "Requirement already satisfied: pandas!=2.1.0rc0,!=2.1.2,>=1.4 in /opt/conda/lib/python3.10/site-packages (from anndata) (2.2.2)\n",
      "Requirement already satisfied: scipy>1.8 in /opt/conda/lib/python3.10/site-packages (from anndata) (1.14.0)\n",
      "Requirement already satisfied: python-dateutil>=2.8.2 in /opt/conda/lib/python3.10/site-packages (from pandas!=2.1.0rc0,!=2.1.2,>=1.4->anndata) (2.9.0.post0)\n",
      "Requirement already satisfied: pytz>=2020.1 in /opt/conda/lib/python3.10/site-packages (from pandas!=2.1.0rc0,!=2.1.2,>=1.4->anndata) (2023.3.post1)\n",
      "Requirement already satisfied: tzdata>=2022.7 in /opt/conda/lib/python3.10/site-packages (from pandas!=2.1.0rc0,!=2.1.2,>=1.4->anndata) (2024.1)\n",
      "Requirement already satisfied: six>=1.5 in /opt/conda/lib/python3.10/site-packages (from python-dateutil>=2.8.2->pandas!=2.1.0rc0,!=2.1.2,>=1.4->anndata) (1.16.0)\n",
      "\u001b[33mWARNING: Running pip as the 'root' user can result in broken permissions and conflicting behaviour with the system package manager. It is recommended to use a virtual environment instead: https://pip.pypa.io/warnings/venv\u001b[0m\u001b[33m\n",
      "\u001b[0mRequirement already satisfied: scanpy in /opt/conda/lib/python3.10/site-packages (1.10.2)\n",
      "Requirement already satisfied: anndata>=0.8 in /opt/conda/lib/python3.10/site-packages (from scanpy) (0.10.8)\n",
      "Requirement already satisfied: h5py>=3.1 in /opt/conda/lib/python3.10/site-packages (from scanpy) (3.11.0)\n",
      "Requirement already satisfied: joblib in /opt/conda/lib/python3.10/site-packages (from scanpy) (1.4.2)\n",
      "Requirement already satisfied: legacy-api-wrap>=1.4 in /opt/conda/lib/python3.10/site-packages (from scanpy) (1.4)\n",
      "Requirement already satisfied: matplotlib>=3.6 in /opt/conda/lib/python3.10/site-packages (from scanpy) (3.9.2)\n",
      "Requirement already satisfied: natsort in /opt/conda/lib/python3.10/site-packages (from scanpy) (8.4.0)\n",
      "Requirement already satisfied: networkx>=2.7 in /opt/conda/lib/python3.10/site-packages (from scanpy) (3.1)\n",
      "Requirement already satisfied: numba>=0.56 in /opt/conda/lib/python3.10/site-packages (from scanpy) (0.60.0)\n",
      "Requirement already satisfied: numpy<2,>=1.23 in /opt/conda/lib/python3.10/site-packages (from scanpy) (1.26.3)\n",
      "Requirement already satisfied: packaging>=21.3 in /opt/conda/lib/python3.10/site-packages (from scanpy) (23.1)\n",
      "Requirement already satisfied: pandas>=1.5 in /opt/conda/lib/python3.10/site-packages (from scanpy) (2.2.2)\n",
      "Requirement already satisfied: patsy in /opt/conda/lib/python3.10/site-packages (from scanpy) (0.5.6)\n",
      "Requirement already satisfied: pynndescent>=0.5 in /opt/conda/lib/python3.10/site-packages (from scanpy) (0.5.13)\n",
      "Requirement already satisfied: scikit-learn>=0.24 in /opt/conda/lib/python3.10/site-packages (from scanpy) (1.5.1)\n",
      "Requirement already satisfied: scipy>=1.8 in /opt/conda/lib/python3.10/site-packages (from scanpy) (1.14.0)\n",
      "Requirement already satisfied: seaborn>=0.13 in /opt/conda/lib/python3.10/site-packages (from scanpy) (0.13.2)\n",
      "Requirement already satisfied: session-info in /opt/conda/lib/python3.10/site-packages (from scanpy) (1.0.0)\n",
      "Requirement already satisfied: statsmodels>=0.13 in /opt/conda/lib/python3.10/site-packages (from scanpy) (0.14.2)\n",
      "Requirement already satisfied: tqdm in /opt/conda/lib/python3.10/site-packages (from scanpy) (4.65.0)\n",
      "Requirement already satisfied: umap-learn!=0.5.0,>=0.5 in /opt/conda/lib/python3.10/site-packages (from scanpy) (0.5.6)\n",
      "Requirement already satisfied: array-api-compat!=1.5,>1.4 in /opt/conda/lib/python3.10/site-packages (from anndata>=0.8->scanpy) (1.8)\n",
      "Requirement already satisfied: exceptiongroup in /opt/conda/lib/python3.10/site-packages (from anndata>=0.8->scanpy) (1.2.0)\n",
      "Requirement already satisfied: contourpy>=1.0.1 in /opt/conda/lib/python3.10/site-packages (from matplotlib>=3.6->scanpy) (1.2.1)\n",
      "Requirement already satisfied: cycler>=0.10 in /opt/conda/lib/python3.10/site-packages (from matplotlib>=3.6->scanpy) (0.12.1)\n",
      "Requirement already satisfied: fonttools>=4.22.0 in /opt/conda/lib/python3.10/site-packages (from matplotlib>=3.6->scanpy) (4.53.1)\n",
      "Requirement already satisfied: kiwisolver>=1.3.1 in /opt/conda/lib/python3.10/site-packages (from matplotlib>=3.6->scanpy) (1.4.5)\n",
      "Requirement already satisfied: pillow>=8 in /opt/conda/lib/python3.10/site-packages (from matplotlib>=3.6->scanpy) (10.0.1)\n",
      "Requirement already satisfied: pyparsing>=2.3.1 in /opt/conda/lib/python3.10/site-packages (from matplotlib>=3.6->scanpy) (3.1.2)\n",
      "Requirement already satisfied: python-dateutil>=2.7 in /opt/conda/lib/python3.10/site-packages (from matplotlib>=3.6->scanpy) (2.9.0.post0)\n",
      "Requirement already satisfied: llvmlite<0.44,>=0.43.0dev0 in /opt/conda/lib/python3.10/site-packages (from numba>=0.56->scanpy) (0.43.0)\n",
      "Requirement already satisfied: pytz>=2020.1 in /opt/conda/lib/python3.10/site-packages (from pandas>=1.5->scanpy) (2023.3.post1)\n",
      "Requirement already satisfied: tzdata>=2022.7 in /opt/conda/lib/python3.10/site-packages (from pandas>=1.5->scanpy) (2024.1)\n",
      "Requirement already satisfied: threadpoolctl>=3.1.0 in /opt/conda/lib/python3.10/site-packages (from scikit-learn>=0.24->scanpy) (3.5.0)\n",
      "Requirement already satisfied: six in /opt/conda/lib/python3.10/site-packages (from patsy->scanpy) (1.16.0)\n",
      "Requirement already satisfied: stdlib-list in /opt/conda/lib/python3.10/site-packages (from session-info->scanpy) (0.10.0)\n",
      "\u001b[33mWARNING: Running pip as the 'root' user can result in broken permissions and conflicting behaviour with the system package manager. It is recommended to use a virtual environment instead: https://pip.pypa.io/warnings/venv\u001b[0m\u001b[33m\n",
      "\u001b[0mRequirement already satisfied: scipy in /opt/conda/lib/python3.10/site-packages (1.14.0)\n",
      "Requirement already satisfied: numpy<2.3,>=1.23.5 in /opt/conda/lib/python3.10/site-packages (from scipy) (1.26.3)\n",
      "\u001b[33mWARNING: Running pip as the 'root' user can result in broken permissions and conflicting behaviour with the system package manager. It is recommended to use a virtual environment instead: https://pip.pypa.io/warnings/venv\u001b[0m\u001b[33m\n",
      "\u001b[0m"
     ]
    }
   ],
   "source": [
    "!pip install numpy\n",
    "!pip install pandas\n",
    "!pip install pot\n",
    "!pip install anndata\n",
    "!pip install scanpy\n",
    "!pip install scipy"
   ]
  },
  {
   "cell_type": "code",
   "execution_count": 2,
   "id": "6df0732e-ffc5-4b40-bac4-100530bac3ec",
   "metadata": {},
   "outputs": [
    {
     "name": "stdout",
     "output_type": "stream",
     "text": [
      "[KeOps] Compiling cuda jit compiler engine ... OK\n",
      "[pyKeOps] Compiling nvrtc binder for python ... OK\n"
     ]
    }
   ],
   "source": [
    "import numpy as np\n",
    "import torch\n",
    "import torch.nn as nn\n",
    "import torch.optim as optim\n",
    "import pandas as pd\n",
    "import ot\n",
    "import sys\n",
    "import anndata\n",
    "import scanpy as sc\n",
    "from scipy.sparse import issparse\n",
    "from scipy.sparse import csr_matrix"
   ]
  },
  {
   "cell_type": "code",
   "execution_count": 5,
   "id": "d3a1dfe7-f9ad-4d09-8d56-854e239d635a",
   "metadata": {
    "scrolled": true
   },
   "outputs": [
    {
     "data": {
      "text/plain": [
       "<bound method AnnData.var_names_make_unique of AnnData object with n_obs × n_vars = 9631 × 107194\n",
       "    obs: 'domain', 'protocol', 'dataset', 'orig.ident', 'nCount_RNA', 'nFeature_RNA', 'percent.mt', 'nCount_ATAC', 'nFeature_ATAC', 'nCount_SCT', 'nFeature_SCT', 'SCT.weight', 'ATAC.weight', 'wsnn_res.0.8', 'seurat_clusters', 'sub.cluster', 'cell_type'\n",
       "    var: 'feature_types', 'genome', 'chrom', 'chromStart', 'chromEnd', 'n_counts'>"
      ]
     },
     "execution_count": 5,
     "metadata": {},
     "output_type": "execute_result"
    }
   ],
   "source": [
    "adata = anndata.read_h5ad(\"/workspace/ImputationOT/data/10x-Multiome-Pbmc10k-ATAC.h5ad\")\n",
    "adata.var_names_make_unique"
   ]
  },
  {
   "cell_type": "code",
   "execution_count": 6,
   "id": "fc49206d-56f2-4813-b2cf-87aae84e2761",
   "metadata": {},
   "outputs": [
    {
     "name": "stdout",
     "output_type": "stream",
     "text": [
      "['CD4 TCM', 'CD4 Naive', 'CD8 Naive', 'CD16 Mono', 'NK', ..., 'gdT', 'CD8 TEM_2', 'pDC', 'Intermediate B', 'HSPC']\n",
      "Length: 19\n",
      "Categories (19, object): ['CD4 Naive', 'CD4 TCM', 'CD4 TEM', 'CD8 Naive', ..., 'Treg', 'cDC', 'gdT', 'pDC']\n"
     ]
    }
   ],
   "source": [
    "print(adata.obs['cell_type'].unique())"
   ]
  },
  {
   "cell_type": "code",
   "execution_count": 8,
   "id": "62414316-eebb-4904-9a61-2db559a240db",
   "metadata": {
    "scrolled": true
   },
   "outputs": [
    {
     "name": "stdout",
     "output_type": "stream",
     "text": [
      "AL627309.5    False\n",
      "LINC01409     False\n",
      "LINC01128     False\n",
      "LINC00115      True\n",
      "FAM41C        False\n",
      "              ...  \n",
      "MT-CYB        False\n",
      "AC011043.1    False\n",
      "AL592183.1    False\n",
      "AC240274.1    False\n",
      "AC007325.4    False\n",
      "Name: highly_variable, Length: 13953, dtype: bool\n",
      "AL627309.5    False\n",
      "LINC01409     False\n",
      "LINC01128     False\n",
      "LINC00115     False\n",
      "FAM41C        False\n",
      "              ...  \n",
      "HLA-E          True\n",
      "CD82           True\n",
      "CD101          True\n",
      "CD88           True\n",
      "CD224          True\n",
      "Name: feature_types, Length: 14087, dtype: bool\n",
      "\n",
      "View of AnnData object with n_obs × n_vars = 90261 × 2134\n",
      "    obs: 'GEX_n_genes_by_counts', 'GEX_pct_counts_mt', 'GEX_size_factors', 'GEX_phase', 'ADT_n_antibodies_by_counts', 'ADT_total_counts', 'ADT_iso_count', 'cell_type', 'batch', 'ADT_pseudotime_order', 'GEX_pseudotime_order', 'Samplename', 'Site', 'DonorNumber', 'Modality', 'VendorLot', 'DonorID', 'DonorAge', 'DonorBMI', 'DonorBloodType', 'DonorRace', 'Ethnicity', 'DonorGender', 'QCMeds', 'DonorSmoker', 'is_train'\n",
      "    var: 'feature_types', 'gene_id'\n",
      "    uns: 'dataset_id', 'genome', 'organism', 'log1p'\n",
      "    obsm: 'ADT_X_pca', 'ADT_X_umap', 'ADT_isotype_controls', 'GEX_X_pca', 'GEX_X_umap'\n",
      "    layers: 'counts'\n",
      "\n",
      "AnnData object with n_obs × n_vars = 90261 × 14087\n",
      "    obs: 'GEX_n_genes_by_counts', 'GEX_pct_counts_mt', 'GEX_size_factors', 'GEX_phase', 'ADT_n_antibodies_by_counts', 'ADT_total_counts', 'ADT_iso_count', 'cell_type', 'batch', 'ADT_pseudotime_order', 'GEX_pseudotime_order', 'Samplename', 'Site', 'DonorNumber', 'Modality', 'VendorLot', 'DonorID', 'DonorAge', 'DonorBMI', 'DonorBloodType', 'DonorRace', 'Ethnicity', 'DonorGender', 'QCMeds', 'DonorSmoker', 'is_train'\n",
      "    var: 'feature_types', 'gene_id'\n",
      "    obsm: 'ADT_X_pca', 'ADT_X_umap', 'ADT_isotype_controls', 'GEX_X_pca', 'GEX_X_umap'\n",
      "    layers: 'counts'\n"
     ]
    },
    {
     "name": "stderr",
     "output_type": "stream",
     "text": [
      "/opt/conda/lib/python3.10/site-packages/anndata/_core/anndata.py:1820: UserWarning: Variable names are not unique. To make them unique, call `.var_names_make_unique`.\n",
      "  utils.warn_names_duplicates(\"var\")\n"
     ]
    }
   ],
   "source": [
    "## preprocess1\n",
    "adata_GEX1 = adata[:, adata.var['feature_types'] == 'GEX'].copy()\n",
    "adata_ADT1 = adata[:, adata.var['feature_types'] == 'ADT'].copy()\n",
    "### step 1\n",
    "sc.pp.normalize_total(adata_GEX1, target_sum=1e4)\n",
    "sc.pp.normalize_total(adata_ADT1, target_sum=1e4)\n",
    "adata1 = adata.copy()\n",
    "adata1.X[:, adata.var['feature_types'] == 'GEX'] = adata_GEX1.X\n",
    "adata1.X[:, adata.var['feature_types'] == 'ADT'] = adata_ADT1.X\n",
    "### step 2\n",
    "sc.pp.log1p(adata1)\n",
    "### step 3\n",
    "adata_GEX1 = adata1[:, adata.var['feature_types'] == 'GEX'].copy()\n",
    "adata_ADT1 = adata1[:, adata.var['feature_types'] == 'ADT'].copy()\n",
    "sc.pp.highly_variable_genes(\n",
    "    adata_GEX1,\n",
    "    n_top_genes=2000\n",
    ")\n",
    "print(adata_GEX1.var['highly_variable'])\n",
    "print(adata1.var['feature_types'] == 'ADT')\n",
    "print()\n",
    "\n",
    "adata1 = adata1[:, (adata1.var['feature_types'] == 'ADT') | (adata_GEX1.var['highly_variable'])]\n",
    "print(adata1)\n",
    "print()"
   ]
  },
  {
   "cell_type": "code",
   "execution_count": 15,
   "id": "7ee32f1d-50ac-4a80-b414-2e932b21dca3",
   "metadata": {},
   "outputs": [
    {
     "name": "stdout",
     "output_type": "stream",
     "text": [
      "GEX data\n",
      "Matrix Shape: (90261, 13953)\n",
      "Density: 0.10429761495639489\n",
      "Minimum Value: 0.0\n",
      "Maximum Value: 21078940.0\n",
      "ADT data\n",
      "Matrix Shape: (90261, 134)\n",
      "Density: 0.8384980405910752\n",
      "Minimum Value: 0.0\n",
      "Maximum Value: 7.910906\n",
      "\n"
     ]
    },
    {
     "name": "stderr",
     "output_type": "stream",
     "text": [
      "/opt/conda/lib/python3.10/site-packages/anndata/_core/anndata.py:1820: UserWarning: Variable names are not unique. To make them unique, call `.var_names_make_unique`.\n",
      "  utils.warn_names_duplicates(\"var\")\n"
     ]
    },
    {
     "name": "stdout",
     "output_type": "stream",
     "text": [
      "GEX data\n",
      "Matrix Shape: (90261, 2000)\n",
      "Density: 0.0811086681955662\n",
      "Minimum Value: 0.0\n",
      "Maximum Value: 9.116693\n",
      "ADT data\n",
      "Matrix Shape: (90261, 134)\n",
      "Density: 0.8384980405910752\n",
      "Minimum Value: 0.0\n",
      "Maximum Value: 7.1100817\n"
     ]
    }
   ],
   "source": [
    "X = adata.X\n",
    "X = X[:, :13953]\n",
    "print(\"GEX data\")\n",
    "print(\"Matrix Shape:\", X.shape)\n",
    "print(\"Density:\", X.nnz / (X.shape[0] * X.shape[1]))\n",
    "print(\"Minimum Value:\", X.min())\n",
    "print(\"Maximum Value:\", X.max())\n",
    "\n",
    "X = adata.X\n",
    "X = X[:, 13953:]\n",
    "print(\"ADT data\")\n",
    "print(\"Matrix Shape:\", X.shape)\n",
    "print(\"Density:\", X.nnz / (X.shape[0] * X.shape[1]))\n",
    "print(\"Minimum Value:\", X.min())\n",
    "print(\"Maximum Value:\", X.max())\n",
    "print()\n",
    "\n",
    "### preprocess2\n",
    "adata_GEX2 = adata[:, adata.var[\"feature_types\"] == \"GEX\"].copy()\n",
    "adata_ADT2 = adata[:, adata.var[\"feature_types\"] == \"ADT\"].copy()\n",
    "### step 1\n",
    "sc.pp.normalize_total(adata_GEX2, target_sum=1e4)\n",
    "sc.pp.normalize_total(adata_ADT2, target_sum=1e4)\n",
    "### step 2\n",
    "sc.pp.log1p(adata_GEX2)\n",
    "sc.pp.log1p(adata_ADT2)\n",
    "### step 3\n",
    "sc.pp.highly_variable_genes(\n",
    "    adata_GEX2,\n",
    "    n_top_genes=2000,\n",
    "    subset=True\n",
    ")\n",
    "adata2 = anndata.concat([adata_GEX2, adata_ADT2], axis=1, merge=\"same\")   # X(:,1): GEX, X(:,2): ADT\n",
    "\n",
    "X = adata2.X\n",
    "X = X[:, :2000]\n",
    "print(\"GEX data\")\n",
    "print(\"Matrix Shape:\", X.shape)\n",
    "print(\"Density:\", X.nnz / (X.shape[0] * X.shape[1]))\n",
    "print(\"Minimum Value:\", X.min())\n",
    "print(\"Maximum Value:\", X.max())\n",
    "\n",
    "X = adata2.X\n",
    "X = X[:, 2000:]\n",
    "print(\"ADT data\")\n",
    "print(\"Matrix Shape:\", X.shape)\n",
    "print(\"Density:\", X.nnz / (X.shape[0] * X.shape[1]))\n",
    "print(\"Minimum Value:\", X.min())\n",
    "print(\"Maximum Value:\", X.max())"
   ]
  },
  {
   "cell_type": "code",
   "execution_count": 12,
   "id": "9c88b7c6-d907-4de4-8d6c-ac1016ed00f2",
   "metadata": {},
   "outputs": [
    {
     "name": "stdout",
     "output_type": "stream",
     "text": [
      "False\n"
     ]
    }
   ],
   "source": [
    "# print(compare_sparse_anndata_X(adata_GEX1, adata_GEX2))\n",
    "# print(compare_sparse_anndata_X(adata_ADT1, adata_ADT2))\n",
    "print(compare_sparse_anndata_X(adata1, adata2))"
   ]
  },
  {
   "cell_type": "code",
   "execution_count": null,
   "id": "a30f9250-1ecb-4f60-a796-eba0ab29e5d9",
   "metadata": {},
   "outputs": [],
   "source": []
  }
 ],
 "metadata": {
  "kernelspec": {
   "display_name": "Python 3 (ipykernel)",
   "language": "python",
   "name": "python3"
  },
  "language_info": {
   "codemirror_mode": {
    "name": "ipython",
    "version": 3
   },
   "file_extension": ".py",
   "mimetype": "text/x-python",
   "name": "python",
   "nbconvert_exporter": "python",
   "pygments_lexer": "ipython3",
   "version": "3.10.13"
  }
 },
 "nbformat": 4,
 "nbformat_minor": 5
}
