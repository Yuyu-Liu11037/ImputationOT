{
 "cells": [
  {
   "cell_type": "code",
   "execution_count": 11,
   "id": "6df0732e-ffc5-4b40-bac4-100530bac3ec",
   "metadata": {},
   "outputs": [],
   "source": [
    "import numpy as np\n",
    "import torch\n",
    "import torch.nn as nn\n",
    "import torch.optim as optim\n",
    "import pandas as pd\n",
    "import ot\n",
    "import sys\n",
    "import scanpy as sc\n",
    "import GEOparse\n",
    "import anndata as ad\n",
    "import os\n",
    "import tarfile\n",
    "import scipy.io\n",
    "from scipy import io\n",
    "from scipy.sparse import issparse\n",
    "from scipy.sparse import csr_matrix"
   ]
  },
  {
   "cell_type": "code",
   "execution_count": 31,
   "id": "d81146ba-458f-4325-9ad5-39c6b5c18bd4",
   "metadata": {},
   "outputs": [
    {
     "name": "stderr",
     "output_type": "stream",
     "text": [
      "/opt/conda/lib/python3.10/site-packages/anndata/compat/__init__.py:311: FutureWarning: Moving element from .uns['neighbors']['distances'] to .obsp['distances'].\n",
      "\n",
      "This is where adjacency matrices should go now.\n",
      "  warn(\n",
      "/opt/conda/lib/python3.10/site-packages/anndata/compat/__init__.py:311: FutureWarning: Moving element from .uns['neighbors']['connectivities'] to .obsp['connectivities'].\n",
      "\n",
      "This is where adjacency matrices should go now.\n",
      "  warn(\n"
     ]
    },
    {
     "name": "stdout",
     "output_type": "stream",
     "text": [
      "AnnData object with n_obs × n_vars = 15476 × 1199\n",
      "    obs: 'Sample', 'n_counts', 'n_genes', 'batch', 'louvain', 'anno', 'Method', 'Cell type'\n",
      "    var: 'GeneName-0', 'GeneID-0', 'GeneName-1', 'GeneID-1', 'means', 'dispersions', 'dispersions_norm'\n",
      "    uns: 'Cell type_colors', 'Method_colors', 'Sample_colors', 'anno_colors', 'louvain', 'louvain_colors', 'neighbors', 'rank_genes_groups'\n",
      "    obsm: 'X_pca', 'X_umap', 'X_tsne'\n",
      "    obsp: 'distances', 'connectivities'\n"
     ]
    }
   ],
   "source": [
    "adata = ad.read_h5ad('/workspace/ImputationOT/data/PBMC.merged.h5ad')\n",
    "print(adata)"
   ]
  },
  {
   "cell_type": "code",
   "execution_count": 32,
   "id": "1fd21bd5-b755-41b9-93f6-46906a13af56",
   "metadata": {},
   "outputs": [
    {
     "name": "stdout",
     "output_type": "stream",
     "text": [
      "9\n",
      "index\n",
      "data_3p-AAACCTGAGCATCATC-0                         B cell\n",
      "data_3p-AAACCTGAGCTAGTGG-0                     CD4 T cell\n",
      "data_3p-AAACCTGCACATTAGC-0                     CD4 T cell\n",
      "data_3p-AAACCTGCACTGTTAG-0                  Monocyte_CD14\n",
      "data_3p-AAACCTGCATAGTAAG-0                  Monocyte_CD14\n",
      "                                         ...             \n",
      "data_5p-TTTGTCATCCACGTTC-1                  Monocyte_CD14\n",
      "data_5p-TTTGTCATCGCGTAGC-1                         B cell\n",
      "data_5p-TTTGTCATCTTAACCT-1                     CD8 T cell\n",
      "data_5p-TTTGTCATCTTACCGC-1    Plasmacytoid dendritic cell\n",
      "data_5p-TTTGTCATCTTGTTTG-1                     CD8 T cell\n",
      "Name: Cell type, Length: 15476, dtype: category\n",
      "Categories (9, object): ['B cell', 'CD4 T cell', 'CD8 T cell', 'Hematopoietic stem cell', ..., 'Monocyte_CD14', 'Monocyte_FCGR3A', 'NK cell', 'Plasmacytoid dendritic cell']\n"
     ]
    }
   ],
   "source": [
    "print(len(adata.obs['Cell type'].unique()))\n",
    "print(adata.obs['Cell type'])"
   ]
  },
  {
   "cell_type": "code",
   "execution_count": 34,
   "id": "3cc84df2-f5a4-42cf-9034-0dd12413f21e",
   "metadata": {},
   "outputs": [
    {
     "name": "stdout",
     "output_type": "stream",
     "text": [
      "15476\n",
      "index\n",
      "data_3p-AAACCTGAGCATCATC-0    0\n",
      "data_3p-AAACCTGAGCTAGTGG-0    0\n",
      "data_3p-AAACCTGCACATTAGC-0    0\n",
      "data_3p-AAACCTGCACTGTTAG-0    0\n",
      "data_3p-AAACCTGCATAGTAAG-0    0\n",
      "                             ..\n",
      "data_5p-TTTGTCATCCACGTTC-1    1\n",
      "data_5p-TTTGTCATCGCGTAGC-1    1\n",
      "data_5p-TTTGTCATCTTAACCT-1    1\n",
      "data_5p-TTTGTCATCTTACCGC-1    1\n",
      "data_5p-TTTGTCATCTTGTTTG-1    1\n",
      "Name: batch, Length: 15476, dtype: category\n",
      "Categories (2, object): ['0', '1']\n"
     ]
    }
   ],
   "source": [
    "print(len(adata.obs['batch'] == 1))\n",
    "print(adata.obs['batch'])"
   ]
  },
  {
   "cell_type": "code",
   "execution_count": 35,
   "id": "9e1af61c-7c08-48d6-abf4-0b6ed8713b7d",
   "metadata": {},
   "outputs": [
    {
     "name": "stdout",
     "output_type": "stream",
     "text": [
      "33\n",
      "index\n",
      "data_3p-AAACCTGAGCATCATC-0     9\n",
      "data_3p-AAACCTGAGCTAGTGG-0     5\n",
      "data_3p-AAACCTGCACATTAGC-0     1\n",
      "data_3p-AAACCTGCACTGTTAG-0     0\n",
      "data_3p-AAACCTGCATAGTAAG-0     0\n",
      "                              ..\n",
      "data_5p-TTTGTCATCCACGTTC-1     3\n",
      "data_5p-TTTGTCATCGCGTAGC-1    10\n",
      "data_5p-TTTGTCATCTTAACCT-1    16\n",
      "data_5p-TTTGTCATCTTACCGC-1    28\n",
      "data_5p-TTTGTCATCTTGTTTG-1    11\n",
      "Name: louvain, Length: 15476, dtype: category\n",
      "Categories (33, object): ['0', '1', '2', '3', ..., '29', '30', '31', '32']\n"
     ]
    }
   ],
   "source": [
    "print(len(adata.obs['louvain'].unique()))\n",
    "print(adata.obs['louvain'])"
   ]
  },
  {
   "cell_type": "code",
   "execution_count": null,
   "id": "33614bc8-ffdf-4626-9732-7c06feda83d2",
   "metadata": {},
   "outputs": [],
   "source": []
  }
 ],
 "metadata": {
  "kernelspec": {
   "display_name": "Python 3 (ipykernel)",
   "language": "python",
   "name": "python3"
  },
  "language_info": {
   "codemirror_mode": {
    "name": "ipython",
    "version": 3
   },
   "file_extension": ".py",
   "mimetype": "text/x-python",
   "name": "python",
   "nbconvert_exporter": "python",
   "pygments_lexer": "ipython3",
   "version": "3.10.13"
  }
 },
 "nbformat": 4,
 "nbformat_minor": 5
}
