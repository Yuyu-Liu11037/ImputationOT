{
 "cells": [
  {
   "cell_type": "code",
   "execution_count": null,
   "id": "6df0732e-ffc5-4b40-bac4-100530bac3ec",
   "metadata": {},
   "outputs": [],
   "source": [
    "import numpy as np\n",
    "import matplotlib.pyplot as plt\n",
    "import torch\n",
    "import torch.nn as nn\n",
    "import torch.optim as optim\n",
    "import ot\n",
    "import sys\n",
    "import anndata"
   ]
  },
  {
   "cell_type": "code",
   "execution_count": null,
   "id": "d3a1dfe7-f9ad-4d09-8d56-854e239d635a",
   "metadata": {},
   "outputs": [],
   "source": [
    "citeseq = anndata.read_h5ad(\"./data/citeseq_processed-001.h5ad\")"
   ]
  },
  {
   "cell_type": "code",
   "execution_count": null,
   "id": "959e59e2-1d43-43d8-9fe2-c52b72be6790",
   "metadata": {},
   "outputs": [],
   "source": [
    "X = citeseq.X\n",
    "print(\"Matrix Shape:\", X.shape)\n",
    "print(\"Number of Non-zero Elements:\", X.nnz)\n",
    "print(\"Density:\", X.nnz / (X.shape[0] * X.shape[1]))\n",
    "print(\"Minimum Value:\", X.min())\n",
    "print(\"Maximum Value:\", X.max())\n",
    "print(\"Mean Value without zeros:\", X[X != 0].mean())\n",
    "\n",
    "X = X.toarray()"
   ]
  },
  {
   "cell_type": "code",
   "execution_count": null,
   "id": "3ba35c18-f281-4688-a237-d8434cfc9157",
   "metadata": {},
   "outputs": [],
   "source": [
    "X = np.log1p(X)\n",
    "print(\"Matrix Shape:\", X.shape)\n",
    "print(\"Minimum Value:\", X.min())\n",
    "print(\"Maximum Value:\", X.max())\n",
    "print(\"Mean Value without zeros:\", X[X != 0].mean())"
   ]
  },
  {
   "cell_type": "code",
   "execution_count": null,
   "id": "52998104-fb30-458d-9d83-7f1631a33f46",
   "metadata": {},
   "outputs": [],
   "source": [
    "for _ in range(200):\n",
    "    col = np.random.randint(0, 14087)\n",
    "    print(col, int(X[:, col].max()))"
   ]
  },
  {
   "cell_type": "code",
   "execution_count": null,
   "id": "3ad3dfb3-7206-4716-93af-23f2289ca760",
   "metadata": {},
   "outputs": [],
   "source": [
    "for i in range(10000):\n",
    "    print(X[i, -1])"
   ]
  },
  {
   "cell_type": "code",
   "execution_count": null,
   "id": "25bb0c5b-a153-4d94-a73b-4b1e7ba4605b",
   "metadata": {},
   "outputs": [],
   "source": [
    "cmap = plt.get_cmap('coolwarm')\n",
    "\n",
    "plt.imshow(X[:90261 // 2, :14087 // 2], cmap=cmap, aspect='auto')\n",
    "plt.colorbar()\n",
    "plt.show()\n",
    "\n",
    "plt.imshow(X[90261 // 2:, :14087 // 2], cmap=cmap, aspect='auto')\n",
    "plt.colorbar()\n",
    "plt.show()\n",
    "\n",
    "plt.imshow(X[:90261 // 2, 14087 // 2:], cmap=cmap, aspect='auto')\n",
    "plt.colorbar()\n",
    "plt.show()\n",
    "\n",
    "plt.imshow(X[90261 // 2:, 14087 // 2:], cmap=cmap, aspect='auto')\n",
    "plt.colorbar()\n",
    "plt.show()"
   ]
  },
  {
   "cell_type": "code",
   "execution_count": null,
   "id": "447dc625-a889-4e7f-83b7-f2ce487be754",
   "metadata": {},
   "outputs": [],
   "source": [
    "from matplotlib.colors import ListedColormap\n",
    "cmap = ListedColormap(['blue', 'red'])  # 等于0的数据用蓝色，大于0的数据用红色\n",
    "\n",
    "plt.imshow(X[:90261 // 2, :14087 // 2], cmap=cmap, aspect='auto')\n",
    "plt.colorbar()\n",
    "plt.show()\n",
    "\n",
    "plt.imshow(X[90261 // 2:, :14087 // 2], cmap=cmap, aspect='auto')\n",
    "plt.colorbar()\n",
    "plt.show()\n",
    "\n",
    "plt.imshow(X[:90261 // 2, 14087 // 2:], cmap=cmap, aspect='auto')\n",
    "plt.colorbar()\n",
    "plt.show()\n",
    "\n",
    "plt.imshow(X[90261 // 2:, 14087 // 2:], cmap=cmap, aspect='auto')\n",
    "plt.colorbar()\n",
    "plt.show()"
   ]
  },
  {
   "cell_type": "code",
   "execution_count": null,
   "id": "dc45813f-9afc-48c3-b145-808a97d1db4f",
   "metadata": {},
   "outputs": [],
   "source": []
  }
 ],
 "metadata": {
  "kernelspec": {
   "display_name": "ot",
   "language": "python",
   "name": "ot"
  },
  "language_info": {
   "codemirror_mode": {
    "name": "ipython",
    "version": 3
   },
   "file_extension": ".py",
   "mimetype": "text/x-python",
   "name": "python",
   "nbconvert_exporter": "python",
   "pygments_lexer": "ipython3",
   "version": "3.12.4"
  }
 },
 "nbformat": 4,
 "nbformat_minor": 5
}
