{
 "cells": [
  {
   "cell_type": "code",
   "execution_count": 1,
   "id": "6df0732e-ffc5-4b40-bac4-100530bac3ec",
   "metadata": {},
   "outputs": [],
   "source": [
    "import numpy as np\n",
    "import pandas as pd\n",
    "import scanpy as sc\n",
    "import anndata as ad\n",
    "import torch\n",
    "import torch.nn as nn\n",
    "import torch.optim as optim\n",
    "import ot\n",
    "import sys\n",
    "import os\n",
    "import tarfile\n",
    "import scipy.io\n",
    "import h5py\n",
    "import gzip\n",
    "from scipy.sparse import issparse\n",
    "from scipy.sparse import csr_matrix"
   ]
  },
  {
   "cell_type": "code",
   "execution_count": 14,
   "id": "deb0b382-465a-4f64-a322-804916ed9a19",
   "metadata": {},
   "outputs": [
    {
     "name": "stdout",
     "output_type": "stream",
     "text": [
      "AnnData object with n_obs × n_vars = 12097 × 9979\n",
      "    obs: 'Cell', 'Batch', 'Group', 'ExpLibSize', 'sum', 'detected', 'percent_top_50', 'percent_top_100', 'percent_top_200', 'percent_top_500', 'total', 'Discard', 'size_factors'\n",
      "    var: 'Gene', 'BaseGeneMean', 'OutlierFactor', 'GeneMean', 'BatchFacBatch1', 'BatchFacBatch2', 'BatchFacBatch3', 'BatchFacBatch4', 'BatchFacBatch5', 'BatchFacBatch6', 'DEFacGroup1', 'DEFacGroup2', 'DEFacGroup3', 'DEFacGroup4', 'DEFacGroup5', 'DEFacGroup6', 'DEFacGroup7', 'mean', 'detected'\n",
      "    layers: 'counts'\n"
     ]
    }
   ],
   "source": [
    "adata = sc.read_h5ad(\"/workspace/ImputationOT/imputationot/data/sim1_norm.h5ad\")\n",
    "print(adata)\n",
    "print(adata.obs['Batch'].value_counts())\n",
    "print(adata.obs['Group'].value_counts())"
   ]
  },
  {
   "cell_type": "code",
   "execution_count": 22,
   "id": "f895723d-3d41-4584-8c66-c71779f69f8b",
   "metadata": {},
   "outputs": [
    {
     "name": "stdout",
     "output_type": "stream",
     "text": [
      "Matrix Shape: (12097, 9979)\n",
      "Density: 0.5690072737107684\n",
      "Minimum Value: 0.0\n",
      "Maximum Value: 6.739929826089321\n"
     ]
    }
   ],
   "source": [
    "X = adata.X\n",
    "print(\"Matrix Shape:\", X.shape)\n",
    "# print(\"Density:\", np.count_nonzero(X) / (X.shape[0] * X.shape[1]))\n",
    "print(\"Density:\", X.nnz / (X.shape[0] * X.shape[1]))\n",
    "print(\"Minimum Value:\", X.min())\n",
    "print(\"Maximum Value:\", X.max())"
   ]
  },
  {
   "cell_type": "code",
   "execution_count": 3,
   "id": "14dd35da-61dc-455e-ba66-7973b5faf4e3",
   "metadata": {},
   "outputs": [
    {
     "name": "stdout",
     "output_type": "stream",
     "text": [
      "AnnData object with n_obs × n_vars = 161764 × 33538\n",
      "    obs: 'barcodes', 'nCount_ADT', 'nFeature_ADT', 'nCount_RNA', 'nFeature_RNA', 'orig.ident', 'lane', 'donor', 'time', 'celltype.l1', 'celltype.l2', 'celltype.l3', 'Phase', 'Batch'\n",
      "    var: 'symbols', 'feature_type'\n",
      "AnnData object with n_obs × n_vars = 161764 × 228\n",
      "    obs: 'barcodes', 'nCount_ADT', 'nFeature_ADT', 'nCount_RNA', 'nFeature_RNA', 'orig.ident', 'lane', 'donor', 'time', 'celltype.l1', 'celltype.l2', 'celltype.l3', 'Phase', 'Batch'\n",
      "    var: 'symbols', 'feature_type'\n"
     ]
    },
    {
     "name": "stderr",
     "output_type": "stream",
     "text": [
      "/opt/conda/lib/python3.10/site-packages/anndata/_core/anndata.py:1756: UserWarning: Variable names are not unique. To make them unique, call `.var_names_make_unique`.\n",
      "  utils.warn_names_duplicates(\"var\")\n"
     ]
    },
    {
     "name": "stdout",
     "output_type": "stream",
     "text": [
      "AnnData object with n_obs × n_vars = 161764 × 33766\n",
      "    obs: 'barcodes', 'nCount_ADT', 'nFeature_ADT', 'nCount_RNA', 'nFeature_RNA', 'orig.ident', 'lane', 'donor', 'time', 'celltype.l1', 'celltype.l2', 'celltype.l3', 'Phase', 'Batch'\n",
      "    var: 'symbols', 'feature_type'\n"
     ]
    }
   ],
   "source": [
    "barcodes_file = '/workspace/ImputationOT/imputationot/data/GSM5008737_RNA_3P-barcodes.tsv.gz'\n",
    "features_file = '/workspace/ImputationOT/imputationot/data/GSM5008737_RNA_3P-features.tsv.gz'\n",
    "matrix_file = '/workspace/ImputationOT/imputationot/data/GSM5008737_RNA_3P-matrix.mtx.gz'\n",
    "\n",
    "barcodes = pd.read_csv(barcodes_file, header=None, sep='\\t')\n",
    "features = pd.read_csv(features_file, header=None, sep='\\t')\n",
    "matrix = scipy.io.mmread(matrix_file)\n",
    "\n",
    "adata_rna = ad.AnnData(X=matrix.T)\n",
    "\n",
    "adata_rna.obs['barcodes'] = barcodes[0].values\n",
    "adata_rna.var['symbols'] = features[0].values\n",
    "\n",
    "data_3P = pd.read_csv('/workspace/ImputationOT/imputationot/data/meta_data_3P.csv.gz')\n",
    "data_3P.set_index('Unnamed: 0', inplace=True)\n",
    "adata_rna.obs = adata_rna.obs.merge(data_3P, left_on='barcodes', right_index=True, how='left')\n",
    "adata_rna.var['feature_type'] = 'RNA'\n",
    "\n",
    "print(adata_rna)\n",
    "\n",
    "barcodes_file = '/workspace/ImputationOT/imputationot/data/GSM5008738_ADT_3P-barcodes.tsv.gz'\n",
    "features_file = '/workspace/ImputationOT/imputationot/data/GSM5008738_ADT_3P-features.tsv.gz'\n",
    "matrix_file = '/workspace/ImputationOT/imputationot/data/GSM5008738_ADT_3P-matrix.mtx.gz'\n",
    "\n",
    "barcodes = pd.read_csv(barcodes_file, header=None, sep='\\t')\n",
    "features = pd.read_csv(features_file, header=None, sep='\\t')\n",
    "matrix = scipy.io.mmread(matrix_file)\n",
    "\n",
    "adata_adt = ad.AnnData(X=matrix.T)\n",
    "\n",
    "adata_adt.obs['barcodes'] = barcodes[0].values\n",
    "adata_adt.var['symbols'] = features[0].values\n",
    "\n",
    "data_3P = pd.read_csv('/workspace/ImputationOT/imputationot/data/meta_data_3P.csv.gz')\n",
    "data_3P.set_index('Unnamed: 0', inplace=True)\n",
    "adata_adt.obs = adata_adt.obs.merge(data_3P, left_on='barcodes', right_index=True, how='left')\n",
    "adata_adt.var['feature_type'] = 'ADT'\n",
    "print(adata_adt)\n",
    "\n",
    "adata_combined = ad.concat([adata_rna, adata_adt], axis=1, merge='same')\n",
    "adata_combined.write(\"/workspace/ImputationOT/imputationot/data/pbmc2.h5ad\")\n",
    "print(adata_combined)"
   ]
  },
  {
   "cell_type": "code",
   "execution_count": null,
   "id": "3f171936-1354-4e4c-bf8c-13a40af25c6b",
   "metadata": {},
   "outputs": [],
   "source": []
  }
 ],
 "metadata": {
  "kernelspec": {
   "display_name": "Python 3 (ipykernel)",
   "language": "python",
   "name": "python3"
  },
  "language_info": {
   "codemirror_mode": {
    "name": "ipython",
    "version": 3
   },
   "file_extension": ".py",
   "mimetype": "text/x-python",
   "name": "python",
   "nbconvert_exporter": "python",
   "pygments_lexer": "ipython3",
   "version": "3.10.13"
  }
 },
 "nbformat": 4,
 "nbformat_minor": 5
}
