{
 "cells": [
  {
   "cell_type": "code",
   "execution_count": 15,
   "id": "6df0732e-ffc5-4b40-bac4-100530bac3ec",
   "metadata": {},
   "outputs": [],
   "source": [
    "import numpy as np\n",
    "import torch\n",
    "import torch.nn as nn\n",
    "import torch.optim as optim\n",
    "import pandas as pd\n",
    "import ot\n",
    "import sys\n",
    "import scanpy as sc\n",
    "import anndata as ad\n",
    "import os\n",
    "import tarfile\n",
    "import scipy.io\n",
    "import h5py\n",
    "from scipy.sparse import issparse\n",
    "from scipy.sparse import csr_matrix"
   ]
  },
  {
   "cell_type": "code",
   "execution_count": 23,
   "id": "d81146ba-458f-4325-9ad5-39c6b5c18bd4",
   "metadata": {},
   "outputs": [
    {
     "name": "stdout",
     "output_type": "stream",
     "text": [
      "AnnData object with n_obs × n_vars = 9409 × 60970\n",
      "    obs: 'nGene', 'nReads', 'orig.ident', 'plate.barcode', 'cell.id', 'organism', 'tissue', 'region', 'label', 'sorter', 'sort.location', 'sample', 'location', 'patient', 'percent.ercc', 'percent.ribo', 'gating', 'free_annotation', 'Number of input reads', 'Uniquely mapped reads number', 'Number of splices: Total', 'Number of splices: Annotated (sjdb)', 'Number of splices: GT/AG', 'Number of splices: GC/AG', 'Number of splices: AT/AC', 'Number of splices: Non-canonical', 'Number of reads mapped to multiple loci', 'Number of reads mapped to too many loci', 'Number of chimeric reads', 'Mapping speed, Million of reads per hour', 'Average input read length', 'Uniquely mapped reads %', 'Average mapped length', 'Mismatch rate per base, %', 'Deletion rate per base', 'Deletion average length', 'Insertion rate per base', 'Insertion average length', '% of reads mapped to multiple loci', '% of reads mapped to too many loci', '% of reads unmapped: too many mismatches', '% of reads unmapped: too short', '% of reads unmapped: other', '% of chimeric reads', 'ERCC-00002', 'ERCC-00003', 'ERCC-00004', 'ERCC-00009', 'ERCC-00012', 'ERCC-00013', 'ERCC-00014', 'ERCC-00016', 'ERCC-00017', 'ERCC-00019', 'ERCC-00022', 'ERCC-00024', 'ERCC-00025', 'ERCC-00028', 'ERCC-00031', 'ERCC-00033', 'ERCC-00034', 'ERCC-00035', 'ERCC-00039', 'ERCC-00040', 'ERCC-00041', 'ERCC-00042', 'ERCC-00043', 'ERCC-00044', 'ERCC-00046', 'ERCC-00048', 'ERCC-00051', 'ERCC-00053', 'ERCC-00054', 'ERCC-00057', 'ERCC-00058', 'ERCC-00059', 'ERCC-00060', 'ERCC-00061', 'ERCC-00062', 'ERCC-00067', 'ERCC-00069', 'ERCC-00071', 'ERCC-00073', 'ERCC-00074', 'ERCC-00075', 'ERCC-00076', 'ERCC-00077', 'ERCC-00078', 'ERCC-00079', 'ERCC-00081', 'ERCC-00083', 'ERCC-00084', 'ERCC-00085', 'ERCC-00086', 'ERCC-00092', 'ERCC-00095', 'ERCC-00096', 'ERCC-00097', 'ERCC-00098', 'ERCC-00099', 'ERCC-00104', 'ERCC-00108', 'ERCC-00109', 'ERCC-00111', 'ERCC-00112', 'ERCC-00113', 'ERCC-00116', 'ERCC-00117', 'ERCC-00120', 'ERCC-00123', 'ERCC-00126', 'ERCC-00130', 'ERCC-00131', 'ERCC-00134', 'ERCC-00136', 'ERCC-00137', 'ERCC-00138', 'ERCC-00142', 'ERCC-00143', 'ERCC-00144', 'ERCC-00145', 'ERCC-00147', 'ERCC-00148', 'ERCC-00150', 'ERCC-00154', 'ERCC-00156', 'ERCC-00157', 'ERCC-00158', 'ERCC-00160', 'ERCC-00162', 'ERCC-00163', 'ERCC-00164', 'ERCC-00165', 'ERCC-00168', 'ERCC-00170', 'ERCC-00171', 'compartment'\n",
      "    obsm: 'X_Compartment_tSNE', 'X_tSNE'\n"
     ]
    }
   ],
   "source": [
    "adata = ad.read_h5ad('/workspace/ImputationOT/data/facs_normal_lung_blood_scanpy.20200205.RC4.h5ad')\n",
    "print(adata)"
   ]
  },
  {
   "cell_type": "code",
   "execution_count": 42,
   "id": "8a75cb55-5289-4fba-bac7-fbb55c05b74f",
   "metadata": {},
   "outputs": [
    {
     "name": "stdout",
     "output_type": "stream",
     "text": [
      "index\n",
      "A1_B002014.gencode.vH29           Capillary Aerocyte_P2\n",
      "A1_B003138.gencode.vH29           Capillary Aerocyte_P2\n",
      "A1_B003140.gencode.vH29     Capillary Intermediate 1_P2\n",
      "A10_B003138.gencode.vH29    Capillary Intermediate 1_P2\n",
      "A12_B003141.gencode.vH29          Capillary Aerocyte_P2\n",
      "                                       ...             \n",
      "M5_B001771.gencode.vH29                     Ciliated_P3\n",
      "N2_B001769.gencode.vH29                     Ciliated_P3\n",
      "N2_B002460.gencode.vH29                     Ciliated_P3\n",
      "O2_B001774.gencode.vH29                     Ciliated_P3\n",
      "O7_B001774.gencode.vH29                     Ciliated_P3\n",
      "Name: free_annotation, Length: 9409, dtype: category\n",
      "Categories (95, object): ['Adventitial Fibroblast_P1', 'Adventitial Fibroblast_P2', 'Adventitial Fibroblast_P3', 'Airway Smooth Muscle_P1', ..., 'Vascular Smooth Muscle_P1', 'Vascular Smooth Muscle_P2', 'Vascular Smooth Muscle_P3', 'Vein_P2']\n"
     ]
    }
   ],
   "source": [
    "print(adata.obs['free_annotation'])"
   ]
  },
  {
   "cell_type": "code",
   "execution_count": 40,
   "id": "694cce2b-724b-4713-bbf4-eee90fdeb3f1",
   "metadata": {},
   "outputs": [
    {
     "name": "stdout",
     "output_type": "stream",
     "text": [
      "sort.location\n",
      "biohub     7015\n",
      "beckman    1642\n",
      "sim1        752\n",
      "Name: count, dtype: int64\n"
     ]
    }
   ],
   "source": [
    "print(adata.obs['sort.location'].value_counts())"
   ]
  },
  {
   "cell_type": "code",
   "execution_count": 29,
   "id": "f895723d-3d41-4584-8c66-c71779f69f8b",
   "metadata": {},
   "outputs": [
    {
     "name": "stdout",
     "output_type": "stream",
     "text": [
      "Matrix Shape: (9409, 60970)\n",
      "Density: 0.04190173273600859\n",
      "Minimum Value: 0.0\n",
      "Maximum Value: 13.540438\n"
     ]
    }
   ],
   "source": [
    "X = adata.X\n",
    "print(\"Matrix Shape:\", X.shape)\n",
    "print(\"Density:\", np.count_nonzero(X) / (X.shape[0] * X.shape[1]))\n",
    "# print(\"Density:\", X.nnz / (X.shape[0] * X.shape[1]))\n",
    "print(\"Minimum Value:\", X.min())\n",
    "print(\"Maximum Value:\", X.max())"
   ]
  },
  {
   "cell_type": "code",
   "execution_count": 4,
   "id": "bb3110d1-82c1-48c8-a66a-40bfdc21ac38",
   "metadata": {},
   "outputs": [
    {
     "name": "stdout",
     "output_type": "stream",
     "text": [
      "Batch\n",
      "1    13086\n",
      "8    12745\n",
      "7    11752\n",
      "6    11170\n",
      "5    11017\n",
      "4    10553\n",
      "9    10315\n",
      "2     8618\n",
      "3     8243\n",
      "Name: count, dtype: int64\n"
     ]
    }
   ],
   "source": [
    "batch_counts = adata.obs['Batch'].value_counts()\n",
    "print(batch_counts)"
   ]
  },
  {
   "cell_type": "code",
   "execution_count": 17,
   "id": "1fd21bd5-b755-41b9-93f6-46906a13af56",
   "metadata": {},
   "outputs": [
    {
     "name": "stdout",
     "output_type": "stream",
     "text": [
      "28\n",
      "RV8919578_AAACCTGAGAAACCTA-1    NK CD56(bright)\n",
      "RV8919578_AAACCTGAGAGCAATT-1            Naïve B\n",
      "RV8919578_AAACCTGAGAGCTGGT-1                pDC\n",
      "RV8919578_AAACCTGAGCGAAGGG-1       NK CD56(dim)\n",
      "RV8919578_AAACCTGAGCGATGAC-1    NK CD56(bright)\n",
      "                                     ...       \n",
      "RV8959686_TTTGTCAGTATGAATG-1        CD4 naïve T\n",
      "RV8959686_TTTGTCAGTCGGCATC-1            Naïve B\n",
      "RV8959686_TTTGTCAGTGACAAAT-1    NK CD56(bright)\n",
      "RV8959686_TTTGTCAGTTGCCTCT-1        CD4 naïve T\n",
      "RV8959686_TTTGTCATCAGTCCCT-1          Platelets\n",
      "Name: Annotation, Length: 97499, dtype: category\n",
      "Categories (28, object): ['CD4 memory T', 'CD4 naïve T', 'CD8 memory T', 'CD8 naïve T', ..., 'cDC2', 'cDC3', 'pDC', 'γδT']\n"
     ]
    }
   ],
   "source": [
    "print(len(adata.obs['Annotation'].unique()))\n",
    "print(adata.obs['Annotation'])"
   ]
  },
  {
   "cell_type": "code",
   "execution_count": 16,
   "id": "3cc84df2-f5a4-42cf-9034-0dd12413f21e",
   "metadata": {},
   "outputs": [
    {
     "name": "stdout",
     "output_type": "stream",
     "text": [
      "9\n",
      "RV8919578_AAACCTGAGAAACCTA-1    1\n",
      "RV8919578_AAACCTGAGAGCAATT-1    1\n",
      "RV8919578_AAACCTGAGAGCTGGT-1    1\n",
      "RV8919578_AAACCTGAGCGAAGGG-1    1\n",
      "RV8919578_AAACCTGAGCGATGAC-1    1\n",
      "                               ..\n",
      "RV8959686_TTTGTCAGTATGAATG-1    9\n",
      "RV8959686_TTTGTCAGTCGGCATC-1    9\n",
      "RV8959686_TTTGTCAGTGACAAAT-1    9\n",
      "RV8959686_TTTGTCAGTTGCCTCT-1    9\n",
      "RV8959686_TTTGTCATCAGTCCCT-1    9\n",
      "Name: Batch, Length: 97499, dtype: category\n",
      "Categories (9, object): ['1', '2', '3', '4', ..., '6', '7', '8', '9']\n"
     ]
    }
   ],
   "source": [
    "print(len(adata.obs['Batch'].unique()))\n",
    "print(adata.obs['Batch'])"
   ]
  },
  {
   "cell_type": "code",
   "execution_count": null,
   "id": "33614bc8-ffdf-4626-9732-7c06feda83d2",
   "metadata": {},
   "outputs": [],
   "source": []
  }
 ],
 "metadata": {
  "kernelspec": {
   "display_name": "Python 3 (ipykernel)",
   "language": "python",
   "name": "python3"
  },
  "language_info": {
   "codemirror_mode": {
    "name": "ipython",
    "version": 3
   },
   "file_extension": ".py",
   "mimetype": "text/x-python",
   "name": "python",
   "nbconvert_exporter": "python",
   "pygments_lexer": "ipython3",
   "version": "3.10.13"
  }
 },
 "nbformat": 4,
 "nbformat_minor": 5
}
