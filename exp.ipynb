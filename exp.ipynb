{
 "cells": [
  {
   "cell_type": "code",
   "execution_count": 1,
   "id": "6df0732e-ffc5-4b40-bac4-100530bac3ec",
   "metadata": {},
   "outputs": [],
   "source": [
    "import numpy as np\n",
    "import matplotlib.pyplot as plt\n",
    "import torch\n",
    "import torch.nn as nn\n",
    "import torch.optim as optim\n",
    "import pandas as pd\n",
    "import ot\n",
    "import sys\n",
    "import anndata\n",
    "import scanpy as sc\n",
    "from scipy.sparse import issparse\n",
    "from scipy.sparse import csr_matrix"
   ]
  },
  {
   "cell_type": "code",
   "execution_count": 2,
   "id": "c7a3eade-2785-4c8c-8303-4290d2a0fbcf",
   "metadata": {},
   "outputs": [],
   "source": [
    "def compare_sparse_anndata_X(adata1, adata2):\n",
    "    # 检查两个矩阵是否都是稀疏矩阵\n",
    "    if not (issparse(adata1.X) and issparse(adata2.X)):\n",
    "        return False\n",
    "    \n",
    "    # 转换为 CSR 格式进行比较\n",
    "    return (adata1.X != adata2.X).nnz == 0\n"
   ]
  },
  {
   "cell_type": "code",
   "execution_count": 6,
   "id": "d3a1dfe7-f9ad-4d09-8d56-854e239d635a",
   "metadata": {
    "scrolled": true
   },
   "outputs": [
    {
     "name": "stderr",
     "output_type": "stream",
     "text": [
      "/opt/conda/lib/python3.10/site-packages/anndata/_core/anndata.py:1820: UserWarning: Variable names are not unique. To make them unique, call `.var_names_make_unique`.\n",
      "  utils.warn_names_duplicates(\"var\")\n"
     ]
    },
    {
     "data": {
      "text/plain": [
       "<bound method AnnData.var_names_make_unique of AnnData object with n_obs × n_vars = 90261 × 14087\n",
       "    obs: 'GEX_n_genes_by_counts', 'GEX_pct_counts_mt', 'GEX_size_factors', 'GEX_phase', 'ADT_n_antibodies_by_counts', 'ADT_total_counts', 'ADT_iso_count', 'cell_type', 'batch', 'ADT_pseudotime_order', 'GEX_pseudotime_order', 'Samplename', 'Site', 'DonorNumber', 'Modality', 'VendorLot', 'DonorID', 'DonorAge', 'DonorBMI', 'DonorBloodType', 'DonorRace', 'Ethnicity', 'DonorGender', 'QCMeds', 'DonorSmoker', 'is_train'\n",
       "    var: 'feature_types', 'gene_id'\n",
       "    uns: 'dataset_id', 'genome', 'organism'\n",
       "    obsm: 'ADT_X_pca', 'ADT_X_umap', 'ADT_isotype_controls', 'GEX_X_pca', 'GEX_X_umap'\n",
       "    layers: 'counts'>"
      ]
     },
     "execution_count": 6,
     "metadata": {},
     "output_type": "execute_result"
    }
   ],
   "source": [
    "adata = anndata.read_h5ad(\"/workspace/ImputationOT/data/citeseq_processed.h5ad\")\n",
    "adata.var_names_make_unique"
   ]
  },
  {
   "cell_type": "code",
   "execution_count": 8,
   "id": "62414316-eebb-4904-9a61-2db559a240db",
   "metadata": {
    "scrolled": true
   },
   "outputs": [
    {
     "name": "stdout",
     "output_type": "stream",
     "text": [
      "AL627309.5    False\n",
      "LINC01409     False\n",
      "LINC01128     False\n",
      "LINC00115      True\n",
      "FAM41C        False\n",
      "              ...  \n",
      "MT-CYB        False\n",
      "AC011043.1    False\n",
      "AL592183.1    False\n",
      "AC240274.1    False\n",
      "AC007325.4    False\n",
      "Name: highly_variable, Length: 13953, dtype: bool\n",
      "AL627309.5    False\n",
      "LINC01409     False\n",
      "LINC01128     False\n",
      "LINC00115     False\n",
      "FAM41C        False\n",
      "              ...  \n",
      "HLA-E          True\n",
      "CD82           True\n",
      "CD101          True\n",
      "CD88           True\n",
      "CD224          True\n",
      "Name: feature_types, Length: 14087, dtype: bool\n",
      "\n",
      "View of AnnData object with n_obs × n_vars = 90261 × 2134\n",
      "    obs: 'GEX_n_genes_by_counts', 'GEX_pct_counts_mt', 'GEX_size_factors', 'GEX_phase', 'ADT_n_antibodies_by_counts', 'ADT_total_counts', 'ADT_iso_count', 'cell_type', 'batch', 'ADT_pseudotime_order', 'GEX_pseudotime_order', 'Samplename', 'Site', 'DonorNumber', 'Modality', 'VendorLot', 'DonorID', 'DonorAge', 'DonorBMI', 'DonorBloodType', 'DonorRace', 'Ethnicity', 'DonorGender', 'QCMeds', 'DonorSmoker', 'is_train'\n",
      "    var: 'feature_types', 'gene_id'\n",
      "    uns: 'dataset_id', 'genome', 'organism', 'log1p'\n",
      "    obsm: 'ADT_X_pca', 'ADT_X_umap', 'ADT_isotype_controls', 'GEX_X_pca', 'GEX_X_umap'\n",
      "    layers: 'counts'\n",
      "\n",
      "AnnData object with n_obs × n_vars = 90261 × 14087\n",
      "    obs: 'GEX_n_genes_by_counts', 'GEX_pct_counts_mt', 'GEX_size_factors', 'GEX_phase', 'ADT_n_antibodies_by_counts', 'ADT_total_counts', 'ADT_iso_count', 'cell_type', 'batch', 'ADT_pseudotime_order', 'GEX_pseudotime_order', 'Samplename', 'Site', 'DonorNumber', 'Modality', 'VendorLot', 'DonorID', 'DonorAge', 'DonorBMI', 'DonorBloodType', 'DonorRace', 'Ethnicity', 'DonorGender', 'QCMeds', 'DonorSmoker', 'is_train'\n",
      "    var: 'feature_types', 'gene_id'\n",
      "    obsm: 'ADT_X_pca', 'ADT_X_umap', 'ADT_isotype_controls', 'GEX_X_pca', 'GEX_X_umap'\n",
      "    layers: 'counts'\n"
     ]
    },
    {
     "name": "stderr",
     "output_type": "stream",
     "text": [
      "/opt/conda/lib/python3.10/site-packages/anndata/_core/anndata.py:1820: UserWarning: Variable names are not unique. To make them unique, call `.var_names_make_unique`.\n",
      "  utils.warn_names_duplicates(\"var\")\n"
     ]
    }
   ],
   "source": [
    "## preprocess1\n",
    "adata_GEX1 = adata[:, adata.var['feature_types'] == 'GEX'].copy()\n",
    "adata_ADT1 = adata[:, adata.var['feature_types'] == 'ADT'].copy()\n",
    "### step 1\n",
    "sc.pp.normalize_total(adata_GEX1, target_sum=1e4)\n",
    "sc.pp.normalize_total(adata_ADT1, target_sum=1e4)\n",
    "adata1 = adata.copy()\n",
    "adata1.X[:, adata.var['feature_types'] == 'GEX'] = adata_GEX1.X\n",
    "adata1.X[:, adata.var['feature_types'] == 'ADT'] = adata_ADT1.X\n",
    "### step 2\n",
    "sc.pp.log1p(adata1)\n",
    "### step 3\n",
    "adata_GEX1 = adata1[:, adata.var['feature_types'] == 'GEX'].copy()\n",
    "adata_ADT1 = adata1[:, adata.var['feature_types'] == 'ADT'].copy()\n",
    "sc.pp.highly_variable_genes(\n",
    "    adata_GEX1,\n",
    "    n_top_genes=2000\n",
    ")\n",
    "print(adata_GEX1.var['highly_variable'])\n",
    "print(adata1.var['feature_types'] == 'ADT')\n",
    "print()\n",
    "\n",
    "adata1 = adata1[:, (adata1.var['feature_types'] == 'ADT') | (adata_GEX1.var['highly_variable'])]\n",
    "print(adata1)\n",
    "print()"
   ]
  },
  {
   "cell_type": "code",
   "execution_count": 15,
   "id": "7ee32f1d-50ac-4a80-b414-2e932b21dca3",
   "metadata": {},
   "outputs": [
    {
     "name": "stdout",
     "output_type": "stream",
     "text": [
      "GEX data\n",
      "Matrix Shape: (90261, 13953)\n",
      "Density: 0.10429761495639489\n",
      "Minimum Value: 0.0\n",
      "Maximum Value: 21078940.0\n",
      "ADT data\n",
      "Matrix Shape: (90261, 134)\n",
      "Density: 0.8384980405910752\n",
      "Minimum Value: 0.0\n",
      "Maximum Value: 7.910906\n",
      "\n"
     ]
    },
    {
     "name": "stderr",
     "output_type": "stream",
     "text": [
      "/opt/conda/lib/python3.10/site-packages/anndata/_core/anndata.py:1820: UserWarning: Variable names are not unique. To make them unique, call `.var_names_make_unique`.\n",
      "  utils.warn_names_duplicates(\"var\")\n"
     ]
    },
    {
     "name": "stdout",
     "output_type": "stream",
     "text": [
      "GEX data\n",
      "Matrix Shape: (90261, 2000)\n",
      "Density: 0.0811086681955662\n",
      "Minimum Value: 0.0\n",
      "Maximum Value: 9.116693\n",
      "ADT data\n",
      "Matrix Shape: (90261, 134)\n",
      "Density: 0.8384980405910752\n",
      "Minimum Value: 0.0\n",
      "Maximum Value: 7.1100817\n"
     ]
    }
   ],
   "source": [
    "X = adata.X\n",
    "X = X[:, :13953]\n",
    "print(\"GEX data\")\n",
    "print(\"Matrix Shape:\", X.shape)\n",
    "print(\"Density:\", X.nnz / (X.shape[0] * X.shape[1]))\n",
    "print(\"Minimum Value:\", X.min())\n",
    "print(\"Maximum Value:\", X.max())\n",
    "\n",
    "X = adata.X\n",
    "X = X[:, 13953:]\n",
    "print(\"ADT data\")\n",
    "print(\"Matrix Shape:\", X.shape)\n",
    "print(\"Density:\", X.nnz / (X.shape[0] * X.shape[1]))\n",
    "print(\"Minimum Value:\", X.min())\n",
    "print(\"Maximum Value:\", X.max())\n",
    "print()\n",
    "\n",
    "### preprocess2\n",
    "adata_GEX2 = adata[:, adata.var[\"feature_types\"] == \"GEX\"].copy()\n",
    "adata_ADT2 = adata[:, adata.var[\"feature_types\"] == \"ADT\"].copy()\n",
    "### step 1\n",
    "sc.pp.normalize_total(adata_GEX2, target_sum=1e4)\n",
    "sc.pp.normalize_total(adata_ADT2, target_sum=1e4)\n",
    "### step 2\n",
    "sc.pp.log1p(adata_GEX2)\n",
    "sc.pp.log1p(adata_ADT2)\n",
    "### step 3\n",
    "sc.pp.highly_variable_genes(\n",
    "    adata_GEX2,\n",
    "    n_top_genes=2000,\n",
    "    subset=True\n",
    ")\n",
    "adata2 = anndata.concat([adata_GEX2, adata_ADT2], axis=1, merge=\"same\")   # X(:,1): GEX, X(:,2): ADT\n",
    "\n",
    "X = adata2.X\n",
    "X = X[:, :2000]\n",
    "print(\"GEX data\")\n",
    "print(\"Matrix Shape:\", X.shape)\n",
    "print(\"Density:\", X.nnz / (X.shape[0] * X.shape[1]))\n",
    "print(\"Minimum Value:\", X.min())\n",
    "print(\"Maximum Value:\", X.max())\n",
    "\n",
    "X = adata2.X\n",
    "X = X[:, 2000:]\n",
    "print(\"ADT data\")\n",
    "print(\"Matrix Shape:\", X.shape)\n",
    "print(\"Density:\", X.nnz / (X.shape[0] * X.shape[1]))\n",
    "print(\"Minimum Value:\", X.min())\n",
    "print(\"Maximum Value:\", X.max())"
   ]
  },
  {
   "cell_type": "code",
   "execution_count": 12,
   "id": "9c88b7c6-d907-4de4-8d6c-ac1016ed00f2",
   "metadata": {},
   "outputs": [
    {
     "name": "stdout",
     "output_type": "stream",
     "text": [
      "False\n"
     ]
    }
   ],
   "source": [
    "# print(compare_sparse_anndata_X(adata_GEX1, adata_GEX2))\n",
    "# print(compare_sparse_anndata_X(adata_ADT1, adata_ADT2))\n",
    "print(compare_sparse_anndata_X(adata1, adata2))"
   ]
  },
  {
   "cell_type": "code",
   "execution_count": null,
   "id": "a30f9250-1ecb-4f60-a796-eba0ab29e5d9",
   "metadata": {},
   "outputs": [],
   "source": []
  }
 ],
 "metadata": {
  "kernelspec": {
   "display_name": "Python 3 (ipykernel)",
   "language": "python",
   "name": "python3"
  },
  "language_info": {
   "codemirror_mode": {
    "name": "ipython",
    "version": 3
   },
   "file_extension": ".py",
   "mimetype": "text/x-python",
   "name": "python",
   "nbconvert_exporter": "python",
   "pygments_lexer": "ipython3",
   "version": "3.10.13"
  }
 },
 "nbformat": 4,
 "nbformat_minor": 5
}
