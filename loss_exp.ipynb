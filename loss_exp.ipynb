{
 "cells": [
  {
   "cell_type": "code",
   "execution_count": 1,
   "id": "4584b435-2f57-4ac3-9c81-4a709d05fa5f",
   "metadata": {},
   "outputs": [],
   "source": [
    "import torch\n",
    "import ot\n",
    "import numpy as np\n",
    "from geomloss import SamplesLoss\n",
    "from scipy.stats import pearsonr"
   ]
  },
  {
   "cell_type": "code",
   "execution_count": 20,
   "id": "e9db7d6a-ffb6-4bea-8ca0-1137912a0a62",
   "metadata": {},
   "outputs": [
    {
     "name": "stdout",
     "output_type": "stream",
     "text": [
      "emd: 4.392861366271973\n",
      "sinkhorn (pot library): 4.392862319946289\n",
      "wasserstein: 1.2221554517745972\n",
      "swd: 1.412903904914856\n",
      "sinkhorn (geomloss library): 9.99937629699707\n"
     ]
    }
   ],
   "source": [
    "a = torch.randn(3000, 10)\n",
    "b = torch.ones(3000, 10)\n",
    "# print(a)\n",
    "# print(b)\n",
    "\n",
    "a_weights = torch.ones(3000) / 3000\n",
    "b_weights = torch.ones(3000) / 3000\n",
    "cost = ot.dist(a, b, metric='euclidean')\n",
    "print('emd:', ot.emd2(a_weights, b_weights, cost).item())\n",
    "print('sinkhorn (pot library):', ot.sinkhorn2(a_weights, b_weights, cost, reg=1).item())\n",
    "print('wasserstein:', ot.wasserstein_1d(a[0], b[0], p=1).item())\n",
    "print('swd:', ot.sliced_wasserstein_distance(a, b).item())\n",
    "print('sinkhorn (geomloss library):', SamplesLoss(\"sinkhorn\", p=2, backend=\"tensorized\")(a, b).item())"
   ]
  },
  {
   "cell_type": "code",
   "execution_count": 2,
   "id": "134a0957-5939-4a64-93df-59bf63d0a42c",
   "metadata": {},
   "outputs": [
    {
     "name": "stdout",
     "output_type": "stream",
     "text": [
      "tensor([[-0.1333],\n",
      "        [-1.3103],\n",
      "        [-0.4184],\n",
      "        ...,\n",
      "        [ 0.6434],\n",
      "        [ 0.9766],\n",
      "        [ 0.0996]])\n",
      "tensor([[-0.0781],\n",
      "        [-0.7905],\n",
      "        [ 2.3039],\n",
      "        ...,\n",
      "        [ 0.7973],\n",
      "        [ 3.2061],\n",
      "        [-0.8517]])\n",
      "torch.Size([3000, 3000])\n"
     ]
    },
    {
     "name": "stderr",
     "output_type": "stream",
     "text": [
      "/opt/conda/envs/ot/lib/python3.8/site-packages/ot/lp/__init__.py:571: UserWarning: numItermax reached before optimality. Try to increase numItermax.\n",
      "  check_result(result_code)\n",
      "/opt/conda/envs/ot/lib/python3.8/site-packages/ot/lp/solver_1d.py:41: UserWarning: The use of `x.T` on tensors of dimension other than 2 to reverse their shape is deprecated and it will throw an error in a future release. Consider `x.mT` to transpose batches of matrices or `x.permute(*torch.arange(x.ndim - 1, -1, -1))` to reverse the dimensions of a tensor. (Triggered internally at /opt/conda/conda-bld/pytorch_1712608851799/work/aten/src/ATen/native/TensorShape.cpp:3675.)\n",
      "  cws = cws.T.contiguous()\n"
     ]
    },
    {
     "name": "stdout",
     "output_type": "stream",
     "text": [
      "emd: 0.05739673227071762\n",
      "sinkhorn (pot library): 0.7066322565078735\n",
      "wasserstein: 0.05525568127632141\n",
      "swd: 0.06788501143455505\n",
      "sinkhorn (geomloss library): -0.00019037211313843727\n"
     ]
    }
   ],
   "source": [
    "a = torch.randn(3000, 1)\n",
    "b = torch.randn(3000, 1)\n",
    "print(a)\n",
    "print(b)\n",
    "\n",
    "a_weights = torch.ones(3000) / 3000\n",
    "b_weights = torch.ones(3000) / 3000\n",
    "cost = ot.dist(a, b, metric='euclidean')\n",
    "print(cost.shape)\n",
    "print('emd:', ot.emd2(a_weights, b_weights, cost).item())\n",
    "print('sinkhorn (pot library):', ot.sinkhorn2(a_weights, b_weights, cost, reg=1).item())\n",
    "print('wasserstein:', ot.wasserstein_1d(a[0], b[0], p=1).item())\n",
    "print('swd:', ot.sliced_wasserstein_distance(a, b).item())\n",
    "print('sinkhorn (geomloss library):', SamplesLoss(\"sinkhorn\", p=2, backend=\"tensorized\")(a, b).item())"
   ]
  },
  {
   "cell_type": "code",
   "execution_count": 4,
   "id": "a52fab39-1ab9-4215-90e4-c3e210375485",
   "metadata": {},
   "outputs": [
    {
     "name": "stdout",
     "output_type": "stream",
     "text": [
      "-0.008090230282352303\n"
     ]
    }
   ],
   "source": [
    "a = torch.randn(10000, 1)\n",
    "b = torch.randn(10000, 1)\n",
    "print(pearsonr(a.flatten(), b.flatten())[0])"
   ]
  },
  {
   "cell_type": "code",
   "execution_count": null,
   "id": "a1026f32-4bd7-4ec4-b29f-7f1a13d39a08",
   "metadata": {},
   "outputs": [],
   "source": []
  },
  {
   "cell_type": "code",
   "execution_count": null,
   "id": "c62feac9-5be9-4d65-ace8-d71a4f0ed199",
   "metadata": {},
   "outputs": [],
   "source": []
  }
 ],
 "metadata": {
  "kernelspec": {
   "display_name": "Python (ot)",
   "language": "python",
   "name": "ot"
  },
  "language_info": {
   "codemirror_mode": {
    "name": "ipython",
    "version": 3
   },
   "file_extension": ".py",
   "mimetype": "text/x-python",
   "name": "python",
   "nbconvert_exporter": "python",
   "pygments_lexer": "ipython3",
   "version": "3.8.19"
  }
 },
 "nbformat": 4,
 "nbformat_minor": 5
}
